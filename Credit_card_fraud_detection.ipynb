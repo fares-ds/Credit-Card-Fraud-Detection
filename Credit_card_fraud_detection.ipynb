{
 "cells": [
  {
   "cell_type": "markdown",
   "metadata": {},
   "source": [
    "# Credit Card Fraud Detection\n",
    "\n",
    "## Problem Statement:\n",
    "\n",
    "The Credit Card Fraud Detection Problem includes modeling past credit card transactions with the knowledge of the ones that turned out to be fraud. This model is then used to identify whether a new transaction is fraudulent or not. Our aim here is to detect 100% of the fraudulent transactions while minimizing the incorrect fraud classifications.\n",
    "\n",
    "#### DataSet : \n",
    "\n",
    "The dataset that is used for credit card fraud detection is derived from the following Kaggle URL : [Credit Card Fraud Detection](https://www.kaggle.com/mlg-ulb/creditcardfraud)\n",
    "\n",
    "#### Observations\n",
    "\n",
    "- The data set is highly skewed, consisting of `492` frauds in a total of `284,807` observations. This resulted in only `0.172%` fraud cases. This skewed set is justified by the low number of fraudulent transactions.\n",
    "- The dataset consists of numerical values from the `28` ‘Principal Component Analysis (PCA)’ transformed features, namely V1 to V28. Furthermore, there is no metadata about the original features provided, so pre-analysis or feature study could not be done.\n",
    "- The ‘Time’ and ‘Amount’ features are not transformed data.\n",
    "- There is no missing value in the dataset.\n",
    "\n",
    "Before getting our hands dirty with the data, first step is to frame the business question. Having clarity on below questions is very crucial because the solution that is being developed will make sense only if we have well stated problem.\n",
    "\n",
    "#### Business questions to brainstorm:\n",
    "Since all features are anonymous, we will focus our analysis on non-anonymized features: `Time`, `Amount`\n",
    "1. How different are the amount of money used in different transactions classes?\n",
    "2. Do fraudulant transactions occur more often during certain frame?\n"
   ]
  },
  {
   "cell_type": "code",
   "execution_count": 1,
   "metadata": {},
   "outputs": [],
   "source": [
    "import pandas as pd\n",
    "import numpy as np\n",
    "import matplotlib.pyplot as plt\n",
    "import seaborn as sns\n",
    "\n",
    "%matplotlib inline\n",
    "sns.set_style(\"whitegrid\")"
   ]
  },
  {
   "cell_type": "code",
   "execution_count": 2,
   "metadata": {},
   "outputs": [
    {
     "data": {
      "text/html": [
       "<div>\n",
       "<style scoped>\n",
       "    .dataframe tbody tr th:only-of-type {\n",
       "        vertical-align: middle;\n",
       "    }\n",
       "\n",
       "    .dataframe tbody tr th {\n",
       "        vertical-align: top;\n",
       "    }\n",
       "\n",
       "    .dataframe thead th {\n",
       "        text-align: right;\n",
       "    }\n",
       "</style>\n",
       "<table border=\"1\" class=\"dataframe\">\n",
       "  <thead>\n",
       "    <tr style=\"text-align: right;\">\n",
       "      <th></th>\n",
       "      <th>Time</th>\n",
       "      <th>V1</th>\n",
       "      <th>V2</th>\n",
       "      <th>V3</th>\n",
       "      <th>V4</th>\n",
       "      <th>V5</th>\n",
       "      <th>V6</th>\n",
       "      <th>V7</th>\n",
       "      <th>V8</th>\n",
       "      <th>V9</th>\n",
       "      <th>...</th>\n",
       "      <th>V21</th>\n",
       "      <th>V22</th>\n",
       "      <th>V23</th>\n",
       "      <th>V24</th>\n",
       "      <th>V25</th>\n",
       "      <th>V26</th>\n",
       "      <th>V27</th>\n",
       "      <th>V28</th>\n",
       "      <th>Amount</th>\n",
       "      <th>Class</th>\n",
       "    </tr>\n",
       "  </thead>\n",
       "  <tbody>\n",
       "    <tr>\n",
       "      <th>0</th>\n",
       "      <td>0.0</td>\n",
       "      <td>-1.359807</td>\n",
       "      <td>-0.072781</td>\n",
       "      <td>2.536347</td>\n",
       "      <td>1.378155</td>\n",
       "      <td>-0.338321</td>\n",
       "      <td>0.462388</td>\n",
       "      <td>0.239599</td>\n",
       "      <td>0.098698</td>\n",
       "      <td>0.363787</td>\n",
       "      <td>...</td>\n",
       "      <td>-0.018307</td>\n",
       "      <td>0.277838</td>\n",
       "      <td>-0.110474</td>\n",
       "      <td>0.066928</td>\n",
       "      <td>0.128539</td>\n",
       "      <td>-0.189115</td>\n",
       "      <td>0.133558</td>\n",
       "      <td>-0.021053</td>\n",
       "      <td>149.62</td>\n",
       "      <td>0</td>\n",
       "    </tr>\n",
       "    <tr>\n",
       "      <th>1</th>\n",
       "      <td>0.0</td>\n",
       "      <td>1.191857</td>\n",
       "      <td>0.266151</td>\n",
       "      <td>0.166480</td>\n",
       "      <td>0.448154</td>\n",
       "      <td>0.060018</td>\n",
       "      <td>-0.082361</td>\n",
       "      <td>-0.078803</td>\n",
       "      <td>0.085102</td>\n",
       "      <td>-0.255425</td>\n",
       "      <td>...</td>\n",
       "      <td>-0.225775</td>\n",
       "      <td>-0.638672</td>\n",
       "      <td>0.101288</td>\n",
       "      <td>-0.339846</td>\n",
       "      <td>0.167170</td>\n",
       "      <td>0.125895</td>\n",
       "      <td>-0.008983</td>\n",
       "      <td>0.014724</td>\n",
       "      <td>2.69</td>\n",
       "      <td>0</td>\n",
       "    </tr>\n",
       "    <tr>\n",
       "      <th>2</th>\n",
       "      <td>1.0</td>\n",
       "      <td>-1.358354</td>\n",
       "      <td>-1.340163</td>\n",
       "      <td>1.773209</td>\n",
       "      <td>0.379780</td>\n",
       "      <td>-0.503198</td>\n",
       "      <td>1.800499</td>\n",
       "      <td>0.791461</td>\n",
       "      <td>0.247676</td>\n",
       "      <td>-1.514654</td>\n",
       "      <td>...</td>\n",
       "      <td>0.247998</td>\n",
       "      <td>0.771679</td>\n",
       "      <td>0.909412</td>\n",
       "      <td>-0.689281</td>\n",
       "      <td>-0.327642</td>\n",
       "      <td>-0.139097</td>\n",
       "      <td>-0.055353</td>\n",
       "      <td>-0.059752</td>\n",
       "      <td>378.66</td>\n",
       "      <td>0</td>\n",
       "    </tr>\n",
       "    <tr>\n",
       "      <th>3</th>\n",
       "      <td>1.0</td>\n",
       "      <td>-0.966272</td>\n",
       "      <td>-0.185226</td>\n",
       "      <td>1.792993</td>\n",
       "      <td>-0.863291</td>\n",
       "      <td>-0.010309</td>\n",
       "      <td>1.247203</td>\n",
       "      <td>0.237609</td>\n",
       "      <td>0.377436</td>\n",
       "      <td>-1.387024</td>\n",
       "      <td>...</td>\n",
       "      <td>-0.108300</td>\n",
       "      <td>0.005274</td>\n",
       "      <td>-0.190321</td>\n",
       "      <td>-1.175575</td>\n",
       "      <td>0.647376</td>\n",
       "      <td>-0.221929</td>\n",
       "      <td>0.062723</td>\n",
       "      <td>0.061458</td>\n",
       "      <td>123.50</td>\n",
       "      <td>0</td>\n",
       "    </tr>\n",
       "    <tr>\n",
       "      <th>4</th>\n",
       "      <td>2.0</td>\n",
       "      <td>-1.158233</td>\n",
       "      <td>0.877737</td>\n",
       "      <td>1.548718</td>\n",
       "      <td>0.403034</td>\n",
       "      <td>-0.407193</td>\n",
       "      <td>0.095921</td>\n",
       "      <td>0.592941</td>\n",
       "      <td>-0.270533</td>\n",
       "      <td>0.817739</td>\n",
       "      <td>...</td>\n",
       "      <td>-0.009431</td>\n",
       "      <td>0.798278</td>\n",
       "      <td>-0.137458</td>\n",
       "      <td>0.141267</td>\n",
       "      <td>-0.206010</td>\n",
       "      <td>0.502292</td>\n",
       "      <td>0.219422</td>\n",
       "      <td>0.215153</td>\n",
       "      <td>69.99</td>\n",
       "      <td>0</td>\n",
       "    </tr>\n",
       "  </tbody>\n",
       "</table>\n",
       "<p>5 rows × 31 columns</p>\n",
       "</div>"
      ],
      "text/plain": [
       "   Time        V1        V2        V3        V4        V5        V6        V7  \\\n",
       "0   0.0 -1.359807 -0.072781  2.536347  1.378155 -0.338321  0.462388  0.239599   \n",
       "1   0.0  1.191857  0.266151  0.166480  0.448154  0.060018 -0.082361 -0.078803   \n",
       "2   1.0 -1.358354 -1.340163  1.773209  0.379780 -0.503198  1.800499  0.791461   \n",
       "3   1.0 -0.966272 -0.185226  1.792993 -0.863291 -0.010309  1.247203  0.237609   \n",
       "4   2.0 -1.158233  0.877737  1.548718  0.403034 -0.407193  0.095921  0.592941   \n",
       "\n",
       "         V8        V9  ...       V21       V22       V23       V24       V25  \\\n",
       "0  0.098698  0.363787  ... -0.018307  0.277838 -0.110474  0.066928  0.128539   \n",
       "1  0.085102 -0.255425  ... -0.225775 -0.638672  0.101288 -0.339846  0.167170   \n",
       "2  0.247676 -1.514654  ...  0.247998  0.771679  0.909412 -0.689281 -0.327642   \n",
       "3  0.377436 -1.387024  ... -0.108300  0.005274 -0.190321 -1.175575  0.647376   \n",
       "4 -0.270533  0.817739  ... -0.009431  0.798278 -0.137458  0.141267 -0.206010   \n",
       "\n",
       "        V26       V27       V28  Amount  Class  \n",
       "0 -0.189115  0.133558 -0.021053  149.62      0  \n",
       "1  0.125895 -0.008983  0.014724    2.69      0  \n",
       "2 -0.139097 -0.055353 -0.059752  378.66      0  \n",
       "3 -0.221929  0.062723  0.061458  123.50      0  \n",
       "4  0.502292  0.219422  0.215153   69.99      0  \n",
       "\n",
       "[5 rows x 31 columns]"
      ]
     },
     "execution_count": 2,
     "metadata": {},
     "output_type": "execute_result"
    }
   ],
   "source": [
    "data = pd.read_csv(\"data/creditcard.csv\")\n",
    "data.head()"
   ]
  },
  {
   "cell_type": "markdown",
   "metadata": {},
   "source": [
    "# 1. Exploratory Data Analysis\n"
   ]
  },
  {
   "cell_type": "code",
   "execution_count": 3,
   "metadata": {},
   "outputs": [
    {
     "name": "stdout",
     "output_type": "stream",
     "text": [
      "<class 'pandas.core.frame.DataFrame'>\n",
      "RangeIndex: 284807 entries, 0 to 284806\n",
      "Data columns (total 31 columns):\n",
      " #   Column  Non-Null Count   Dtype  \n",
      "---  ------  --------------   -----  \n",
      " 0   Time    284807 non-null  float64\n",
      " 1   V1      284807 non-null  float64\n",
      " 2   V2      284807 non-null  float64\n",
      " 3   V3      284807 non-null  float64\n",
      " 4   V4      284807 non-null  float64\n",
      " 5   V5      284807 non-null  float64\n",
      " 6   V6      284807 non-null  float64\n",
      " 7   V7      284807 non-null  float64\n",
      " 8   V8      284807 non-null  float64\n",
      " 9   V9      284807 non-null  float64\n",
      " 10  V10     284807 non-null  float64\n",
      " 11  V11     284807 non-null  float64\n",
      " 12  V12     284807 non-null  float64\n",
      " 13  V13     284807 non-null  float64\n",
      " 14  V14     284807 non-null  float64\n",
      " 15  V15     284807 non-null  float64\n",
      " 16  V16     284807 non-null  float64\n",
      " 17  V17     284807 non-null  float64\n",
      " 18  V18     284807 non-null  float64\n",
      " 19  V19     284807 non-null  float64\n",
      " 20  V20     284807 non-null  float64\n",
      " 21  V21     284807 non-null  float64\n",
      " 22  V22     284807 non-null  float64\n",
      " 23  V23     284807 non-null  float64\n",
      " 24  V24     284807 non-null  float64\n",
      " 25  V25     284807 non-null  float64\n",
      " 26  V26     284807 non-null  float64\n",
      " 27  V27     284807 non-null  float64\n",
      " 28  V28     284807 non-null  float64\n",
      " 29  Amount  284807 non-null  float64\n",
      " 30  Class   284807 non-null  int64  \n",
      "dtypes: float64(30), int64(1)\n",
      "memory usage: 67.4 MB\n"
     ]
    }
   ],
   "source": [
    "data.info()"
   ]
  },
  {
   "cell_type": "code",
   "execution_count": 4,
   "metadata": {},
   "outputs": [
    {
     "data": {
      "text/html": [
       "<div>\n",
       "<style scoped>\n",
       "    .dataframe tbody tr th:only-of-type {\n",
       "        vertical-align: middle;\n",
       "    }\n",
       "\n",
       "    .dataframe tbody tr th {\n",
       "        vertical-align: top;\n",
       "    }\n",
       "\n",
       "    .dataframe thead th {\n",
       "        text-align: right;\n",
       "    }\n",
       "</style>\n",
       "<table border=\"1\" class=\"dataframe\">\n",
       "  <thead>\n",
       "    <tr style=\"text-align: right;\">\n",
       "      <th></th>\n",
       "      <th>Time</th>\n",
       "      <th>V1</th>\n",
       "      <th>V2</th>\n",
       "      <th>V3</th>\n",
       "      <th>V4</th>\n",
       "      <th>V5</th>\n",
       "      <th>V6</th>\n",
       "      <th>V7</th>\n",
       "      <th>V8</th>\n",
       "      <th>V9</th>\n",
       "      <th>...</th>\n",
       "      <th>V21</th>\n",
       "      <th>V22</th>\n",
       "      <th>V23</th>\n",
       "      <th>V24</th>\n",
       "      <th>V25</th>\n",
       "      <th>V26</th>\n",
       "      <th>V27</th>\n",
       "      <th>V28</th>\n",
       "      <th>Amount</th>\n",
       "      <th>Class</th>\n",
       "    </tr>\n",
       "  </thead>\n",
       "  <tbody>\n",
       "    <tr>\n",
       "      <th>count</th>\n",
       "      <td>284807.00</td>\n",
       "      <td>284807.00</td>\n",
       "      <td>284807.00</td>\n",
       "      <td>284807.00</td>\n",
       "      <td>284807.00</td>\n",
       "      <td>284807.00</td>\n",
       "      <td>284807.00</td>\n",
       "      <td>284807.00</td>\n",
       "      <td>284807.00</td>\n",
       "      <td>284807.00</td>\n",
       "      <td>...</td>\n",
       "      <td>284807.00</td>\n",
       "      <td>284807.00</td>\n",
       "      <td>284807.00</td>\n",
       "      <td>284807.00</td>\n",
       "      <td>284807.00</td>\n",
       "      <td>284807.00</td>\n",
       "      <td>284807.00</td>\n",
       "      <td>284807.00</td>\n",
       "      <td>284807.00</td>\n",
       "      <td>284807.00</td>\n",
       "    </tr>\n",
       "    <tr>\n",
       "      <th>mean</th>\n",
       "      <td>94813.86</td>\n",
       "      <td>0.00</td>\n",
       "      <td>0.00</td>\n",
       "      <td>-0.00</td>\n",
       "      <td>0.00</td>\n",
       "      <td>-0.00</td>\n",
       "      <td>0.00</td>\n",
       "      <td>-0.00</td>\n",
       "      <td>-0.00</td>\n",
       "      <td>-0.00</td>\n",
       "      <td>...</td>\n",
       "      <td>0.00</td>\n",
       "      <td>0.00</td>\n",
       "      <td>0.00</td>\n",
       "      <td>0.00</td>\n",
       "      <td>0.00</td>\n",
       "      <td>0.00</td>\n",
       "      <td>-0.00</td>\n",
       "      <td>-0.00</td>\n",
       "      <td>88.35</td>\n",
       "      <td>0.00</td>\n",
       "    </tr>\n",
       "    <tr>\n",
       "      <th>std</th>\n",
       "      <td>47488.15</td>\n",
       "      <td>1.96</td>\n",
       "      <td>1.65</td>\n",
       "      <td>1.52</td>\n",
       "      <td>1.42</td>\n",
       "      <td>1.38</td>\n",
       "      <td>1.33</td>\n",
       "      <td>1.24</td>\n",
       "      <td>1.19</td>\n",
       "      <td>1.10</td>\n",
       "      <td>...</td>\n",
       "      <td>0.73</td>\n",
       "      <td>0.73</td>\n",
       "      <td>0.62</td>\n",
       "      <td>0.61</td>\n",
       "      <td>0.52</td>\n",
       "      <td>0.48</td>\n",
       "      <td>0.40</td>\n",
       "      <td>0.33</td>\n",
       "      <td>250.12</td>\n",
       "      <td>0.04</td>\n",
       "    </tr>\n",
       "    <tr>\n",
       "      <th>min</th>\n",
       "      <td>0.00</td>\n",
       "      <td>-56.41</td>\n",
       "      <td>-72.72</td>\n",
       "      <td>-48.33</td>\n",
       "      <td>-5.68</td>\n",
       "      <td>-113.74</td>\n",
       "      <td>-26.16</td>\n",
       "      <td>-43.56</td>\n",
       "      <td>-73.22</td>\n",
       "      <td>-13.43</td>\n",
       "      <td>...</td>\n",
       "      <td>-34.83</td>\n",
       "      <td>-10.93</td>\n",
       "      <td>-44.81</td>\n",
       "      <td>-2.84</td>\n",
       "      <td>-10.30</td>\n",
       "      <td>-2.60</td>\n",
       "      <td>-22.57</td>\n",
       "      <td>-15.43</td>\n",
       "      <td>0.00</td>\n",
       "      <td>0.00</td>\n",
       "    </tr>\n",
       "    <tr>\n",
       "      <th>25%</th>\n",
       "      <td>54201.50</td>\n",
       "      <td>-0.92</td>\n",
       "      <td>-0.60</td>\n",
       "      <td>-0.89</td>\n",
       "      <td>-0.85</td>\n",
       "      <td>-0.69</td>\n",
       "      <td>-0.77</td>\n",
       "      <td>-0.55</td>\n",
       "      <td>-0.21</td>\n",
       "      <td>-0.64</td>\n",
       "      <td>...</td>\n",
       "      <td>-0.23</td>\n",
       "      <td>-0.54</td>\n",
       "      <td>-0.16</td>\n",
       "      <td>-0.35</td>\n",
       "      <td>-0.32</td>\n",
       "      <td>-0.33</td>\n",
       "      <td>-0.07</td>\n",
       "      <td>-0.05</td>\n",
       "      <td>5.60</td>\n",
       "      <td>0.00</td>\n",
       "    </tr>\n",
       "    <tr>\n",
       "      <th>50%</th>\n",
       "      <td>84692.00</td>\n",
       "      <td>0.02</td>\n",
       "      <td>0.07</td>\n",
       "      <td>0.18</td>\n",
       "      <td>-0.02</td>\n",
       "      <td>-0.05</td>\n",
       "      <td>-0.27</td>\n",
       "      <td>0.04</td>\n",
       "      <td>0.02</td>\n",
       "      <td>-0.05</td>\n",
       "      <td>...</td>\n",
       "      <td>-0.03</td>\n",
       "      <td>0.01</td>\n",
       "      <td>-0.01</td>\n",
       "      <td>0.04</td>\n",
       "      <td>0.02</td>\n",
       "      <td>-0.05</td>\n",
       "      <td>0.00</td>\n",
       "      <td>0.01</td>\n",
       "      <td>22.00</td>\n",
       "      <td>0.00</td>\n",
       "    </tr>\n",
       "    <tr>\n",
       "      <th>75%</th>\n",
       "      <td>139320.50</td>\n",
       "      <td>1.32</td>\n",
       "      <td>0.80</td>\n",
       "      <td>1.03</td>\n",
       "      <td>0.74</td>\n",
       "      <td>0.61</td>\n",
       "      <td>0.40</td>\n",
       "      <td>0.57</td>\n",
       "      <td>0.33</td>\n",
       "      <td>0.60</td>\n",
       "      <td>...</td>\n",
       "      <td>0.19</td>\n",
       "      <td>0.53</td>\n",
       "      <td>0.15</td>\n",
       "      <td>0.44</td>\n",
       "      <td>0.35</td>\n",
       "      <td>0.24</td>\n",
       "      <td>0.09</td>\n",
       "      <td>0.08</td>\n",
       "      <td>77.16</td>\n",
       "      <td>0.00</td>\n",
       "    </tr>\n",
       "    <tr>\n",
       "      <th>max</th>\n",
       "      <td>172792.00</td>\n",
       "      <td>2.45</td>\n",
       "      <td>22.06</td>\n",
       "      <td>9.38</td>\n",
       "      <td>16.88</td>\n",
       "      <td>34.80</td>\n",
       "      <td>73.30</td>\n",
       "      <td>120.59</td>\n",
       "      <td>20.01</td>\n",
       "      <td>15.59</td>\n",
       "      <td>...</td>\n",
       "      <td>27.20</td>\n",
       "      <td>10.50</td>\n",
       "      <td>22.53</td>\n",
       "      <td>4.58</td>\n",
       "      <td>7.52</td>\n",
       "      <td>3.52</td>\n",
       "      <td>31.61</td>\n",
       "      <td>33.85</td>\n",
       "      <td>25691.16</td>\n",
       "      <td>1.00</td>\n",
       "    </tr>\n",
       "  </tbody>\n",
       "</table>\n",
       "<p>8 rows × 31 columns</p>\n",
       "</div>"
      ],
      "text/plain": [
       "           Time        V1        V2        V3        V4        V5        V6  \\\n",
       "count 284807.00 284807.00 284807.00 284807.00 284807.00 284807.00 284807.00   \n",
       "mean   94813.86      0.00      0.00     -0.00      0.00     -0.00      0.00   \n",
       "std    47488.15      1.96      1.65      1.52      1.42      1.38      1.33   \n",
       "min        0.00    -56.41    -72.72    -48.33     -5.68   -113.74    -26.16   \n",
       "25%    54201.50     -0.92     -0.60     -0.89     -0.85     -0.69     -0.77   \n",
       "50%    84692.00      0.02      0.07      0.18     -0.02     -0.05     -0.27   \n",
       "75%   139320.50      1.32      0.80      1.03      0.74      0.61      0.40   \n",
       "max   172792.00      2.45     22.06      9.38     16.88     34.80     73.30   \n",
       "\n",
       "             V7        V8        V9  ...       V21       V22       V23  \\\n",
       "count 284807.00 284807.00 284807.00  ... 284807.00 284807.00 284807.00   \n",
       "mean      -0.00     -0.00     -0.00  ...      0.00      0.00      0.00   \n",
       "std        1.24      1.19      1.10  ...      0.73      0.73      0.62   \n",
       "min      -43.56    -73.22    -13.43  ...    -34.83    -10.93    -44.81   \n",
       "25%       -0.55     -0.21     -0.64  ...     -0.23     -0.54     -0.16   \n",
       "50%        0.04      0.02     -0.05  ...     -0.03      0.01     -0.01   \n",
       "75%        0.57      0.33      0.60  ...      0.19      0.53      0.15   \n",
       "max      120.59     20.01     15.59  ...     27.20     10.50     22.53   \n",
       "\n",
       "            V24       V25       V26       V27       V28    Amount     Class  \n",
       "count 284807.00 284807.00 284807.00 284807.00 284807.00 284807.00 284807.00  \n",
       "mean       0.00      0.00      0.00     -0.00     -0.00     88.35      0.00  \n",
       "std        0.61      0.52      0.48      0.40      0.33    250.12      0.04  \n",
       "min       -2.84    -10.30     -2.60    -22.57    -15.43      0.00      0.00  \n",
       "25%       -0.35     -0.32     -0.33     -0.07     -0.05      5.60      0.00  \n",
       "50%        0.04      0.02     -0.05      0.00      0.01     22.00      0.00  \n",
       "75%        0.44      0.35      0.24      0.09      0.08     77.16      0.00  \n",
       "max        4.58      7.52      3.52     31.61     33.85  25691.16      1.00  \n",
       "\n",
       "[8 rows x 31 columns]"
      ]
     },
     "execution_count": 4,
     "metadata": {},
     "output_type": "execute_result"
    }
   ],
   "source": [
    "pd.set_option(\"display.float\", \"{:.2f}\".format)\n",
    "data.describe()"
   ]
  },
  {
   "cell_type": "markdown",
   "metadata": {},
   "source": [
    "Let us now check the missing values in the dataset"
   ]
  },
  {
   "cell_type": "code",
   "execution_count": 5,
   "metadata": {},
   "outputs": [
    {
     "data": {
      "text/plain": [
       "0"
      ]
     },
     "execution_count": 5,
     "metadata": {},
     "output_type": "execute_result"
    }
   ],
   "source": [
    "data.isnull().sum().sum()"
   ]
  },
  {
   "cell_type": "code",
   "execution_count": 6,
   "metadata": {},
   "outputs": [
    {
     "data": {
      "text/plain": [
       "Index(['Time', 'V1', 'V2', 'V3', 'V4', 'V5', 'V6', 'V7', 'V8', 'V9', 'V10',\n",
       "       'V11', 'V12', 'V13', 'V14', 'V15', 'V16', 'V17', 'V18', 'V19', 'V20',\n",
       "       'V21', 'V22', 'V23', 'V24', 'V25', 'V26', 'V27', 'V28', 'Amount',\n",
       "       'Class'],\n",
       "      dtype='object')"
      ]
     },
     "execution_count": 6,
     "metadata": {},
     "output_type": "execute_result"
    }
   ],
   "source": [
    "data.columns"
   ]
  },
  {
   "cell_type": "markdown",
   "metadata": {},
   "source": [
    "### The only non-transformed variables to work with are:\n",
    "- `Time`\n",
    "- `Amount`\n",
    "- `Class` (1: fraud, 0: not_fraud)"
   ]
  },
  {
   "cell_type": "code",
   "execution_count": 7,
   "metadata": {},
   "outputs": [
    {
     "data": {
      "image/png": "[encoded data removed]",
      "text/plain": [
       "<Figure size 432x288 with 1 Axes>"
      ]
     },
     "metadata": {},
     "output_type": "display_data"
    }
   ],
   "source": [
    "LABELS = [\"Normal\", \"Fraud\"]\n",
    "\n",
    "count_classes = pd.value_counts(data['Class'], sort = True)\n",
    "count_classes.plot(kind = 'bar', rot=0)\n",
    "plt.title(\"Transaction Class Distribution\")\n",
    "plt.xticks(range(2), LABELS)\n",
    "plt.xlabel(\"Class\")\n",
    "plt.ylabel(\"Frequency\");"
   ]
  },
  {
   "cell_type": "code",
   "execution_count": 8,
   "metadata": {},
   "outputs": [
    {
     "data": {
      "text/plain": [
       "0    284315\n",
       "1       492\n",
       "Name: Class, dtype: int64"
      ]
     },
     "execution_count": 8,
     "metadata": {},
     "output_type": "execute_result"
    }
   ],
   "source": [
    "data.Class.value_counts()"
   ]
  },
  {
   "cell_type": "markdown",
   "metadata": {},
   "source": [
    "Notice how imbalanced is our original dataset! Most of the transactions are non-fraud. If we use this dataframe as the base for our predictive models and analysis we might get a lot of errors and our algorithms will probably overfit since it will \"assume\" that most transactions are not fraud. But we don't want our model to assume, we want our model to detect patterns that give signs of fraud!"
   ]
  },
  {
   "cell_type": "markdown",
   "metadata": {},
   "source": [
    "Determine the number of fraud and valid transactions in the entire dataset."
   ]
  },
  {
   "cell_type": "code",
   "execution_count": 9,
   "metadata": {},
   "outputs": [],
   "source": [
    "fraud = data[data['Class']==1]\n",
    "normal = data[data['Class']==0]"
   ]
  },
  {
   "cell_type": "code",
   "execution_count": 10,
   "metadata": {},
   "outputs": [
    {
     "name": "stdout",
     "output_type": "stream",
     "text": [
      "Shape of Fraudulant transactions: (492, 31)\n",
      "Shape of Non-Fraudulant transactions: (284315, 31)\n"
     ]
    }
   ],
   "source": [
    "print(f\"Shape of Fraudulant transactions: {fraud.shape}\")\n",
    "print(f\"Shape of Non-Fraudulant transactions: {normal.shape}\")"
   ]
  },
  {
   "cell_type": "markdown",
   "metadata": {},
   "source": [
    "How different are the amount of money used in different transaction classes?"
   ]
  },
  {
   "cell_type": "code",
   "execution_count": 11,
   "metadata": {},
   "outputs": [
    {
     "data": {
      "text/html": [
       "<div>\n",
       "<style scoped>\n",
       "    .dataframe tbody tr th:only-of-type {\n",
       "        vertical-align: middle;\n",
       "    }\n",
       "\n",
       "    .dataframe tbody tr th {\n",
       "        vertical-align: top;\n",
       "    }\n",
       "\n",
       "    .dataframe thead th {\n",
       "        text-align: right;\n",
       "    }\n",
       "</style>\n",
       "<table border=\"1\" class=\"dataframe\">\n",
       "  <thead>\n",
       "    <tr style=\"text-align: right;\">\n",
       "      <th></th>\n",
       "      <th>Amount</th>\n",
       "      <th>Amount</th>\n",
       "    </tr>\n",
       "  </thead>\n",
       "  <tbody>\n",
       "    <tr>\n",
       "      <th>count</th>\n",
       "      <td>492.00</td>\n",
       "      <td>284315.00</td>\n",
       "    </tr>\n",
       "    <tr>\n",
       "      <th>mean</th>\n",
       "      <td>122.21</td>\n",
       "      <td>88.29</td>\n",
       "    </tr>\n",
       "    <tr>\n",
       "      <th>std</th>\n",
       "      <td>256.68</td>\n",
       "      <td>250.11</td>\n",
       "    </tr>\n",
       "    <tr>\n",
       "      <th>min</th>\n",
       "      <td>0.00</td>\n",
       "      <td>0.00</td>\n",
       "    </tr>\n",
       "    <tr>\n",
       "      <th>25%</th>\n",
       "      <td>1.00</td>\n",
       "      <td>5.65</td>\n",
       "    </tr>\n",
       "    <tr>\n",
       "      <th>50%</th>\n",
       "      <td>9.25</td>\n",
       "      <td>22.00</td>\n",
       "    </tr>\n",
       "    <tr>\n",
       "      <th>75%</th>\n",
       "      <td>105.89</td>\n",
       "      <td>77.05</td>\n",
       "    </tr>\n",
       "    <tr>\n",
       "      <th>max</th>\n",
       "      <td>2125.87</td>\n",
       "      <td>25691.16</td>\n",
       "    </tr>\n",
       "  </tbody>\n",
       "</table>\n",
       "</div>"
      ],
      "text/plain": [
       "       Amount    Amount\n",
       "count  492.00 284315.00\n",
       "mean   122.21     88.29\n",
       "std    256.68    250.11\n",
       "min      0.00      0.00\n",
       "25%      1.00      5.65\n",
       "50%      9.25     22.00\n",
       "75%    105.89     77.05\n",
       "max   2125.87  25691.16"
      ]
     },
     "execution_count": 11,
     "metadata": {},
     "output_type": "execute_result"
    }
   ],
   "source": [
    "pd.concat([fraud.Amount.describe(), normal.Amount.describe()], axis=1)"
   ]
  },
  {
   "cell_type": "markdown",
   "metadata": {},
   "source": [
    "Do fraudulent transactions occur more often during certain time frame ?"
   ]
  },
  {
   "cell_type": "code",
   "execution_count": 12,
   "metadata": {},
   "outputs": [
    {
     "data": {
      "text/html": [
       "<div>\n",
       "<style scoped>\n",
       "    .dataframe tbody tr th:only-of-type {\n",
       "        vertical-align: middle;\n",
       "    }\n",
       "\n",
       "    .dataframe tbody tr th {\n",
       "        vertical-align: top;\n",
       "    }\n",
       "\n",
       "    .dataframe thead th {\n",
       "        text-align: right;\n",
       "    }\n",
       "</style>\n",
       "<table border=\"1\" class=\"dataframe\">\n",
       "  <thead>\n",
       "    <tr style=\"text-align: right;\">\n",
       "      <th></th>\n",
       "      <th>Time</th>\n",
       "      <th>Time</th>\n",
       "    </tr>\n",
       "  </thead>\n",
       "  <tbody>\n",
       "    <tr>\n",
       "      <th>count</th>\n",
       "      <td>492.00</td>\n",
       "      <td>284315.00</td>\n",
       "    </tr>\n",
       "    <tr>\n",
       "      <th>mean</th>\n",
       "      <td>80746.81</td>\n",
       "      <td>94838.20</td>\n",
       "    </tr>\n",
       "    <tr>\n",
       "      <th>std</th>\n",
       "      <td>47835.37</td>\n",
       "      <td>47484.02</td>\n",
       "    </tr>\n",
       "    <tr>\n",
       "      <th>min</th>\n",
       "      <td>406.00</td>\n",
       "      <td>0.00</td>\n",
       "    </tr>\n",
       "    <tr>\n",
       "      <th>25%</th>\n",
       "      <td>41241.50</td>\n",
       "      <td>54230.00</td>\n",
       "    </tr>\n",
       "    <tr>\n",
       "      <th>50%</th>\n",
       "      <td>75568.50</td>\n",
       "      <td>84711.00</td>\n",
       "    </tr>\n",
       "    <tr>\n",
       "      <th>75%</th>\n",
       "      <td>128483.00</td>\n",
       "      <td>139333.00</td>\n",
       "    </tr>\n",
       "    <tr>\n",
       "      <th>max</th>\n",
       "      <td>170348.00</td>\n",
       "      <td>172792.00</td>\n",
       "    </tr>\n",
       "  </tbody>\n",
       "</table>\n",
       "</div>"
      ],
      "text/plain": [
       "           Time      Time\n",
       "count    492.00 284315.00\n",
       "mean   80746.81  94838.20\n",
       "std    47835.37  47484.02\n",
       "min      406.00      0.00\n",
       "25%    41241.50  54230.00\n",
       "50%    75568.50  84711.00\n",
       "75%   128483.00 139333.00\n",
       "max   170348.00 172792.00"
      ]
     },
     "execution_count": 12,
     "metadata": {},
     "output_type": "execute_result"
    }
   ],
   "source": [
    "pd.concat([fraud.Time.describe(), normal.Time.describe()], axis=1)"
   ]
  },
  {
   "cell_type": "code",
   "execution_count": 13,
   "metadata": {},
   "outputs": [
    {
     "data": {
      "image/png": "[encoded data removed]",
      "text/plain": [
       "<Figure size 720x576 with 2 Axes>"
      ]
     },
     "metadata": {},
     "output_type": "display_data"
    }
   ],
   "source": [
    "# plot the time feature\n",
    "plt.figure(figsize=(10,8))\n",
    "\n",
    "plt.subplot(2, 2, 1)\n",
    "plt.title('Time Distribution (Seconds)')\n",
    "\n",
    "sns.distplot(data['Time'], color='blue');\n",
    "\n",
    "#plot the amount feature\n",
    "plt.subplot(2, 2, 2)\n",
    "plt.title('Distribution of Amount')\n",
    "sns.distplot(data['Amount'],color='blue');"
   ]
  },
  {
   "cell_type": "code",
   "execution_count": 14,
   "metadata": {},
   "outputs": [
    {
     "data": {
      "text/plain": [
       "<matplotlib.legend.Legend at 0x1dcd2b08be0>"
      ]
     },
     "execution_count": 14,
     "metadata": {},
     "output_type": "execute_result"
    },
    {
     "data": {
      "image/png": "[encoded data removed]",
      "text/plain": [
       "<Figure size 864x720 with 2 Axes>"
      ]
     },
     "metadata": {},
     "output_type": "display_data"
    }
   ],
   "source": [
    "# data[data.Class == 0].Time.hist(bins=35, color='blue', alpha=0.6)\n",
    "plt.figure(figsize=(12, 10))\n",
    "\n",
    "plt.subplot(2, 2, 1)\n",
    "data[data.Class == 1].Time.hist(bins=35, color='blue', alpha=0.6, label=\"Fraudulant Transaction\")\n",
    "plt.legend()\n",
    "\n",
    "plt.subplot(2, 2, 2)\n",
    "data[data.Class == 0].Time.hist(bins=35, color='blue', alpha=0.6, label=\"Non Fraudulant Transaction\")\n",
    "plt.legend()"
   ]
  },
  {
   "cell_type": "markdown",
   "metadata": {},
   "source": [
    "By seeing the distributions we can have an idea how skewed are these features, we can also see further distributions of the other features. There are techniques that can help the distributions be less skewed which will be implemented in this notebook in the future.\n",
    "\n",
    "Doesn't seem like the time of transaction really matters here as per above observation.\n",
    "Now let us take a sample of the dataset for out modelling and prediction"
   ]
  },
  {
   "cell_type": "code",
   "execution_count": 15,
   "metadata": {},
   "outputs": [
    {
     "data": {
      "image/png": "[encoded data removed]",
      "text/plain": [
       "<Figure size 1440x1440 with 36 Axes>"
      ]
     },
     "metadata": {},
     "output_type": "display_data"
    }
   ],
   "source": [
    "data.hist(figsize=(20, 20));"
   ]
  },
  {
   "cell_type": "code",
   "execution_count": 19,
   "metadata": {},
   "outputs": [
    {
     "data": {
      "image/png": "[encoded data removed]",
      "text/plain": [
       "<Figure size 720x720 with 2 Axes>"
      ]
     },
     "metadata": {},
     "output_type": "display_data"
    }
   ],
   "source": [
    "# heatmap to find any high correlations\n",
    "\n",
    "plt.figure(figsize=(10,10))\n",
    "sns.heatmap(data=data.corr(), cmap=\"seismic\")\n",
    "plt.show();"
   ]
  },
  {
   "cell_type": "markdown",
   "metadata": {},
   "source": [
    "### Highest correlations come from:\n",
    "    - Time & V3 (-0.42)\n",
    "    - Amount & V2 (-0.53)\n",
    "    - Amount & V4 (0.4)\n",
    "\n",
    "- While these correlations are high, I don't expect it to run the risk of multicollinearity.\n",
    "\n",
    "- The correlation matrix shows also that none of the V1 to V28 PCA components have any correlation to each other however if we observe Class has some form positive and negative correlations with the V components but has no correlation with Time and Amount."
   ]
  },
  {
   "cell_type": "markdown",
   "metadata": {},
   "source": [
    "### Data Pre-processing\n",
    "\n",
    "`Time` and `Amount` should be scaled as the other columns."
   ]
  },
  {
   "cell_type": "code",
   "execution_count": 20,
   "metadata": {},
   "outputs": [],
   "source": [
    "from sklearn.preprocessing import StandardScaler\n",
    "\n",
    "scalar = StandardScaler()\n",
    "data[\"Amount\"] = scalar.fit_transform(data[\"Amount\"].values.reshape(-1, 1))\n",
    "data[\"Time\"] = scalar.fit_transform(data[\"Time\"].values.reshape(-1, 1))"
   ]
  },
  {
   "cell_type": "code",
   "execution_count": 21,
   "metadata": {},
   "outputs": [
    {
     "data": {
      "text/html": [
       "<div>\n",
       "<style scoped>\n",
       "    .dataframe tbody tr th:only-of-type {\n",
       "        vertical-align: middle;\n",
       "    }\n",
       "\n",
       "    .dataframe tbody tr th {\n",
       "        vertical-align: top;\n",
       "    }\n",
       "\n",
       "    .dataframe thead th {\n",
       "        text-align: right;\n",
       "    }\n",
       "</style>\n",
       "<table border=\"1\" class=\"dataframe\">\n",
       "  <thead>\n",
       "    <tr style=\"text-align: right;\">\n",
       "      <th></th>\n",
       "      <th>Time</th>\n",
       "      <th>V1</th>\n",
       "      <th>V2</th>\n",
       "      <th>V3</th>\n",
       "      <th>V4</th>\n",
       "      <th>V5</th>\n",
       "      <th>V6</th>\n",
       "      <th>V7</th>\n",
       "      <th>V8</th>\n",
       "      <th>V9</th>\n",
       "      <th>...</th>\n",
       "      <th>V21</th>\n",
       "      <th>V22</th>\n",
       "      <th>V23</th>\n",
       "      <th>V24</th>\n",
       "      <th>V25</th>\n",
       "      <th>V26</th>\n",
       "      <th>V27</th>\n",
       "      <th>V28</th>\n",
       "      <th>Amount</th>\n",
       "      <th>Class</th>\n",
       "    </tr>\n",
       "  </thead>\n",
       "  <tbody>\n",
       "    <tr>\n",
       "      <th>0</th>\n",
       "      <td>-2.00</td>\n",
       "      <td>-1.36</td>\n",
       "      <td>-0.07</td>\n",
       "      <td>2.54</td>\n",
       "      <td>1.38</td>\n",
       "      <td>-0.34</td>\n",
       "      <td>0.46</td>\n",
       "      <td>0.24</td>\n",
       "      <td>0.10</td>\n",
       "      <td>0.36</td>\n",
       "      <td>...</td>\n",
       "      <td>-0.02</td>\n",
       "      <td>0.28</td>\n",
       "      <td>-0.11</td>\n",
       "      <td>0.07</td>\n",
       "      <td>0.13</td>\n",
       "      <td>-0.19</td>\n",
       "      <td>0.13</td>\n",
       "      <td>-0.02</td>\n",
       "      <td>0.24</td>\n",
       "      <td>0</td>\n",
       "    </tr>\n",
       "    <tr>\n",
       "      <th>1</th>\n",
       "      <td>-2.00</td>\n",
       "      <td>1.19</td>\n",
       "      <td>0.27</td>\n",
       "      <td>0.17</td>\n",
       "      <td>0.45</td>\n",
       "      <td>0.06</td>\n",
       "      <td>-0.08</td>\n",
       "      <td>-0.08</td>\n",
       "      <td>0.09</td>\n",
       "      <td>-0.26</td>\n",
       "      <td>...</td>\n",
       "      <td>-0.23</td>\n",
       "      <td>-0.64</td>\n",
       "      <td>0.10</td>\n",
       "      <td>-0.34</td>\n",
       "      <td>0.17</td>\n",
       "      <td>0.13</td>\n",
       "      <td>-0.01</td>\n",
       "      <td>0.01</td>\n",
       "      <td>-0.34</td>\n",
       "      <td>0</td>\n",
       "    </tr>\n",
       "    <tr>\n",
       "      <th>2</th>\n",
       "      <td>-2.00</td>\n",
       "      <td>-1.36</td>\n",
       "      <td>-1.34</td>\n",
       "      <td>1.77</td>\n",
       "      <td>0.38</td>\n",
       "      <td>-0.50</td>\n",
       "      <td>1.80</td>\n",
       "      <td>0.79</td>\n",
       "      <td>0.25</td>\n",
       "      <td>-1.51</td>\n",
       "      <td>...</td>\n",
       "      <td>0.25</td>\n",
       "      <td>0.77</td>\n",
       "      <td>0.91</td>\n",
       "      <td>-0.69</td>\n",
       "      <td>-0.33</td>\n",
       "      <td>-0.14</td>\n",
       "      <td>-0.06</td>\n",
       "      <td>-0.06</td>\n",
       "      <td>1.16</td>\n",
       "      <td>0</td>\n",
       "    </tr>\n",
       "    <tr>\n",
       "      <th>3</th>\n",
       "      <td>-2.00</td>\n",
       "      <td>-0.97</td>\n",
       "      <td>-0.19</td>\n",
       "      <td>1.79</td>\n",
       "      <td>-0.86</td>\n",
       "      <td>-0.01</td>\n",
       "      <td>1.25</td>\n",
       "      <td>0.24</td>\n",
       "      <td>0.38</td>\n",
       "      <td>-1.39</td>\n",
       "      <td>...</td>\n",
       "      <td>-0.11</td>\n",
       "      <td>0.01</td>\n",
       "      <td>-0.19</td>\n",
       "      <td>-1.18</td>\n",
       "      <td>0.65</td>\n",
       "      <td>-0.22</td>\n",
       "      <td>0.06</td>\n",
       "      <td>0.06</td>\n",
       "      <td>0.14</td>\n",
       "      <td>0</td>\n",
       "    </tr>\n",
       "    <tr>\n",
       "      <th>4</th>\n",
       "      <td>-2.00</td>\n",
       "      <td>-1.16</td>\n",
       "      <td>0.88</td>\n",
       "      <td>1.55</td>\n",
       "      <td>0.40</td>\n",
       "      <td>-0.41</td>\n",
       "      <td>0.10</td>\n",
       "      <td>0.59</td>\n",
       "      <td>-0.27</td>\n",
       "      <td>0.82</td>\n",
       "      <td>...</td>\n",
       "      <td>-0.01</td>\n",
       "      <td>0.80</td>\n",
       "      <td>-0.14</td>\n",
       "      <td>0.14</td>\n",
       "      <td>-0.21</td>\n",
       "      <td>0.50</td>\n",
       "      <td>0.22</td>\n",
       "      <td>0.22</td>\n",
       "      <td>-0.07</td>\n",
       "      <td>0</td>\n",
       "    </tr>\n",
       "  </tbody>\n",
       "</table>\n",
       "<p>5 rows × 31 columns</p>\n",
       "</div>"
      ],
      "text/plain": [
       "   Time    V1    V2   V3    V4    V5    V6    V7    V8    V9  ...   V21   V22  \\\n",
       "0 -2.00 -1.36 -0.07 2.54  1.38 -0.34  0.46  0.24  0.10  0.36  ... -0.02  0.28   \n",
       "1 -2.00  1.19  0.27 0.17  0.45  0.06 -0.08 -0.08  0.09 -0.26  ... -0.23 -0.64   \n",
       "2 -2.00 -1.36 -1.34 1.77  0.38 -0.50  1.80  0.79  0.25 -1.51  ...  0.25  0.77   \n",
       "3 -2.00 -0.97 -0.19 1.79 -0.86 -0.01  1.25  0.24  0.38 -1.39  ... -0.11  0.01   \n",
       "4 -2.00 -1.16  0.88 1.55  0.40 -0.41  0.10  0.59 -0.27  0.82  ... -0.01  0.80   \n",
       "\n",
       "    V23   V24   V25   V26   V27   V28  Amount  Class  \n",
       "0 -0.11  0.07  0.13 -0.19  0.13 -0.02    0.24      0  \n",
       "1  0.10 -0.34  0.17  0.13 -0.01  0.01   -0.34      0  \n",
       "2  0.91 -0.69 -0.33 -0.14 -0.06 -0.06    1.16      0  \n",
       "3 -0.19 -1.18  0.65 -0.22  0.06  0.06    0.14      0  \n",
       "4 -0.14  0.14 -0.21  0.50  0.22  0.22   -0.07      0  \n",
       "\n",
       "[5 rows x 31 columns]"
      ]
     },
     "execution_count": 21,
     "metadata": {},
     "output_type": "execute_result"
    }
   ],
   "source": [
    "data.head()"
   ]
  },
  {
   "cell_type": "code",
   "execution_count": 22,
   "metadata": {},
   "outputs": [],
   "source": [
    "from sklearn.model_selection import train_test_split\n",
    "\n",
    "X = data.drop('Class', axis=1)\n",
    "y = data.Class\n",
    "\n",
    "X_train, X_test, y_train, y_test = train_test_split(X, y, test_size=0.3, random_state=42)"
   ]
  },
  {
   "cell_type": "code",
   "execution_count": 23,
   "metadata": {},
   "outputs": [],
   "source": [
    "from sklearn.metrics import accuracy_score, confusion_matrix, precision_score, recall_score, f1_score\n",
    "\n",
    "def print_score(label, prediction, train=True):\n",
    "    if train:\n",
    "        print(\"Train Result:\\n================================================\")\n",
    "        print(f\"Accuracy Score: {accuracy_score(label, prediction) * 100:.2f}%\")\n",
    "        print(\"_______________________________________________\")\n",
    "        print(\"Classification Report:\", end='')\n",
    "        print(f\"\\tPrecision Score: {precision_score(label, prediction) * 100:.2f}%\")\n",
    "        print(f\"\\t\\t\\tRecall Score: {recall_score(label, prediction) * 100:.2f}%\")\n",
    "        print(f\"\\t\\t\\tF1 score: {f1_score(label, prediction) * 100:.2f}%\")\n",
    "        print(\"_______________________________________________\")\n",
    "        print(f\"Confusion Matrix: \\n {confusion_matrix(y_train, prediction)}\\n\")\n",
    "        \n",
    "    elif train==False:\n",
    "        print(\"Test Result:\\n================================================\")        \n",
    "        print(f\"Accuracy Score: {accuracy_score(label, prediction) * 100:.2f}%\")\n",
    "        print(\"_______________________________________________\")\n",
    "        print(\"Classification Report:\", end='')\n",
    "        print(f\"\\tPrecision Score: {precision_score(label, prediction) * 100:.2f}%\")\n",
    "        print(f\"\\t\\t\\tRecall Score: {recall_score(label, prediction) * 100:.2f}%\")\n",
    "        print(f\"\\t\\t\\tF1 score: {f1_score(label, prediction) * 100:.2f}%\")\n",
    "        print(\"_______________________________________________\")\n",
    "        print(f\"Confusion Matrix: \\n {confusion_matrix(label, prediction)}\\n\") "
   ]
  },
  {
   "cell_type": "markdown",
   "metadata": {},
   "source": [
    "# Model Building (Imbalanced Dataset)"
   ]
  },
  {
   "cell_type": "markdown",
   "metadata": {},
   "source": [
    "# 1. Logistic Regression"
   ]
  },
  {
   "cell_type": "code",
   "execution_count": 24,
   "metadata": {},
   "outputs": [
    {
     "name": "stdout",
     "output_type": "stream",
     "text": [
      "Fitting 5 folds for each of 10 candidates, totalling 50 fits\n"
     ]
    },
    {
     "name": "stderr",
     "output_type": "stream",
     "text": [
      "[Parallel(n_jobs=-1)]: Using backend LokyBackend with 4 concurrent workers.\n",
      "[Parallel(n_jobs=-1)]: Done   5 tasks      | elapsed:   16.2s\n",
      "[Parallel(n_jobs=-1)]: Done  10 tasks      | elapsed:   22.7s\n",
      "[Parallel(n_jobs=-1)]: Done  17 tasks      | elapsed:   34.3s\n",
      "[Parallel(n_jobs=-1)]: Done  24 tasks      | elapsed:   41.7s\n",
      "[Parallel(n_jobs=-1)]: Done  33 tasks      | elapsed:   58.1s\n",
      "[Parallel(n_jobs=-1)]: Done  42 tasks      | elapsed:  1.2min\n",
      "[Parallel(n_jobs=-1)]: Done  50 out of  50 | elapsed:  1.3min finished\n"
     ]
    }
   ],
   "source": [
    "from sklearn.linear_model import LogisticRegression\n",
    "from sklearn.model_selection import cross_val_score, GridSearchCV\n",
    "\n",
    "penalty = ['l2']\n",
    "C = np.logspace(0, 4, 10, 100, 1000)\n",
    "param_grid = dict(C=C, penalty=penalty)\n",
    "\n",
    "log_reg = LogisticRegression(solver='lbfgs', max_iter=10000)\n",
    "\n",
    "logistic_grid = GridSearchCV(log_reg, param_grid, cv=5, scoring='f1', verbose=10, n_jobs=-1)\n",
    "logistic_grid.fit(X_train, y_train)\n",
    "\n",
    "y_train_pred = logistic_grid.predict(X_train)\n",
    "y_test_pred = logistic_grid.predict(X_test)"
   ]
  },
  {
   "cell_type": "code",
   "execution_count": 25,
   "metadata": {},
   "outputs": [
    {
     "name": "stdout",
     "output_type": "stream",
     "text": [
      "Train Result:\n",
      "================================================\n",
      "Accuracy Score: 99.92%\n",
      "_______________________________________________\n",
      "Classification Report:\tPrecision Score: 88.45%\n",
      "\t\t\tRecall Score: 62.36%\n",
      "\t\t\tF1 score: 73.15%\n",
      "_______________________________________________\n",
      "Confusion Matrix: \n",
      " [[198979     29]\n",
      " [   134    222]]\n",
      "\n",
      "Test Result:\n",
      "================================================\n",
      "Accuracy Score: 99.93%\n",
      "_______________________________________________\n",
      "Classification Report:\tPrecision Score: 87.76%\n",
      "\t\t\tRecall Score: 63.24%\n",
      "\t\t\tF1 score: 73.50%\n",
      "_______________________________________________\n",
      "Confusion Matrix: \n",
      " [[85295    12]\n",
      " [   50    86]]\n",
      "\n"
     ]
    }
   ],
   "source": [
    "print_score(y_train, y_train_pred, train=True)\n",
    "print_score(y_test, y_test_pred, train=False)"
   ]
  },
  {
   "cell_type": "markdown",
   "metadata": {},
   "source": [
    "# 2. Random Forest Classifier"
   ]
  },
  {
   "cell_type": "code",
   "execution_count": 70,
   "metadata": {},
   "outputs": [
    {
     "data": {
      "text/plain": [
       "0    199008\n",
       "1       356\n",
       "Name: Class, dtype: int64"
      ]
     },
     "execution_count": 70,
     "metadata": {},
     "output_type": "execute_result"
    }
   ],
   "source": [
    "y_train.value_counts()"
   ]
  },
  {
   "cell_type": "code",
   "execution_count": 71,
   "metadata": {},
   "outputs": [],
   "source": [
    "fraudulant = y_train.value_counts()[1] / y_train.shape[0]\n",
    "non_fraudulant = y_train.value_counts()[0] / y_train.shape[0]"
   ]
  },
  {
   "cell_type": "code",
   "execution_count": 72,
   "metadata": {},
   "outputs": [],
   "source": [
    "class_weight = {0: non_fraudulant, 1: fraudulant}"
   ]
  },
  {
   "cell_type": "code",
   "execution_count": 73,
   "metadata": {},
   "outputs": [
    {
     "name": "stdout",
     "output_type": "stream",
     "text": [
      "Fitting 3 folds for each of 6 candidates, totalling 18 fits\n"
     ]
    },
    {
     "name": "stderr",
     "output_type": "stream",
     "text": [
      "[Parallel(n_jobs=-1)]: Using backend LokyBackend with 4 concurrent workers.\n",
      "[Parallel(n_jobs=-1)]: Done  18 out of  18 | elapsed: 173.5min finished\n"
     ]
    },
    {
     "data": {
      "text/plain": [
       "GridSearchCV(cv=3, error_score=nan,\n",
       "             estimator=RandomForestClassifier(bootstrap=True, ccp_alpha=0.0,\n",
       "                                              class_weight={0: 0.9982143215425051,\n",
       "                                                            1: 0.0017856784574948336},\n",
       "                                              criterion='gini', max_depth=None,\n",
       "                                              max_features='auto',\n",
       "                                              max_leaf_nodes=None,\n",
       "                                              max_samples=None,\n",
       "                                              min_impurity_decrease=0.0,\n",
       "                                              min_impurity_split=None,\n",
       "                                              min_samples_leaf=1,\n",
       "                                              min_samples_split=2,\n",
       "                                              min_weight_fraction_leaf=0.0,\n",
       "                                              n_estimators=100, n_jobs=None,\n",
       "                                              oob_score=True, random_state=42,\n",
       "                                              verbose=0, warm_start=False),\n",
       "             iid='deprecated', n_jobs=-1,\n",
       "             param_grid={'n_estimators': [100, 250, 500, 750, 1000, 1500]},\n",
       "             pre_dispatch='2*n_jobs', refit=True, return_train_score=False,\n",
       "             scoring='roc_auc', verbose=1)"
      ]
     },
     "execution_count": 73,
     "metadata": {},
     "output_type": "execute_result"
    }
   ],
   "source": [
    "from sklearn.ensemble import RandomForestClassifier\n",
    "\n",
    "param_grid = {'n_estimators':[100, 250, 500, 750, 1000, 1500],\n",
    "#               'max_depth':[3, None], \n",
    "#               'min_samples_split':[2, 3, 10], \n",
    "#               'min_samples_leaf':[1, 3, 10], \n",
    "#               'bootstrap':[True, False], \n",
    "#               'criterion':[\"gini\", \"entropy\"]\n",
    "             }\n",
    "\n",
    "rf_clf = RandomForestClassifier(random_state=42, \n",
    "                                oob_score=True, \n",
    "                                bootstrap=True, \n",
    "                                class_weight=class_weight)\n",
    "\n",
    "grid_cv_rf = GridSearchCV(rf_clf, param_grid, scoring=\"roc_auc\", n_jobs=-1,\n",
    "                                verbose=1, cv=3)\n",
    "grid_cv_rf.fit(X_train, y_train)"
   ]
  },
  {
   "cell_type": "code",
   "execution_count": 74,
   "metadata": {},
   "outputs": [
    {
     "data": {
      "text/plain": [
       "RandomForestClassifier(bootstrap=True, ccp_alpha=0.0,\n",
       "                       class_weight={0: 0.9982143215425051,\n",
       "                                     1: 0.0017856784574948336},\n",
       "                       criterion='gini', max_depth=None, max_features='auto',\n",
       "                       max_leaf_nodes=None, max_samples=None,\n",
       "                       min_impurity_decrease=0.0, min_impurity_split=None,\n",
       "                       min_samples_leaf=1, min_samples_split=2,\n",
       "                       min_weight_fraction_leaf=0.0, n_estimators=1500,\n",
       "                       n_jobs=None, oob_score=True, random_state=42, verbose=0,\n",
       "                       warm_start=False)"
      ]
     },
     "execution_count": 74,
     "metadata": {},
     "output_type": "execute_result"
    }
   ],
   "source": [
    "grid_cv_rf.best_estimator_"
   ]
  },
  {
   "cell_type": "code",
   "execution_count": 75,
   "metadata": {},
   "outputs": [
    {
     "name": "stdout",
     "output_type": "stream",
     "text": [
      "Train Result:\n",
      "================================================\n",
      "Accuracy Score: 100.00%\n",
      "_______________________________________________\n",
      "Classification Report:\tPrecision Score: 100.00%\n",
      "\t\t\tRecall Score: 98.88%\n",
      "\t\t\tF1 score: 99.44%\n",
      "_______________________________________________\n",
      "Confusion Matrix: \n",
      " [[199008      0]\n",
      " [     4    352]]\n",
      "\n",
      "Test Result:\n",
      "================================================\n",
      "Accuracy Score: 99.96%\n",
      "_______________________________________________\n",
      "Classification Report:\tPrecision Score: 91.80%\n",
      "\t\t\tRecall Score: 82.35%\n",
      "\t\t\tF1 score: 86.82%\n",
      "_______________________________________________\n",
      "Confusion Matrix: \n",
      " [[85297    10]\n",
      " [   24   112]]\n",
      "\n"
     ]
    }
   ],
   "source": [
    "rf_clf = RandomForestClassifier(n_estimators=1500,\n",
    "                                random_state=42, \n",
    "                                oob_score=True, \n",
    "                                bootstrap=True, \n",
    "                                class_weight=class_weight)\n",
    "rf_clf.fit(X_train, y_train)\n",
    "\n",
    "y_train_pred = rf_clf.predict(X_train)\n",
    "y_test_pred = rf_clf.predict(X_test)\n",
    "\n",
    "print_score(y_train, y_train_pred, train=True)\n",
    "print_score(y_test, y_test_pred, train=False)"
   ]
  },
  {
   "cell_type": "markdown",
   "metadata": {},
   "source": [
    "# 3. Artificial Neural Network"
   ]
  },
  {
   "cell_type": "code",
   "execution_count": 26,
   "metadata": {},
   "outputs": [
    {
     "name": "stdout",
     "output_type": "stream",
     "text": [
      "(284807, 30)\n",
      "(284807,)\n"
     ]
    }
   ],
   "source": [
    "print(X.shape)\n",
    "print(y.shape)"
   ]
  },
  {
   "cell_type": "code",
   "execution_count": 27,
   "metadata": {},
   "outputs": [],
   "source": [
    "X_train_v, X_test, y_train_v, y_test = train_test_split(X, y, test_size=0.3, random_state=42)\n",
    "X_train, X_validate, y_train, y_validate = train_test_split(X_train_v, y_train_v, \n",
    "                                                            test_size=0.2, random_state=42)"
   ]
  },
  {
   "cell_type": "code",
   "execution_count": 28,
   "metadata": {},
   "outputs": [
    {
     "name": "stdout",
     "output_type": "stream",
     "text": [
      "(179427, 30)\n",
      "(179427,)\n",
      "(19937, 30)\n",
      "(19937,)\n"
     ]
    }
   ],
   "source": [
    "print(X_train.shape)\n",
    "print(y_train.shape)\n",
    "print(X_validate.shape)\n",
    "print(y_validate.shape)"
   ]
  },
  {
   "cell_type": "code",
   "execution_count": 29,
   "metadata": {},
   "outputs": [
    {
     "name": "stdout",
     "output_type": "stream",
     "text": [
      "(85443, 30)\n",
      "(85443,)\n"
     ]
    }
   ],
   "source": [
    "print(X_test.shape)\n",
    "print(y_test.shape)"
   ]
  },
  {
   "cell_type": "code",
   "execution_count": 30,
   "metadata": {},
   "outputs": [],
   "source": [
    "X_train = np.array(X_train)\n",
    "X_test = np.array(X_test)\n",
    "X_validate = np.array(X_validate)"
   ]
  },
  {
   "cell_type": "code",
   "execution_count": 31,
   "metadata": {},
   "outputs": [],
   "source": [
    "y_train = np.array(y_train)\n",
    "y_test = np.array(y_test)\n",
    "y_validate = np.array(y_validate)"
   ]
  },
  {
   "cell_type": "code",
   "execution_count": 82,
   "metadata": {},
   "outputs": [],
   "source": [
    "import keras\n",
    "from keras.models import Sequential\n",
    "from keras.layers import Conv2D, MaxPooling2D, Dense, Flatten, Dropout\n",
    "from keras.optimizers import Adam\n",
    "from keras.callbacks import TensorBoard"
   ]
  },
  {
   "cell_type": "code",
   "execution_count": 93,
   "metadata": {},
   "outputs": [],
   "source": [
    "model = Sequential([\n",
    "    Dense(units=16, input_dim=30, activation=\"relu\"),\n",
    "    Dense(units=24, activation=\"relu\"),  \n",
    "    Dropout(0.5),  \n",
    "    Dense(20, activation=\"relu\"),  \n",
    "    Dense(24, activation=\"relu\"),\n",
    "#     Dense(28, activation=\"relu\"),\n",
    "    Dense(1, activation=\"sigmoid\"),  \n",
    "])"
   ]
  },
  {
   "cell_type": "code",
   "execution_count": 94,
   "metadata": {},
   "outputs": [
    {
     "name": "stdout",
     "output_type": "stream",
     "text": [
      "Model: \"sequential_7\"\n",
      "_________________________________________________________________\n",
      "Layer (type)                 Output Shape              Param #   \n",
      "=================================================================\n",
      "dense_31 (Dense)             (None, 16)                496       \n",
      "_________________________________________________________________\n",
      "dense_32 (Dense)             (None, 24)                408       \n",
      "_________________________________________________________________\n",
      "dropout_7 (Dropout)          (None, 24)                0         \n",
      "_________________________________________________________________\n",
      "dense_33 (Dense)             (None, 20)                500       \n",
      "_________________________________________________________________\n",
      "dense_34 (Dense)             (None, 24)                504       \n",
      "_________________________________________________________________\n",
      "dense_35 (Dense)             (None, 1)                 25        \n",
      "=================================================================\n",
      "Total params: 1,933\n",
      "Trainable params: 1,933\n",
      "Non-trainable params: 0\n",
      "_________________________________________________________________\n"
     ]
    }
   ],
   "source": [
    "model.summary()"
   ]
  },
  {
   "cell_type": "code",
   "execution_count": 99,
   "metadata": {},
   "outputs": [
    {
     "name": "stdout",
     "output_type": "stream",
     "text": [
      "Train on 179427 samples, validate on 19937 samples\n",
      "Epoch 1/100\n",
      "179427/179427 [==============================] - 14s 78us/step - loss: 0.1157 - auc_8: 0.9751 - val_loss: 0.0251 - val_auc_8: 0.9943\n",
      "Epoch 2/100\n",
      "179427/179427 [==============================] - 14s 77us/step - loss: 0.0819 - auc_8: 0.9873 - val_loss: 0.0238 - val_auc_8: 0.9955\n",
      "Epoch 3/100\n",
      "179427/179427 [==============================] - 13s 72us/step - loss: 0.0775 - auc_8: 0.9849 - val_loss: 0.0229 - val_auc_8: 0.9942\n",
      "Epoch 4/100\n",
      "179427/179427 [==============================] - 13s 70us/step - loss: 0.0797 - auc_8: 0.9875 - val_loss: 0.0304 - val_auc_8: 0.9822\n",
      "Epoch 5/100\n",
      "179427/179427 [==============================] - 13s 71us/step - loss: 0.0954 - auc_8: 0.9823 - val_loss: 0.0203 - val_auc_8: 0.9820\n",
      "Epoch 6/100\n",
      "179427/179427 [==============================] - 13s 74us/step - loss: 0.0672 - auc_8: 0.9942 - val_loss: 0.0234 - val_auc_8: 0.9831\n",
      "Epoch 7/100\n",
      "179427/179427 [==============================] - 13s 74us/step - loss: 0.0765 - auc_8: 0.9865 - val_loss: 0.0133 - val_auc_8: 0.9842\n",
      "Epoch 8/100\n",
      "179427/179427 [==============================] - 13s 74us/step - loss: 0.0615 - auc_8: 0.9937 - val_loss: 0.0180 - val_auc_8: 0.9842\n",
      "Epoch 9/100\n",
      "179427/179427 [==============================] - 13s 74us/step - loss: 0.0724 - auc_8: 0.9902 - val_loss: 0.0450 - val_auc_8: 0.9915\n",
      "Epoch 10/100\n",
      "179427/179427 [==============================] - 13s 74us/step - loss: 0.0637 - auc_8: 0.9936 - val_loss: 0.0212 - val_auc_8: 0.9826\n",
      "Epoch 11/100\n",
      "179427/179427 [==============================] - 14s 77us/step - loss: 0.0654 - auc_8: 0.9881 - val_loss: 0.0165 - val_auc_8: 0.9839\n",
      "Epoch 12/100\n",
      "179427/179427 [==============================] - 14s 79us/step - loss: 0.0982 - auc_8: 0.9887 - val_loss: 0.0194 - val_auc_8: 0.9713\n",
      "Epoch 13/100\n",
      "179427/179427 [==============================] - 13s 74us/step - loss: 0.0739 - auc_8: 0.9889 - val_loss: 0.0144 - val_auc_8: 0.9715\n",
      "Epoch 14/100\n",
      "179427/179427 [==============================] - 14s 76us/step - loss: 0.0540 - auc_8: 0.9950 - val_loss: 0.0279 - val_auc_8: 0.9827\n",
      "Epoch 15/100\n",
      "179427/179427 [==============================] - 13s 75us/step - loss: 0.0600 - auc_8: 0.9949 - val_loss: 0.0185 - val_auc_8: 0.9844\n",
      "Epoch 16/100\n",
      "179427/179427 [==============================] - 14s 77us/step - loss: 0.0565 - auc_8: 0.9936 - val_loss: 0.0187 - val_auc_8: 0.9843\n",
      "Epoch 17/100\n",
      "179427/179427 [==============================] - 13s 75us/step - loss: 0.0453 - auc_8: 0.9956 - val_loss: 0.0255 - val_auc_8: 0.9685\n",
      "Epoch 18/100\n",
      "179427/179427 [==============================] - 13s 75us/step - loss: 0.0585 - auc_8: 0.9953 - val_loss: 0.0139 - val_auc_8: 0.9579\n",
      "Epoch 19/100\n",
      "179427/179427 [==============================] - 14s 76us/step - loss: 0.0498 - auc_8: 0.9941 - val_loss: 0.0140 - val_auc_8: 0.9583\n",
      "Epoch 20/100\n",
      "179427/179427 [==============================] - 14s 76us/step - loss: 0.0571 - auc_8: 0.9926 - val_loss: 0.0243 - val_auc_8: 0.9709\n",
      "Epoch 21/100\n",
      "179427/179427 [==============================] - 13s 75us/step - loss: 0.0444 - auc_8: 0.9958 - val_loss: 0.0175 - val_auc_8: 0.9448\n",
      "Epoch 22/100\n",
      "179427/179427 [==============================] - 13s 75us/step - loss: 0.0642 - auc_8: 0.9924 - val_loss: 0.0239 - val_auc_8: 0.9711\n",
      "Epoch 23/100\n",
      "179427/179427 [==============================] - 14s 75us/step - loss: 0.0421 - auc_8: 0.9987 - val_loss: 0.0179 - val_auc_8: 0.9451\n",
      "Epoch 24/100\n",
      "179427/179427 [==============================] - 14s 75us/step - loss: 0.0544 - auc_8: 0.9910 - val_loss: 0.0190 - val_auc_8: 0.9582\n",
      "Epoch 25/100\n",
      "179427/179427 [==============================] - 15s 82us/step - loss: 0.0735 - auc_8: 0.9892 - val_loss: 0.0201 - val_auc_8: 0.9580\n",
      "Epoch 26/100\n",
      "179427/179427 [==============================] - 14s 76us/step - loss: 0.0387 - auc_8: 0.9944 - val_loss: 0.0154 - val_auc_8: 0.9451\n",
      "Epoch 27/100\n",
      "179427/179427 [==============================] - 14s 77us/step - loss: 0.0544 - auc_8: 0.9927 - val_loss: 0.0174 - val_auc_8: 0.9449\n",
      "Epoch 28/100\n",
      "179427/179427 [==============================] - 14s 77us/step - loss: 0.0492 - auc_8: 0.9941 - val_loss: 0.0162 - val_auc_8: 0.9580\n",
      "Epoch 29/100\n",
      "179427/179427 [==============================] - 14s 76us/step - loss: 0.0591 - auc_8: 0.9912 - val_loss: 0.0198 - val_auc_8: 0.9450\n",
      "Epoch 30/100\n",
      "179427/179427 [==============================] - 14s 77us/step - loss: 0.0422 - auc_8: 0.9960 - val_loss: 0.0272 - val_auc_8: 0.9582\n",
      "Epoch 31/100\n",
      "179427/179427 [==============================] - 14s 80us/step - loss: 0.0721 - auc_8: 0.9897 - val_loss: 0.0235 - val_auc_8: 0.9585\n",
      "Epoch 32/100\n",
      "179427/179427 [==============================] - 14s 78us/step - loss: 0.0556 - auc_8: 0.9896 - val_loss: 0.0228 - val_auc_8: 0.9448\n",
      "Epoch 33/100\n",
      "179427/179427 [==============================] - 15s 82us/step - loss: 0.0444 - auc_8: 0.9945 - val_loss: 0.0169 - val_auc_8: 0.9454\n",
      "Epoch 34/100\n",
      "179427/179427 [==============================] - 14s 81us/step - loss: 0.0431 - auc_8: 0.9973 - val_loss: 0.0240 - val_auc_8: 0.9448\n",
      "Epoch 35/100\n",
      "179427/179427 [==============================] - 13s 74us/step - loss: 0.0713 - auc_8: 0.9909 - val_loss: 0.0354 - val_auc_8: 0.9817\n",
      "Epoch 36/100\n",
      "179427/179427 [==============================] - 13s 73us/step - loss: 0.0375 - auc_8: 0.9960 - val_loss: 0.0210 - val_auc_8: 0.9448\n",
      "Epoch 37/100\n",
      "179427/179427 [==============================] - 12s 69us/step - loss: 0.0420 - auc_8: 0.9945 - val_loss: 0.0228 - val_auc_8: 0.9451\n",
      "Epoch 38/100\n",
      "179427/179427 [==============================] - 12s 68us/step - loss: 0.0437 - auc_8: 0.9959 - val_loss: 0.0258 - val_auc_8: 0.9449\n",
      "Epoch 39/100\n",
      "179427/179427 [==============================] - 12s 68us/step - loss: 0.0596 - auc_8: 0.9940 - val_loss: 0.0283 - val_auc_8: 0.9572\n",
      "Epoch 40/100\n",
      "179427/179427 [==============================] - 13s 70us/step - loss: 0.0313 - auc_8: 0.9977 - val_loss: 0.0291 - val_auc_8: 0.9454\n",
      "Epoch 41/100\n",
      "179427/179427 [==============================] - 12s 69us/step - loss: 0.0661 - auc_8: 0.9914 - val_loss: 0.0222 - val_auc_8: 0.9451\n",
      "Epoch 42/100\n",
      "179427/179427 [==============================] - 12s 69us/step - loss: 0.0740 - auc_8: 0.9892 - val_loss: 0.0320 - val_auc_8: 0.9450\n",
      "Epoch 43/100\n",
      "179427/179427 [==============================] - 12s 70us/step - loss: 0.0710 - auc_8: 0.9895 - val_loss: 0.0268 - val_auc_8: 0.9450\n",
      "Epoch 44/100\n",
      "179427/179427 [==============================] - 13s 72us/step - loss: 0.0860 - auc_8: 0.9909 - val_loss: 0.0389 - val_auc_8: 0.9577\n",
      "Epoch 45/100\n",
      "179427/179427 [==============================] - 12s 69us/step - loss: 0.0715 - auc_8: 0.9907 - val_loss: 0.0289 - val_auc_8: 0.9451\n",
      "Epoch 46/100\n",
      "179427/179427 [==============================] - 12s 69us/step - loss: 0.0466 - auc_8: 0.9929 - val_loss: 0.0281 - val_auc_8: 0.9451\n",
      "Epoch 47/100\n",
      "179427/179427 [==============================] - 13s 71us/step - loss: 0.0412 - auc_8: 0.9960 - val_loss: 0.0242 - val_auc_8: 0.9582\n",
      "Epoch 48/100\n",
      "179427/179427 [==============================] - 12s 69us/step - loss: 0.0453 - auc_8: 0.9972 - val_loss: 0.0214 - val_auc_8: 0.9453\n",
      "Epoch 49/100\n",
      "179427/179427 [==============================] - 12s 69us/step - loss: 0.0444 - auc_8: 0.9943 - val_loss: 0.0265 - val_auc_8: 0.9577\n",
      "Epoch 50/100\n",
      "179427/179427 [==============================] - 12s 69us/step - loss: 0.0500 - auc_8: 0.9927 - val_loss: 0.0236 - val_auc_8: 0.9694\n",
      "Epoch 51/100\n",
      "179427/179427 [==============================] - 12s 69us/step - loss: 0.0341 - auc_8: 0.9961 - val_loss: 0.0209 - val_auc_8: 0.9583\n",
      "Epoch 52/100\n",
      "179427/179427 [==============================] - 13s 70us/step - loss: 0.0364 - auc_8: 0.9976 - val_loss: 0.0203 - val_auc_8: 0.9583\n",
      "Epoch 53/100\n",
      "179427/179427 [==============================] - 13s 71us/step - loss: 0.0782 - auc_8: 0.9897 - val_loss: 0.0393 - val_auc_8: 0.9587\n",
      "Epoch 54/100\n",
      "179427/179427 [==============================] - 13s 70us/step - loss: 0.0622 - auc_8: 0.9945 - val_loss: 0.0283 - val_auc_8: 0.9454\n",
      "Epoch 55/100\n",
      "179427/179427 [==============================] - 12s 69us/step - loss: 0.0459 - auc_8: 0.9946 - val_loss: 0.0312 - val_auc_8: 0.9453\n",
      "Epoch 56/100\n",
      "179427/179427 [==============================] - 13s 72us/step - loss: 0.0473 - auc_8: 0.9960 - val_loss: 0.0297 - val_auc_8: 0.9454\n",
      "Epoch 57/100\n",
      "179427/179427 [==============================] - 13s 74us/step - loss: 0.0539 - auc_8: 0.9927 - val_loss: 0.0255 - val_auc_8: 0.9450\n",
      "Epoch 58/100\n",
      "179427/179427 [==============================] - 12s 69us/step - loss: 0.0508 - auc_8: 0.9943 - val_loss: 0.0274 - val_auc_8: 0.9708\n",
      "Epoch 59/100\n",
      "179427/179427 [==============================] - 12s 69us/step - loss: 0.0427 - auc_8: 0.9960 - val_loss: 0.0254 - val_auc_8: 0.9453\n",
      "Epoch 60/100\n",
      "179427/179427 [==============================] - 13s 72us/step - loss: 0.0367 - auc_8: 0.9975 - val_loss: 0.0241 - val_auc_8: 0.9450\n",
      "Epoch 61/100\n",
      "179427/179427 [==============================] - 12s 70us/step - loss: 0.0446 - auc_8: 0.9929 - val_loss: 0.0279 - val_auc_8: 0.9581\n",
      "Epoch 62/100\n",
      "179427/179427 [==============================] - 13s 70us/step - loss: 0.0362 - auc_8: 0.9976 - val_loss: 0.0236 - val_auc_8: 0.9587\n",
      "Epoch 63/100\n",
      "179427/179427 [==============================] - 13s 70us/step - loss: 0.0533 - auc_8: 0.9944 - val_loss: 0.0244 - val_auc_8: 0.9719\n",
      "Epoch 64/100\n",
      "179427/179427 [==============================] - 13s 73us/step - loss: 0.0530 - auc_8: 0.9928 - val_loss: 0.0305 - val_auc_8: 0.9715\n",
      "Epoch 65/100\n",
      "179427/179427 [==============================] - 13s 71us/step - loss: 0.0477 - auc_8: 0.9943 - val_loss: 0.0277 - val_auc_8: 0.9721\n",
      "Epoch 66/100\n",
      "179427/179427 [==============================] - 13s 74us/step - loss: 0.0387 - auc_8: 0.9976 - val_loss: 0.0375 - val_auc_8: 0.9590\n",
      "Epoch 67/100\n",
      "179427/179427 [==============================] - 12s 70us/step - loss: 0.0828 - auc_8: 0.9897 - val_loss: 0.0319 - val_auc_8: 0.9717\n",
      "Epoch 68/100\n",
      "179427/179427 [==============================] - 13s 70us/step - loss: 0.0359 - auc_8: 0.9946 - val_loss: 0.0462 - val_auc_8: 0.9454\n",
      "Epoch 69/100\n",
      "179427/179427 [==============================] - 13s 70us/step - loss: 0.0788 - auc_8: 0.9883 - val_loss: 0.0619 - val_auc_8: 0.9588\n",
      "Epoch 70/100\n",
      "179427/179427 [==============================] - 13s 70us/step - loss: 0.0905 - auc_8: 0.9929 - val_loss: 0.0450 - val_auc_8: 0.9722\n",
      "Epoch 71/100\n",
      "179427/179427 [==============================] - 13s 70us/step - loss: 0.0294 - auc_8: 0.9977 - val_loss: 0.0521 - val_auc_8: 0.9589\n",
      "Epoch 72/100\n",
      "179427/179427 [==============================] - 13s 70us/step - loss: 0.1123 - auc_8: 0.9912 - val_loss: 0.0313 - val_auc_8: 0.9588\n",
      "Epoch 73/100\n",
      "179427/179427 [==============================] - 13s 71us/step - loss: 0.0375 - auc_8: 0.9976 - val_loss: 0.0288 - val_auc_8: 0.9721\n",
      "Epoch 74/100\n",
      "179427/179427 [==============================] - 12s 69us/step - loss: 0.0536 - auc_8: 0.9944 - val_loss: 0.0395 - val_auc_8: 0.9722\n",
      "Epoch 75/100\n",
      "179427/179427 [==============================] - 12s 70us/step - loss: 0.0574 - auc_8: 0.9931 - val_loss: 0.0345 - val_auc_8: 0.9722\n",
      "Epoch 76/100\n",
      "179427/179427 [==============================] - 13s 70us/step - loss: 0.0784 - auc_8: 0.9867 - val_loss: 0.0373 - val_auc_8: 0.9587\n",
      "Epoch 77/100\n",
      "179427/179427 [==============================] - 12s 69us/step - loss: 0.0481 - auc_8: 0.9947 - val_loss: 0.0605 - val_auc_8: 0.9723\n",
      "Epoch 78/100\n",
      "179427/179427 [==============================] - 12s 69us/step - loss: 0.0479 - auc_8: 0.9946 - val_loss: 0.0415 - val_auc_8: 0.9724\n",
      "Epoch 79/100\n",
      "179427/179427 [==============================] - 12s 70us/step - loss: 0.0429 - auc_8: 0.9947 - val_loss: 0.0482 - val_auc_8: 0.9718\n",
      "Epoch 80/100\n",
      "179427/179427 [==============================] - 13s 72us/step - loss: 0.0369 - auc_8: 0.9976 - val_loss: 0.0317 - val_auc_8: 0.9720\n",
      "Epoch 81/100\n",
      "179427/179427 [==============================] - 13s 73us/step - loss: 0.0303 - auc_8: 0.9978 - val_loss: 0.0363 - val_auc_8: 0.9590\n",
      "Epoch 82/100\n",
      "179427/179427 [==============================] - 15s 86us/step - loss: 0.0902 - auc_8: 0.9915 - val_loss: 0.0522 - val_auc_8: 0.9590\n",
      "Epoch 83/100\n",
      "179427/179427 [==============================] - 16s 88us/step - loss: 0.0466 - auc_8: 0.9945 - val_loss: 0.0562 - val_auc_8: 0.9721\n",
      "Epoch 84/100\n",
      "179427/179427 [==============================] - 14s 78us/step - loss: 0.0542 - auc_8: 0.9930 - val_loss: 0.0367 - val_auc_8: 0.9722\n",
      "Epoch 85/100\n",
      "179427/179427 [==============================] - 14s 79us/step - loss: 0.0450 - auc_8: 0.9978 - val_loss: 0.0306 - val_auc_8: 0.9590\n",
      "Epoch 86/100\n",
      "179427/179427 [==============================] - 14s 79us/step - loss: 0.0452 - auc_8: 0.9960 - val_loss: 0.0391 - val_auc_8: 0.9713\n",
      "Epoch 87/100\n",
      "179427/179427 [==============================] - 14s 80us/step - loss: 0.0598 - auc_8: 0.9947 - val_loss: 0.0512 - val_auc_8: 0.9590\n",
      "Epoch 88/100\n",
      "179427/179427 [==============================] - 15s 81us/step - loss: 0.0438 - auc_8: 0.9947 - val_loss: 0.0411 - val_auc_8: 0.9591\n",
      "Epoch 89/100\n",
      "179427/179427 [==============================] - 14s 80us/step - loss: 0.0737 - auc_8: 0.9929 - val_loss: 0.0490 - val_auc_8: 0.9723\n",
      "Epoch 90/100\n",
      "179427/179427 [==============================] - 15s 84us/step - loss: 0.0437 - auc_8: 0.9947 - val_loss: 0.0611 - val_auc_8: 0.9591\n",
      "Epoch 91/100\n",
      "179427/179427 [==============================] - 14s 77us/step - loss: 0.0544 - auc_8: 0.9945 - val_loss: 0.0392 - val_auc_8: 0.9720\n",
      "Epoch 92/100\n",
      "179427/179427 [==============================] - 14s 78us/step - loss: 0.0437 - auc_8: 0.9946 - val_loss: 0.0382 - val_auc_8: 0.9590\n",
      "Epoch 93/100\n",
      "179427/179427 [==============================] - 14s 77us/step - loss: 0.0642 - auc_8: 0.9914 - val_loss: 0.0378 - val_auc_8: 0.9586\n",
      "Epoch 94/100\n",
      "179427/179427 [==============================] - 14s 81us/step - loss: 0.0192 - auc_8: 0.9995 - val_loss: 0.0305 - val_auc_8: 0.9591\n",
      "Epoch 95/100\n",
      "179427/179427 [==============================] - 14s 78us/step - loss: 0.0520 - auc_8: 0.9914 - val_loss: 0.0655 - val_auc_8: 0.9590\n",
      "Epoch 96/100\n",
      "179427/179427 [==============================] - 14s 78us/step - loss: 0.0402 - auc_8: 0.9962 - val_loss: 0.0384 - val_auc_8: 0.9591\n",
      "Epoch 97/100\n",
      "179427/179427 [==============================] - 14s 78us/step - loss: 0.0452 - auc_8: 0.9931 - val_loss: 0.0421 - val_auc_8: 0.9720\n",
      "Epoch 98/100\n",
      "179427/179427 [==============================] - 14s 80us/step - loss: 0.0408 - auc_8: 0.9946 - val_loss: 0.0410 - val_auc_8: 0.9723\n",
      "Epoch 99/100\n",
      "179427/179427 [==============================] - 15s 82us/step - loss: 0.0231 - auc_8: 0.9994 - val_loss: 0.0594 - val_auc_8: 0.9590\n",
      "Epoch 100/100\n",
      "179427/179427 [==============================] - 15s 83us/step - loss: 0.1052 - auc_8: 0.9884 - val_loss: 0.0767 - val_auc_8: 0.9590\n"
     ]
    }
   ],
   "source": [
    "weights = {0:1, 1:100}\n",
    "model.compile(optimizer='adam', loss='binary_crossentropy', metrics=[keras.metrics.F1()])\n",
    "r = model.fit(X_train, y_train, \n",
    "              validation_data=(X_validate, y_validate),\n",
    "#               batch_size=50, \n",
    "              epochs=100, \n",
    "              class_weight=weights)"
   ]
  },
  {
   "cell_type": "code",
   "execution_count": 100,
   "metadata": {
    "scrolled": true
   },
   "outputs": [
    {
     "name": "stdout",
     "output_type": "stream",
     "text": [
      "85443/85443 [==============================] - 3s 35us/step\n"
     ]
    }
   ],
   "source": [
    "score = model.evaluate(X_test, y_test)"
   ]
  },
  {
   "cell_type": "code",
   "execution_count": 101,
   "metadata": {},
   "outputs": [
    {
     "name": "stdout",
     "output_type": "stream",
     "text": [
      "[0.047645901170788756, 0.9443036317825317]\n"
     ]
    }
   ],
   "source": [
    "print(score)"
   ]
  },
  {
   "cell_type": "code",
   "execution_count": 102,
   "metadata": {},
   "outputs": [
    {
     "data": {
      "text/plain": [
       "<matplotlib.legend.Legend at 0x1dcf8782f98>"
      ]
     },
     "execution_count": 102,
     "metadata": {},
     "output_type": "execute_result"
    },
    {
     "data": {
      "image/png": "[encoded data removed]",
      "text/plain": [
       "<Figure size 864x576 with 2 Axes>"
      ]
     },
     "metadata": {},
     "output_type": "display_data"
    }
   ],
   "source": [
    "plt.figure(figsize=(12, 8))\n",
    "\n",
    "plt.subplot(2, 2, 1)\n",
    "plt.plot(r.history['loss'], label='Loss')\n",
    "plt.plot(r.history['val_loss'], label='val_Loss')\n",
    "plt.legend()\n",
    "\n",
    "plt.subplot(2, 2, 2)\n",
    "plt.plot(r.history['auc_8'], label='AUC')\n",
    "plt.plot(r.history['val_auc_8'], label='val_AUC')\n",
    "plt.legend()"
   ]
  },
  {
   "cell_type": "code",
   "execution_count": 103,
   "metadata": {},
   "outputs": [
    {
     "name": "stdout",
     "output_type": "stream",
     "text": [
      "Train Result:\n",
      "================================================\n",
      "Accuracy Score: 99.63%\n",
      "_______________________________________________\n",
      "Classification Report:\tPrecision Score: 32.21%\n",
      "\t\t\tRecall Score: 98.43%\n",
      "\t\t\tF1 score: 48.53%\n",
      "_______________________________________________\n",
      "Confusion Matrix: \n",
      " [[178447    661]\n",
      " [     5    314]]\n",
      "\n",
      "Test Result:\n",
      "================================================\n",
      "Accuracy Score: 99.58%\n",
      "_______________________________________________\n",
      "Classification Report:\tPrecision Score: 26.13%\n",
      "\t\t\tRecall Score: 88.97%\n",
      "\t\t\tF1 score: 40.40%\n",
      "_______________________________________________\n",
      "Confusion Matrix: \n",
      " [[84965   342]\n",
      " [   15   121]]\n",
      "\n"
     ]
    }
   ],
   "source": [
    "y_train_pred = model.predict(X_train)\n",
    "y_test_pred = model.predict(X_test)\n",
    "\n",
    "print_score(y_train, y_train_pred.round(), train=True)\n",
    "print_score(y_test, y_test_pred.round(), train=False)"
   ]
  },
  {
   "cell_type": "markdown",
   "metadata": {},
   "source": [
    "# 4. XGBoost"
   ]
  },
  {
   "cell_type": "code",
   "execution_count": null,
   "metadata": {},
   "outputs": [],
   "source": [
    "from xgboost import XGBClassifier\n",
    "\n",
    "X_train, X_test, y_train, y_test = train_test_split(X, y, test_size=0.3, random_state=42)\n",
    "\n",
    "xgb_model = XGBClassifier(n_estimators=500)\n",
    "\n",
    "n_estimators = [100, 250, 500]\n",
    "base_score = [0.25, 0.5, 0.75, 0.99]\n",
    "learning_rate = [0.01, 0.05, 0.1, 0.5, 0.9]\n",
    "# max_depth = [2, 3, 5, 10, 15]\n",
    "# booster = ['gbtree', 'gblinear']\n",
    "# min_child_weight = [1, 2, 3, 4]\n",
    "# weights = [1, 10, 25, 50, 75, 99, 100, 1000]\n",
    "\n",
    "hyperparameter_grid = {'n_estimators': n_estimators,  \n",
    "                       'learning_rate' : learning_rate, \n",
    "                       'base_score' : base_score,\n",
    "#                        'min_child_weight' : min_child_weight,\n",
    "#                        'max_depth': max_depth,\n",
    "#                        'booster' : booster,  \n",
    "#                        'scale_pos_weight':weights\n",
    "                      }\n",
    "\n",
    "xgb_grid_cv = GridSearchCV(xgb_model, hyperparameter_grid, scoring=\"roc_auc\", \n",
    "                                  n_jobs=-1, verbose=1, cv=3)\n",
    "\n",
    "# xgb_grid_cv.fit(X_train, y_train)"
   ]
  },
  {
   "cell_type": "code",
   "execution_count": null,
   "metadata": {},
   "outputs": [],
   "source": [
    "# xgb_grid_cv.best_estimator_"
   ]
  },
  {
   "cell_type": "code",
   "execution_count": null,
   "metadata": {},
   "outputs": [],
   "source": [
    "xgb_model = XGBClassifier(n_estimators=500, \n",
    "                          learning_rate=0.1, \n",
    "                          base_score=0.99)\n",
    "xgb_model.fit(X_train, y_train)\n",
    "\n",
    "y_train_pred = xgb_model.predict(X_train)\n",
    "y_test_pred = xgb_model.predict(X_test)\n",
    "\n",
    "print_score(y_train, y_train_pred.round(), train=True)\n",
    "print_score(y_test, y_test_pred.round(), train=False)"
   ]
  },
  {
   "cell_type": "markdown",
   "metadata": {},
   "source": [
    "# Model Building (Imbalanced Dataset)"
   ]
  },
  {
   "cell_type": "code",
   "execution_count": null,
   "metadata": {},
   "outputs": [],
   "source": [
    "from sklearn.utils import resample\n",
    "\n",
    "minority_class = df[df.Attrition == 1]\n",
    "majority_class = df[df.Attrition == 0]\n",
    "\n",
    "majority_downsample = resample(majority_class, replace=False,     # sample with replacement\n",
    "                               n_samples=237,    # to match minority class\n",
    "                               random_state=42) \n",
    "\n",
    "data_2 = pd.concat([majority_downsample, minority_class])\n",
    "\n",
    "data_2.Attrition.value_counts()"
   ]
  }
 ],
 "metadata": {
  "kernelspec": {
   "display_name": "Python 3",
   "language": "python",
   "name": "python3"
  },
  "language_info": {
   "codemirror_mode": {
    "name": "ipython",
    "version": 3
   },
   "file_extension": ".py",
   "mimetype": "text/x-python",
   "name": "python",
   "nbconvert_exporter": "python",
   "pygments_lexer": "ipython3",
   "version": "3.7.3"
  }
 },
 "nbformat": 4,
 "nbformat_minor": 4
}
