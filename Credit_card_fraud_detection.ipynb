{
 "cells": [
  {
   "cell_type": "markdown",
   "metadata": {},
   "source": [
    "# Credit Card Fraud Detection\n",
    "\n",
    "## What is Credit Card Fraud?\n",
    "Credit card fraud is when someone uses another person's credit card or account information to make unauthorized purchases or access funds through cash advances. Credit card fraud doesn’t just happen online; it happens in brick-and-mortar stores, too. As a business owner, you can avoid serious headaches – and unwanted publicity – by recognizing potentially fraudulent use of credit cards in your payment environment.\n",
    "\n",
    "## Three challenges surrounding credit card fraud\n",
    "\n",
    "1. It's not always easy to agree on ground truth for what \"fraud\" means.\n",
    "2. Regardless of how you define ground truth, the vast majority of charges are not fraudulent.\n",
    "3. Most merchants aren't experts at evaluating the business impact of fraud.\n",
    "\n",
    "## Problem Statement:\n",
    "\n",
    "The Credit Card Fraud Detection Problem includes modeling past credit card transactions with the knowledge of the ones that turned out to be a fraud. This model is then used to identify whether a new transaction is fraudulent or not. Our aim here is to detect 100% of the fraudulent transactions while minimizing the incorrect fraud classifications.\n",
    "\n",
    "\n",
    "## Observations\n",
    "- Very few transactions are actually fraudulent (less than 1%). The data set is highly skewed, consisting of `492` frauds in a total of `284,807` observations. This resulted in only `0.172%` fraud cases. This skewed set is justified by the low number of fraudulent transactions.\n",
    "- The dataset consists of numerical values from the `28` ‘Principal Component Analysis (PCA)’ transformed features, namely V1 to V28. Furthermore, there is no metadata about the original features provided, so pre-analysis or feature study could not be done.\n",
    "- The ‘Time’ and ‘Amount’ features are not transformed data.\n",
    "- There is no missing value in the dataset.\n",
    "\n",
    "## Why does class imbalanced affect model performance?\n",
    "\n",
    "- In general, we want to maximize the recall while capping FPR (False Positive Rate), but you can classify a lot of charges wrong and still maintain a low FPR because you have a large number of true negatives.\n",
    "- This is conducive to picking a relatively low threshold, which results in the high recall but extremely low precision.\n",
    "\n",
    "## What is the catch?\n",
    "- Training a model on a balanced dataset optimizes performance on validation data.\n",
    "- However, the goal is to optimize performance on the imbalanced production dataset. You ultimately need to find a balance that works best in production.\n",
    "- One solution to this problem is: Use all fraudulent transactions, but subsample non-fraudulent transactions as needed to hit our target rate.\n",
    "\n",
    "## Business questions to brainstorm:\n",
    "Since all features are anonymous, we will focus our analysis on non-anonymized features: `Time`, `Amount`\n",
    "1. How different is the amount of money used in different transaction classes?\n",
    "2. Do fraudulent transactions occur more often during a certain frames?\n"
   ]
  },
  {
   "cell_type": "code",
   "execution_count": 1,
   "metadata": {},
   "outputs": [],
   "source": [
    "import pandas as pd\n",
    "import numpy as np\n",
    "import matplotlib.pyplot as plt\n",
    "import seaborn as sns\n",
    "\n",
    "%matplotlib inline\n",
    "sns.set_style(\"whitegrid\")"
   ]
  },
  {
   "cell_type": "code",
   "execution_count": 2,
   "metadata": {},
   "outputs": [
    {
     "data": {
      "text/html": [
       "<div>\n",
       "<style scoped>\n",
       "    .dataframe tbody tr th:only-of-type {\n",
       "        vertical-align: middle;\n",
       "    }\n",
       "\n",
       "    .dataframe tbody tr th {\n",
       "        vertical-align: top;\n",
       "    }\n",
       "\n",
       "    .dataframe thead th {\n",
       "        text-align: right;\n",
       "    }\n",
       "</style>\n",
       "<table border=\"1\" class=\"dataframe\">\n",
       "  <thead>\n",
       "    <tr style=\"text-align: right;\">\n",
       "      <th></th>\n",
       "      <th>Time</th>\n",
       "      <th>V1</th>\n",
       "      <th>V2</th>\n",
       "      <th>V3</th>\n",
       "      <th>V4</th>\n",
       "      <th>V5</th>\n",
       "      <th>V6</th>\n",
       "      <th>V7</th>\n",
       "      <th>V8</th>\n",
       "      <th>V9</th>\n",
       "      <th>...</th>\n",
       "      <th>V21</th>\n",
       "      <th>V22</th>\n",
       "      <th>V23</th>\n",
       "      <th>V24</th>\n",
       "      <th>V25</th>\n",
       "      <th>V26</th>\n",
       "      <th>V27</th>\n",
       "      <th>V28</th>\n",
       "      <th>Amount</th>\n",
       "      <th>Class</th>\n",
       "    </tr>\n",
       "  </thead>\n",
       "  <tbody>\n",
       "    <tr>\n",
       "      <th>0</th>\n",
       "      <td>0.0</td>\n",
       "      <td>-1.359807</td>\n",
       "      <td>-0.072781</td>\n",
       "      <td>2.536347</td>\n",
       "      <td>1.378155</td>\n",
       "      <td>-0.338321</td>\n",
       "      <td>0.462388</td>\n",
       "      <td>0.239599</td>\n",
       "      <td>0.098698</td>\n",
       "      <td>0.363787</td>\n",
       "      <td>...</td>\n",
       "      <td>-0.018307</td>\n",
       "      <td>0.277838</td>\n",
       "      <td>-0.110474</td>\n",
       "      <td>0.066928</td>\n",
       "      <td>0.128539</td>\n",
       "      <td>-0.189115</td>\n",
       "      <td>0.133558</td>\n",
       "      <td>-0.021053</td>\n",
       "      <td>149.62</td>\n",
       "      <td>0</td>\n",
       "    </tr>\n",
       "    <tr>\n",
       "      <th>1</th>\n",
       "      <td>0.0</td>\n",
       "      <td>1.191857</td>\n",
       "      <td>0.266151</td>\n",
       "      <td>0.166480</td>\n",
       "      <td>0.448154</td>\n",
       "      <td>0.060018</td>\n",
       "      <td>-0.082361</td>\n",
       "      <td>-0.078803</td>\n",
       "      <td>0.085102</td>\n",
       "      <td>-0.255425</td>\n",
       "      <td>...</td>\n",
       "      <td>-0.225775</td>\n",
       "      <td>-0.638672</td>\n",
       "      <td>0.101288</td>\n",
       "      <td>-0.339846</td>\n",
       "      <td>0.167170</td>\n",
       "      <td>0.125895</td>\n",
       "      <td>-0.008983</td>\n",
       "      <td>0.014724</td>\n",
       "      <td>2.69</td>\n",
       "      <td>0</td>\n",
       "    </tr>\n",
       "    <tr>\n",
       "      <th>2</th>\n",
       "      <td>1.0</td>\n",
       "      <td>-1.358354</td>\n",
       "      <td>-1.340163</td>\n",
       "      <td>1.773209</td>\n",
       "      <td>0.379780</td>\n",
       "      <td>-0.503198</td>\n",
       "      <td>1.800499</td>\n",
       "      <td>0.791461</td>\n",
       "      <td>0.247676</td>\n",
       "      <td>-1.514654</td>\n",
       "      <td>...</td>\n",
       "      <td>0.247998</td>\n",
       "      <td>0.771679</td>\n",
       "      <td>0.909412</td>\n",
       "      <td>-0.689281</td>\n",
       "      <td>-0.327642</td>\n",
       "      <td>-0.139097</td>\n",
       "      <td>-0.055353</td>\n",
       "      <td>-0.059752</td>\n",
       "      <td>378.66</td>\n",
       "      <td>0</td>\n",
       "    </tr>\n",
       "    <tr>\n",
       "      <th>3</th>\n",
       "      <td>1.0</td>\n",
       "      <td>-0.966272</td>\n",
       "      <td>-0.185226</td>\n",
       "      <td>1.792993</td>\n",
       "      <td>-0.863291</td>\n",
       "      <td>-0.010309</td>\n",
       "      <td>1.247203</td>\n",
       "      <td>0.237609</td>\n",
       "      <td>0.377436</td>\n",
       "      <td>-1.387024</td>\n",
       "      <td>...</td>\n",
       "      <td>-0.108300</td>\n",
       "      <td>0.005274</td>\n",
       "      <td>-0.190321</td>\n",
       "      <td>-1.175575</td>\n",
       "      <td>0.647376</td>\n",
       "      <td>-0.221929</td>\n",
       "      <td>0.062723</td>\n",
       "      <td>0.061458</td>\n",
       "      <td>123.50</td>\n",
       "      <td>0</td>\n",
       "    </tr>\n",
       "    <tr>\n",
       "      <th>4</th>\n",
       "      <td>2.0</td>\n",
       "      <td>-1.158233</td>\n",
       "      <td>0.877737</td>\n",
       "      <td>1.548718</td>\n",
       "      <td>0.403034</td>\n",
       "      <td>-0.407193</td>\n",
       "      <td>0.095921</td>\n",
       "      <td>0.592941</td>\n",
       "      <td>-0.270533</td>\n",
       "      <td>0.817739</td>\n",
       "      <td>...</td>\n",
       "      <td>-0.009431</td>\n",
       "      <td>0.798278</td>\n",
       "      <td>-0.137458</td>\n",
       "      <td>0.141267</td>\n",
       "      <td>-0.206010</td>\n",
       "      <td>0.502292</td>\n",
       "      <td>0.219422</td>\n",
       "      <td>0.215153</td>\n",
       "      <td>69.99</td>\n",
       "      <td>0</td>\n",
       "    </tr>\n",
       "  </tbody>\n",
       "</table>\n",
       "<p>5 rows × 31 columns</p>\n",
       "</div>"
      ],
      "text/plain": [
       "   Time        V1        V2        V3        V4        V5        V6        V7  \\\n",
       "0   0.0 -1.359807 -0.072781  2.536347  1.378155 -0.338321  0.462388  0.239599   \n",
       "1   0.0  1.191857  0.266151  0.166480  0.448154  0.060018 -0.082361 -0.078803   \n",
       "2   1.0 -1.358354 -1.340163  1.773209  0.379780 -0.503198  1.800499  0.791461   \n",
       "3   1.0 -0.966272 -0.185226  1.792993 -0.863291 -0.010309  1.247203  0.237609   \n",
       "4   2.0 -1.158233  0.877737  1.548718  0.403034 -0.407193  0.095921  0.592941   \n",
       "\n",
       "         V8        V9  ...       V21       V22       V23       V24       V25  \\\n",
       "0  0.098698  0.363787  ... -0.018307  0.277838 -0.110474  0.066928  0.128539   \n",
       "1  0.085102 -0.255425  ... -0.225775 -0.638672  0.101288 -0.339846  0.167170   \n",
       "2  0.247676 -1.514654  ...  0.247998  0.771679  0.909412 -0.689281 -0.327642   \n",
       "3  0.377436 -1.387024  ... -0.108300  0.005274 -0.190321 -1.175575  0.647376   \n",
       "4 -0.270533  0.817739  ... -0.009431  0.798278 -0.137458  0.141267 -0.206010   \n",
       "\n",
       "        V26       V27       V28  Amount  Class  \n",
       "0 -0.189115  0.133558 -0.021053  149.62      0  \n",
       "1  0.125895 -0.008983  0.014724    2.69      0  \n",
       "2 -0.139097 -0.055353 -0.059752  378.66      0  \n",
       "3 -0.221929  0.062723  0.061458  123.50      0  \n",
       "4  0.502292  0.219422  0.215153   69.99      0  \n",
       "\n",
       "[5 rows x 31 columns]"
      ]
     },
     "execution_count": 2,
     "metadata": {},
     "output_type": "execute_result"
    }
   ],
   "source": [
    "data = pd.read_csv(\"data/creditcard.csv\")\n",
    "data.head()"
   ]
  },
  {
   "cell_type": "markdown",
   "metadata": {},
   "source": [
    "# 1. Exploratory Data Analysis\n"
   ]
  },
  {
   "cell_type": "code",
   "execution_count": 3,
   "metadata": {},
   "outputs": [
    {
     "name": "stdout",
     "output_type": "stream",
     "text": [
      "<class 'pandas.core.frame.DataFrame'>\n",
      "RangeIndex: 284807 entries, 0 to 284806\n",
      "Data columns (total 31 columns):\n",
      " #   Column  Non-Null Count   Dtype  \n",
      "---  ------  --------------   -----  \n",
      " 0   Time    284807 non-null  float64\n",
      " 1   V1      284807 non-null  float64\n",
      " 2   V2      284807 non-null  float64\n",
      " 3   V3      284807 non-null  float64\n",
      " 4   V4      284807 non-null  float64\n",
      " 5   V5      284807 non-null  float64\n",
      " 6   V6      284807 non-null  float64\n",
      " 7   V7      284807 non-null  float64\n",
      " 8   V8      284807 non-null  float64\n",
      " 9   V9      284807 non-null  float64\n",
      " 10  V10     284807 non-null  float64\n",
      " 11  V11     284807 non-null  float64\n",
      " 12  V12     284807 non-null  float64\n",
      " 13  V13     284807 non-null  float64\n",
      " 14  V14     284807 non-null  float64\n",
      " 15  V15     284807 non-null  float64\n",
      " 16  V16     284807 non-null  float64\n",
      " 17  V17     284807 non-null  float64\n",
      " 18  V18     284807 non-null  float64\n",
      " 19  V19     284807 non-null  float64\n",
      " 20  V20     284807 non-null  float64\n",
      " 21  V21     284807 non-null  float64\n",
      " 22  V22     284807 non-null  float64\n",
      " 23  V23     284807 non-null  float64\n",
      " 24  V24     284807 non-null  float64\n",
      " 25  V25     284807 non-null  float64\n",
      " 26  V26     284807 non-null  float64\n",
      " 27  V27     284807 non-null  float64\n",
      " 28  V28     284807 non-null  float64\n",
      " 29  Amount  284807 non-null  float64\n",
      " 30  Class   284807 non-null  int64  \n",
      "dtypes: float64(30), int64(1)\n",
      "memory usage: 67.4 MB\n"
     ]
    }
   ],
   "source": [
    "data.info()"
   ]
  },
  {
   "cell_type": "code",
   "execution_count": 4,
   "metadata": {},
   "outputs": [
    {
     "data": {
      "text/html": [
       "<div>\n",
       "<style scoped>\n",
       "    .dataframe tbody tr th:only-of-type {\n",
       "        vertical-align: middle;\n",
       "    }\n",
       "\n",
       "    .dataframe tbody tr th {\n",
       "        vertical-align: top;\n",
       "    }\n",
       "\n",
       "    .dataframe thead th {\n",
       "        text-align: right;\n",
       "    }\n",
       "</style>\n",
       "<table border=\"1\" class=\"dataframe\">\n",
       "  <thead>\n",
       "    <tr style=\"text-align: right;\">\n",
       "      <th></th>\n",
       "      <th>Time</th>\n",
       "      <th>V1</th>\n",
       "      <th>V2</th>\n",
       "      <th>V3</th>\n",
       "      <th>V4</th>\n",
       "      <th>V5</th>\n",
       "      <th>V6</th>\n",
       "      <th>V7</th>\n",
       "      <th>V8</th>\n",
       "      <th>V9</th>\n",
       "      <th>...</th>\n",
       "      <th>V21</th>\n",
       "      <th>V22</th>\n",
       "      <th>V23</th>\n",
       "      <th>V24</th>\n",
       "      <th>V25</th>\n",
       "      <th>V26</th>\n",
       "      <th>V27</th>\n",
       "      <th>V28</th>\n",
       "      <th>Amount</th>\n",
       "      <th>Class</th>\n",
       "    </tr>\n",
       "  </thead>\n",
       "  <tbody>\n",
       "    <tr>\n",
       "      <th>count</th>\n",
       "      <td>284807.00</td>\n",
       "      <td>284807.00</td>\n",
       "      <td>284807.00</td>\n",
       "      <td>284807.00</td>\n",
       "      <td>284807.00</td>\n",
       "      <td>284807.00</td>\n",
       "      <td>284807.00</td>\n",
       "      <td>284807.00</td>\n",
       "      <td>284807.00</td>\n",
       "      <td>284807.00</td>\n",
       "      <td>...</td>\n",
       "      <td>284807.00</td>\n",
       "      <td>284807.00</td>\n",
       "      <td>284807.00</td>\n",
       "      <td>284807.00</td>\n",
       "      <td>284807.00</td>\n",
       "      <td>284807.00</td>\n",
       "      <td>284807.00</td>\n",
       "      <td>284807.00</td>\n",
       "      <td>284807.00</td>\n",
       "      <td>284807.00</td>\n",
       "    </tr>\n",
       "    <tr>\n",
       "      <th>mean</th>\n",
       "      <td>94813.86</td>\n",
       "      <td>0.00</td>\n",
       "      <td>0.00</td>\n",
       "      <td>-0.00</td>\n",
       "      <td>0.00</td>\n",
       "      <td>-0.00</td>\n",
       "      <td>0.00</td>\n",
       "      <td>-0.00</td>\n",
       "      <td>-0.00</td>\n",
       "      <td>-0.00</td>\n",
       "      <td>...</td>\n",
       "      <td>0.00</td>\n",
       "      <td>0.00</td>\n",
       "      <td>0.00</td>\n",
       "      <td>0.00</td>\n",
       "      <td>0.00</td>\n",
       "      <td>0.00</td>\n",
       "      <td>-0.00</td>\n",
       "      <td>-0.00</td>\n",
       "      <td>88.35</td>\n",
       "      <td>0.00</td>\n",
       "    </tr>\n",
       "    <tr>\n",
       "      <th>std</th>\n",
       "      <td>47488.15</td>\n",
       "      <td>1.96</td>\n",
       "      <td>1.65</td>\n",
       "      <td>1.52</td>\n",
       "      <td>1.42</td>\n",
       "      <td>1.38</td>\n",
       "      <td>1.33</td>\n",
       "      <td>1.24</td>\n",
       "      <td>1.19</td>\n",
       "      <td>1.10</td>\n",
       "      <td>...</td>\n",
       "      <td>0.73</td>\n",
       "      <td>0.73</td>\n",
       "      <td>0.62</td>\n",
       "      <td>0.61</td>\n",
       "      <td>0.52</td>\n",
       "      <td>0.48</td>\n",
       "      <td>0.40</td>\n",
       "      <td>0.33</td>\n",
       "      <td>250.12</td>\n",
       "      <td>0.04</td>\n",
       "    </tr>\n",
       "    <tr>\n",
       "      <th>min</th>\n",
       "      <td>0.00</td>\n",
       "      <td>-56.41</td>\n",
       "      <td>-72.72</td>\n",
       "      <td>-48.33</td>\n",
       "      <td>-5.68</td>\n",
       "      <td>-113.74</td>\n",
       "      <td>-26.16</td>\n",
       "      <td>-43.56</td>\n",
       "      <td>-73.22</td>\n",
       "      <td>-13.43</td>\n",
       "      <td>...</td>\n",
       "      <td>-34.83</td>\n",
       "      <td>-10.93</td>\n",
       "      <td>-44.81</td>\n",
       "      <td>-2.84</td>\n",
       "      <td>-10.30</td>\n",
       "      <td>-2.60</td>\n",
       "      <td>-22.57</td>\n",
       "      <td>-15.43</td>\n",
       "      <td>0.00</td>\n",
       "      <td>0.00</td>\n",
       "    </tr>\n",
       "    <tr>\n",
       "      <th>25%</th>\n",
       "      <td>54201.50</td>\n",
       "      <td>-0.92</td>\n",
       "      <td>-0.60</td>\n",
       "      <td>-0.89</td>\n",
       "      <td>-0.85</td>\n",
       "      <td>-0.69</td>\n",
       "      <td>-0.77</td>\n",
       "      <td>-0.55</td>\n",
       "      <td>-0.21</td>\n",
       "      <td>-0.64</td>\n",
       "      <td>...</td>\n",
       "      <td>-0.23</td>\n",
       "      <td>-0.54</td>\n",
       "      <td>-0.16</td>\n",
       "      <td>-0.35</td>\n",
       "      <td>-0.32</td>\n",
       "      <td>-0.33</td>\n",
       "      <td>-0.07</td>\n",
       "      <td>-0.05</td>\n",
       "      <td>5.60</td>\n",
       "      <td>0.00</td>\n",
       "    </tr>\n",
       "    <tr>\n",
       "      <th>50%</th>\n",
       "      <td>84692.00</td>\n",
       "      <td>0.02</td>\n",
       "      <td>0.07</td>\n",
       "      <td>0.18</td>\n",
       "      <td>-0.02</td>\n",
       "      <td>-0.05</td>\n",
       "      <td>-0.27</td>\n",
       "      <td>0.04</td>\n",
       "      <td>0.02</td>\n",
       "      <td>-0.05</td>\n",
       "      <td>...</td>\n",
       "      <td>-0.03</td>\n",
       "      <td>0.01</td>\n",
       "      <td>-0.01</td>\n",
       "      <td>0.04</td>\n",
       "      <td>0.02</td>\n",
       "      <td>-0.05</td>\n",
       "      <td>0.00</td>\n",
       "      <td>0.01</td>\n",
       "      <td>22.00</td>\n",
       "      <td>0.00</td>\n",
       "    </tr>\n",
       "    <tr>\n",
       "      <th>75%</th>\n",
       "      <td>139320.50</td>\n",
       "      <td>1.32</td>\n",
       "      <td>0.80</td>\n",
       "      <td>1.03</td>\n",
       "      <td>0.74</td>\n",
       "      <td>0.61</td>\n",
       "      <td>0.40</td>\n",
       "      <td>0.57</td>\n",
       "      <td>0.33</td>\n",
       "      <td>0.60</td>\n",
       "      <td>...</td>\n",
       "      <td>0.19</td>\n",
       "      <td>0.53</td>\n",
       "      <td>0.15</td>\n",
       "      <td>0.44</td>\n",
       "      <td>0.35</td>\n",
       "      <td>0.24</td>\n",
       "      <td>0.09</td>\n",
       "      <td>0.08</td>\n",
       "      <td>77.16</td>\n",
       "      <td>0.00</td>\n",
       "    </tr>\n",
       "    <tr>\n",
       "      <th>max</th>\n",
       "      <td>172792.00</td>\n",
       "      <td>2.45</td>\n",
       "      <td>22.06</td>\n",
       "      <td>9.38</td>\n",
       "      <td>16.88</td>\n",
       "      <td>34.80</td>\n",
       "      <td>73.30</td>\n",
       "      <td>120.59</td>\n",
       "      <td>20.01</td>\n",
       "      <td>15.59</td>\n",
       "      <td>...</td>\n",
       "      <td>27.20</td>\n",
       "      <td>10.50</td>\n",
       "      <td>22.53</td>\n",
       "      <td>4.58</td>\n",
       "      <td>7.52</td>\n",
       "      <td>3.52</td>\n",
       "      <td>31.61</td>\n",
       "      <td>33.85</td>\n",
       "      <td>25691.16</td>\n",
       "      <td>1.00</td>\n",
       "    </tr>\n",
       "  </tbody>\n",
       "</table>\n",
       "<p>8 rows × 31 columns</p>\n",
       "</div>"
      ],
      "text/plain": [
       "           Time        V1        V2        V3        V4        V5        V6  \\\n",
       "count 284807.00 284807.00 284807.00 284807.00 284807.00 284807.00 284807.00   \n",
       "mean   94813.86      0.00      0.00     -0.00      0.00     -0.00      0.00   \n",
       "std    47488.15      1.96      1.65      1.52      1.42      1.38      1.33   \n",
       "min        0.00    -56.41    -72.72    -48.33     -5.68   -113.74    -26.16   \n",
       "25%    54201.50     -0.92     -0.60     -0.89     -0.85     -0.69     -0.77   \n",
       "50%    84692.00      0.02      0.07      0.18     -0.02     -0.05     -0.27   \n",
       "75%   139320.50      1.32      0.80      1.03      0.74      0.61      0.40   \n",
       "max   172792.00      2.45     22.06      9.38     16.88     34.80     73.30   \n",
       "\n",
       "             V7        V8        V9  ...       V21       V22       V23  \\\n",
       "count 284807.00 284807.00 284807.00  ... 284807.00 284807.00 284807.00   \n",
       "mean      -0.00     -0.00     -0.00  ...      0.00      0.00      0.00   \n",
       "std        1.24      1.19      1.10  ...      0.73      0.73      0.62   \n",
       "min      -43.56    -73.22    -13.43  ...    -34.83    -10.93    -44.81   \n",
       "25%       -0.55     -0.21     -0.64  ...     -0.23     -0.54     -0.16   \n",
       "50%        0.04      0.02     -0.05  ...     -0.03      0.01     -0.01   \n",
       "75%        0.57      0.33      0.60  ...      0.19      0.53      0.15   \n",
       "max      120.59     20.01     15.59  ...     27.20     10.50     22.53   \n",
       "\n",
       "            V24       V25       V26       V27       V28    Amount     Class  \n",
       "count 284807.00 284807.00 284807.00 284807.00 284807.00 284807.00 284807.00  \n",
       "mean       0.00      0.00      0.00     -0.00     -0.00     88.35      0.00  \n",
       "std        0.61      0.52      0.48      0.40      0.33    250.12      0.04  \n",
       "min       -2.84    -10.30     -2.60    -22.57    -15.43      0.00      0.00  \n",
       "25%       -0.35     -0.32     -0.33     -0.07     -0.05      5.60      0.00  \n",
       "50%        0.04      0.02     -0.05      0.00      0.01     22.00      0.00  \n",
       "75%        0.44      0.35      0.24      0.09      0.08     77.16      0.00  \n",
       "max        4.58      7.52      3.52     31.61     33.85  25691.16      1.00  \n",
       "\n",
       "[8 rows x 31 columns]"
      ]
     },
     "execution_count": 4,
     "metadata": {},
     "output_type": "execute_result"
    }
   ],
   "source": [
    "pd.set_option(\"display.float\", \"{:.2f}\".format)\n",
    "data.describe()"
   ]
  },
  {
   "cell_type": "markdown",
   "metadata": {},
   "source": [
    "Let us now check the missing values in the dataset"
   ]
  },
  {
   "cell_type": "code",
   "execution_count": 5,
   "metadata": {},
   "outputs": [
    {
     "data": {
      "text/plain": [
       "0"
      ]
     },
     "execution_count": 5,
     "metadata": {},
     "output_type": "execute_result"
    }
   ],
   "source": [
    "data.isnull().sum().sum()"
   ]
  },
  {
   "cell_type": "code",
   "execution_count": 6,
   "metadata": {},
   "outputs": [
    {
     "data": {
      "text/plain": [
       "Index(['Time', 'V1', 'V2', 'V3', 'V4', 'V5', 'V6', 'V7', 'V8', 'V9', 'V10',\n",
       "       'V11', 'V12', 'V13', 'V14', 'V15', 'V16', 'V17', 'V18', 'V19', 'V20',\n",
       "       'V21', 'V22', 'V23', 'V24', 'V25', 'V26', 'V27', 'V28', 'Amount',\n",
       "       'Class'],\n",
       "      dtype='object')"
      ]
     },
     "execution_count": 6,
     "metadata": {},
     "output_type": "execute_result"
    }
   ],
   "source": [
    "data.columns"
   ]
  },
  {
   "cell_type": "markdown",
   "metadata": {},
   "source": [
    "### The only non-transformed variables to work with are:\n",
    "- `Time`\n",
    "- `Amount`\n",
    "- `Class` (1: fraud, 0: not_fraud)"
   ]
  },
  {
   "cell_type": "code",
   "execution_count": 7,
   "metadata": {},
   "outputs": [
    {
     "data": {
      "image/png": "[encoded data removed]",
      "text/plain": [
       "<Figure size 432x288 with 1 Axes>"
      ]
     },
     "metadata": {},
     "output_type": "display_data"
    }
   ],
   "source": [
    "LABELS = [\"Normal\", \"Fraud\"]\n",
    "\n",
    "count_classes = pd.value_counts(data['Class'], sort = True)\n",
    "count_classes.plot(kind = 'bar', rot=0)\n",
    "plt.title(\"Transaction Class Distribution\")\n",
    "plt.xticks(range(2), LABELS)\n",
    "plt.xlabel(\"Class\")\n",
    "plt.ylabel(\"Frequency\");"
   ]
  },
  {
   "cell_type": "code",
   "execution_count": 8,
   "metadata": {},
   "outputs": [
    {
     "data": {
      "text/plain": [
       "0    284315\n",
       "1       492\n",
       "Name: Class, dtype: int64"
      ]
     },
     "execution_count": 8,
     "metadata": {},
     "output_type": "execute_result"
    }
   ],
   "source": [
    "data.Class.value_counts()"
   ]
  },
  {
   "cell_type": "markdown",
   "metadata": {},
   "source": [
    "Notice how imbalanced is our original dataset! Most of the transactions are non-fraud. If we use this dataframe as the base for our predictive models and analysis we might get a lot of errors and our algorithms will probably overfit since it will \"assume\" that most transactions are not fraud. But we don't want our model to assume, we want our model to detect patterns that give signs of fraud!"
   ]
  },
  {
   "cell_type": "markdown",
   "metadata": {},
   "source": [
    "Determine the number of fraud and valid transactions in the entire dataset."
   ]
  },
  {
   "cell_type": "code",
   "execution_count": 9,
   "metadata": {},
   "outputs": [],
   "source": [
    "fraud = data[data['Class']==1]\n",
    "normal = data[data['Class']==0]"
   ]
  },
  {
   "cell_type": "code",
   "execution_count": 10,
   "metadata": {},
   "outputs": [
    {
     "name": "stdout",
     "output_type": "stream",
     "text": [
      "Shape of Fraudulant transactions: (492, 31)\n",
      "Shape of Non-Fraudulant transactions: (284315, 31)\n"
     ]
    }
   ],
   "source": [
    "print(f\"Shape of Fraudulant transactions: {fraud.shape}\")\n",
    "print(f\"Shape of Non-Fraudulant transactions: {normal.shape}\")"
   ]
  },
  {
   "cell_type": "markdown",
   "metadata": {},
   "source": [
    "How different are the amount of money used in different transaction classes?"
   ]
  },
  {
   "cell_type": "code",
   "execution_count": 11,
   "metadata": {},
   "outputs": [
    {
     "data": {
      "text/html": [
       "<div>\n",
       "<style scoped>\n",
       "    .dataframe tbody tr th:only-of-type {\n",
       "        vertical-align: middle;\n",
       "    }\n",
       "\n",
       "    .dataframe tbody tr th {\n",
       "        vertical-align: top;\n",
       "    }\n",
       "\n",
       "    .dataframe thead th {\n",
       "        text-align: right;\n",
       "    }\n",
       "</style>\n",
       "<table border=\"1\" class=\"dataframe\">\n",
       "  <thead>\n",
       "    <tr style=\"text-align: right;\">\n",
       "      <th></th>\n",
       "      <th>Amount</th>\n",
       "      <th>Amount</th>\n",
       "    </tr>\n",
       "  </thead>\n",
       "  <tbody>\n",
       "    <tr>\n",
       "      <th>count</th>\n",
       "      <td>492.00</td>\n",
       "      <td>284315.00</td>\n",
       "    </tr>\n",
       "    <tr>\n",
       "      <th>mean</th>\n",
       "      <td>122.21</td>\n",
       "      <td>88.29</td>\n",
       "    </tr>\n",
       "    <tr>\n",
       "      <th>std</th>\n",
       "      <td>256.68</td>\n",
       "      <td>250.11</td>\n",
       "    </tr>\n",
       "    <tr>\n",
       "      <th>min</th>\n",
       "      <td>0.00</td>\n",
       "      <td>0.00</td>\n",
       "    </tr>\n",
       "    <tr>\n",
       "      <th>25%</th>\n",
       "      <td>1.00</td>\n",
       "      <td>5.65</td>\n",
       "    </tr>\n",
       "    <tr>\n",
       "      <th>50%</th>\n",
       "      <td>9.25</td>\n",
       "      <td>22.00</td>\n",
       "    </tr>\n",
       "    <tr>\n",
       "      <th>75%</th>\n",
       "      <td>105.89</td>\n",
       "      <td>77.05</td>\n",
       "    </tr>\n",
       "    <tr>\n",
       "      <th>max</th>\n",
       "      <td>2125.87</td>\n",
       "      <td>25691.16</td>\n",
       "    </tr>\n",
       "  </tbody>\n",
       "</table>\n",
       "</div>"
      ],
      "text/plain": [
       "       Amount    Amount\n",
       "count  492.00 284315.00\n",
       "mean   122.21     88.29\n",
       "std    256.68    250.11\n",
       "min      0.00      0.00\n",
       "25%      1.00      5.65\n",
       "50%      9.25     22.00\n",
       "75%    105.89     77.05\n",
       "max   2125.87  25691.16"
      ]
     },
     "execution_count": 11,
     "metadata": {},
     "output_type": "execute_result"
    }
   ],
   "source": [
    "pd.concat([fraud.Amount.describe(), normal.Amount.describe()], axis=1)"
   ]
  },
  {
   "cell_type": "markdown",
   "metadata": {},
   "source": [
    "Do fraudulent transactions occur more often during certain time frame ?"
   ]
  },
  {
   "cell_type": "code",
   "execution_count": 12,
   "metadata": {},
   "outputs": [
    {
     "data": {
      "text/html": [
       "<div>\n",
       "<style scoped>\n",
       "    .dataframe tbody tr th:only-of-type {\n",
       "        vertical-align: middle;\n",
       "    }\n",
       "\n",
       "    .dataframe tbody tr th {\n",
       "        vertical-align: top;\n",
       "    }\n",
       "\n",
       "    .dataframe thead th {\n",
       "        text-align: right;\n",
       "    }\n",
       "</style>\n",
       "<table border=\"1\" class=\"dataframe\">\n",
       "  <thead>\n",
       "    <tr style=\"text-align: right;\">\n",
       "      <th></th>\n",
       "      <th>Time</th>\n",
       "      <th>Time</th>\n",
       "    </tr>\n",
       "  </thead>\n",
       "  <tbody>\n",
       "    <tr>\n",
       "      <th>count</th>\n",
       "      <td>492.00</td>\n",
       "      <td>284315.00</td>\n",
       "    </tr>\n",
       "    <tr>\n",
       "      <th>mean</th>\n",
       "      <td>80746.81</td>\n",
       "      <td>94838.20</td>\n",
       "    </tr>\n",
       "    <tr>\n",
       "      <th>std</th>\n",
       "      <td>47835.37</td>\n",
       "      <td>47484.02</td>\n",
       "    </tr>\n",
       "    <tr>\n",
       "      <th>min</th>\n",
       "      <td>406.00</td>\n",
       "      <td>0.00</td>\n",
       "    </tr>\n",
       "    <tr>\n",
       "      <th>25%</th>\n",
       "      <td>41241.50</td>\n",
       "      <td>54230.00</td>\n",
       "    </tr>\n",
       "    <tr>\n",
       "      <th>50%</th>\n",
       "      <td>75568.50</td>\n",
       "      <td>84711.00</td>\n",
       "    </tr>\n",
       "    <tr>\n",
       "      <th>75%</th>\n",
       "      <td>128483.00</td>\n",
       "      <td>139333.00</td>\n",
       "    </tr>\n",
       "    <tr>\n",
       "      <th>max</th>\n",
       "      <td>170348.00</td>\n",
       "      <td>172792.00</td>\n",
       "    </tr>\n",
       "  </tbody>\n",
       "</table>\n",
       "</div>"
      ],
      "text/plain": [
       "           Time      Time\n",
       "count    492.00 284315.00\n",
       "mean   80746.81  94838.20\n",
       "std    47835.37  47484.02\n",
       "min      406.00      0.00\n",
       "25%    41241.50  54230.00\n",
       "50%    75568.50  84711.00\n",
       "75%   128483.00 139333.00\n",
       "max   170348.00 172792.00"
      ]
     },
     "execution_count": 12,
     "metadata": {},
     "output_type": "execute_result"
    }
   ],
   "source": [
    "pd.concat([fraud.Time.describe(), normal.Time.describe()], axis=1)"
   ]
  },
  {
   "cell_type": "code",
   "execution_count": 13,
   "metadata": {},
   "outputs": [
    {
     "data": {
      "image/png": "[encoded data removed]",
      "text/plain": [
       "<Figure size 720x576 with 2 Axes>"
      ]
     },
     "metadata": {},
     "output_type": "display_data"
    }
   ],
   "source": [
    "# plot the time feature\n",
    "plt.figure(figsize=(10,8))\n",
    "\n",
    "plt.subplot(2, 2, 1)\n",
    "plt.title('Time Distribution (Seconds)')\n",
    "\n",
    "sns.distplot(data['Time'], color='blue');\n",
    "\n",
    "#plot the amount feature\n",
    "plt.subplot(2, 2, 2)\n",
    "plt.title('Distribution of Amount')\n",
    "sns.distplot(data['Amount'],color='blue');"
   ]
  },
  {
   "cell_type": "code",
   "execution_count": 14,
   "metadata": {},
   "outputs": [
    {
     "data": {
      "text/plain": [
       "<matplotlib.legend.Legend at 0x11baff30080>"
      ]
     },
     "execution_count": 14,
     "metadata": {},
     "output_type": "execute_result"
    },
    {
     "data": {
      "image/png": "[encoded data removed]",
      "text/plain": [
       "<Figure size 864x720 with 2 Axes>"
      ]
     },
     "metadata": {},
     "output_type": "display_data"
    }
   ],
   "source": [
    "# data[data.Class == 0].Time.hist(bins=35, color='blue', alpha=0.6)\n",
    "plt.figure(figsize=(12, 10))\n",
    "\n",
    "plt.subplot(2, 2, 1)\n",
    "data[data.Class == 1].Time.hist(bins=35, color='blue', alpha=0.6, label=\"Fraudulant Transaction\")\n",
    "plt.legend()\n",
    "\n",
    "plt.subplot(2, 2, 2)\n",
    "data[data.Class == 0].Time.hist(bins=35, color='blue', alpha=0.6, label=\"Non Fraudulant Transaction\")\n",
    "plt.legend()"
   ]
  },
  {
   "cell_type": "markdown",
   "metadata": {},
   "source": [
    "By seeing the distributions we can have an idea how skewed are these features, we can also see further distributions of the other features. There are techniques that can help the distributions be less skewed which will be implemented in this notebook in the future.\n",
    "\n",
    "Doesn't seem like the time of transaction really matters here as per above observation.\n",
    "Now let us take a sample of the dataset for out modelling and prediction"
   ]
  },
  {
   "cell_type": "code",
   "execution_count": 15,
   "metadata": {},
   "outputs": [
    {
     "data": {
      "image/png": "[encoded data removed]",
      "text/plain": [
       "<Figure size 1440x1440 with 36 Axes>"
      ]
     },
     "metadata": {},
     "output_type": "display_data"
    }
   ],
   "source": [
    "data.hist(figsize=(20, 20));"
   ]
  },
  {
   "cell_type": "code",
   "execution_count": 16,
   "metadata": {},
   "outputs": [
    {
     "data": {
      "image/png": "[encoded data removed]",
      "text/plain": [
       "<Figure size 720x720 with 2 Axes>"
      ]
     },
     "metadata": {},
     "output_type": "display_data"
    }
   ],
   "source": [
    "# heatmap to find any high correlations\n",
    "\n",
    "plt.figure(figsize=(10,10))\n",
    "sns.heatmap(data=data.corr(), cmap=\"seismic\")\n",
    "plt.show();"
   ]
  },
  {
   "cell_type": "markdown",
   "metadata": {},
   "source": [
    "### Highest correlations come from:\n",
    "    - Time & V3 (-0.42)\n",
    "    - Amount & V2 (-0.53)\n",
    "    - Amount & V4 (0.4)\n",
    "\n",
    "- While these correlations are high, I don't expect it to run the risk of multicollinearity.\n",
    "\n",
    "- The correlation matrix shows also that none of the V1 to V28 PCA components have any correlation to each other however if we observe Class has some form positive and negative correlations with the V components but has no correlation with Time and Amount."
   ]
  },
  {
   "cell_type": "markdown",
   "metadata": {},
   "source": [
    "### Data Pre-processing\n",
    "\n",
    "`Time` and `Amount` should be scaled as the other columns."
   ]
  },
  {
   "cell_type": "code",
   "execution_count": 18,
   "metadata": {},
   "outputs": [],
   "source": [
    "from sklearn.model_selection import train_test_split\n",
    "from sklearn.preprocessing import StandardScaler\n",
    "\n",
    "scalar = StandardScaler()\n",
    "\n",
    "X = data.drop('Class', axis=1)\n",
    "y = data.Class\n",
    "\n",
    "X_train, X_test, y_train, y_test = train_test_split(X, y, test_size=0.3, random_state=42)\n",
    "\n",
    "X_train = scalar.fit_transform(X_train)\n",
    "X_test = scalar.transform(X_test)"
   ]
  },
  {
   "cell_type": "code",
   "execution_count": 19,
   "metadata": {},
   "outputs": [
    {
     "name": "stdout",
     "output_type": "stream",
     "text": [
      "TRAINING: X_train: (199364, 30), y_train: (199364,)\n",
      "_______________________________________________________\n",
      "TESTING: X_test: (85443, 30), y_test: (85443,)\n"
     ]
    }
   ],
   "source": [
    "print(f\"TRAINING: X_train: {X_train.shape}, y_train: {y_train.shape}\\n{'_'*55}\")\n",
    "print(f\"TESTING: X_test: {X_test.shape}, y_test: {y_test.shape}\")"
   ]
  },
  {
   "cell_type": "code",
   "execution_count": 20,
   "metadata": {},
   "outputs": [],
   "source": [
    "from sklearn.metrics import accuracy_score, confusion_matrix, precision_score, recall_score, f1_score\n",
    "\n",
    "def print_score(label, prediction, train=True):\n",
    "    if train:\n",
    "        print(\"Train Result:\\n================================================\")\n",
    "        print(f\"Accuracy Score: {accuracy_score(label, prediction) * 100:.4f}%\")\n",
    "        print(\"_______________________________________________\")\n",
    "        print(\"Classification Report:\", end='')\n",
    "        print(f\"\\tPrecision Score: {precision_score(label, prediction) * 100:.2f}%\")\n",
    "        print(f\"\\t\\t\\tRecall Score: {recall_score(label, prediction) * 100:.2f}%\")\n",
    "        print(f\"\\t\\t\\tF1 score: {f1_score(label, prediction) * 100:.2f}%\")\n",
    "        print(\"_______________________________________________\")\n",
    "        print(f\"Confusion Matrix: \\n {confusion_matrix(y_train, prediction)}\\n\")\n",
    "        \n",
    "    elif train==False:\n",
    "        print(\"Test Result:\\n================================================\")        \n",
    "        print(f\"Accuracy Score: {accuracy_score(label, prediction) * 100:.4f}%\")\n",
    "        print(\"_______________________________________________\")\n",
    "        print(\"Classification Report:\", end='')\n",
    "        print(f\"\\tPrecision Score: {precision_score(label, prediction) * 100:.2f}%\")\n",
    "        print(f\"\\t\\t\\tRecall Score: {recall_score(label, prediction) * 100:.2f}%\")\n",
    "        print(f\"\\t\\t\\tF1 score: {f1_score(label, prediction) * 100:.2f}%\")\n",
    "        print(\"_______________________________________________\")\n",
    "        print(f\"Confusion Matrix: \\n {confusion_matrix(label, prediction)}\\n\") "
   ]
  },
  {
   "cell_type": "markdown",
   "metadata": {},
   "source": [
    "# Model Building (Imbalanced Dataset) CNNs, XGBoost"
   ]
  },
  {
   "cell_type": "markdown",
   "metadata": {},
   "source": [
    "# 1. Convolutional Neural Network (CNNs)"
   ]
  },
  {
   "cell_type": "code",
   "execution_count": 28,
   "metadata": {},
   "outputs": [],
   "source": [
    "X_train = np.expand_dims(X_train, -1)\n",
    "X_test = np.expand_dims(X_test, -1)"
   ]
  },
  {
   "cell_type": "code",
   "execution_count": 29,
   "metadata": {},
   "outputs": [
    {
     "name": "stdout",
     "output_type": "stream",
     "text": [
      "TRAINING: X_train: (199364, 30, 1), y_train: (199364,)\n",
      "_______________________________________________________\n",
      "TESTING: X_test: (85443, 30, 1), y_test: (85443,)\n"
     ]
    }
   ],
   "source": [
    "print(f\"TRAINING: X_train: {X_train.shape}, y_train: {y_train.shape}\\n{'_'*55}\")\n",
    "print(f\"TESTING: X_test: {X_test.shape}, y_test: {y_test.shape}\")"
   ]
  },
  {
   "cell_type": "code",
   "execution_count": 23,
   "metadata": {},
   "outputs": [
    {
     "name": "stderr",
     "output_type": "stream",
     "text": [
      "Using TensorFlow backend.\n"
     ]
    }
   ],
   "source": [
    "import keras\n",
    "from keras.models import Sequential\n",
    "from keras.layers import Conv1D, MaxPooling1D, Dense, Flatten, Dropout, BatchNormalization\n",
    "from keras.optimizers import Adam\n",
    "from keras.callbacks import TensorBoard"
   ]
  },
  {
   "cell_type": "code",
   "execution_count": 40,
   "metadata": {},
   "outputs": [],
   "source": [
    "epochs = 6\n",
    "model = Sequential()\n",
    "model.add(Conv1D(32, 2, activation='relu', input_shape=X_train_d[0].shape))\n",
    "model.add(BatchNormalization())\n",
    "model.add(Dropout(0.2))\n",
    "\n",
    "model.add(Conv1D(64, 2, activation='relu'))\n",
    "model.add(BatchNormalization())\n",
    "model.add(Dropout(0.2))\n",
    "\n",
    "model.add(Conv1D(128, 2, activation='relu'))\n",
    "model.add(BatchNormalization())\n",
    "model.add(Dropout(0.2))\n",
    "\n",
    "model.add(Flatten())\n",
    "model.add(Dropout(0.3))\n",
    "model.add(Dense(512, activation='relu'))\n",
    "model.add(Dropout(0.3))\n",
    "\n",
    "model.add(Dense(1, activation='sigmoid'))"
   ]
  },
  {
   "cell_type": "code",
   "execution_count": 41,
   "metadata": {},
   "outputs": [
    {
     "name": "stdout",
     "output_type": "stream",
     "text": [
      "Model: \"sequential_4\"\n",
      "_________________________________________________________________\n",
      "Layer (type)                 Output Shape              Param #   \n",
      "=================================================================\n",
      "conv1d_10 (Conv1D)           (None, 29, 32)            96        \n",
      "_________________________________________________________________\n",
      "batch_normalization_10 (Batc (None, 29, 32)            128       \n",
      "_________________________________________________________________\n",
      "dropout_16 (Dropout)         (None, 29, 32)            0         \n",
      "_________________________________________________________________\n",
      "conv1d_11 (Conv1D)           (None, 28, 64)            4160      \n",
      "_________________________________________________________________\n",
      "batch_normalization_11 (Batc (None, 28, 64)            256       \n",
      "_________________________________________________________________\n",
      "dropout_17 (Dropout)         (None, 28, 64)            0         \n",
      "_________________________________________________________________\n",
      "conv1d_12 (Conv1D)           (None, 27, 128)           16512     \n",
      "_________________________________________________________________\n",
      "batch_normalization_12 (Batc (None, 27, 128)           512       \n",
      "_________________________________________________________________\n",
      "dropout_18 (Dropout)         (None, 27, 128)           0         \n",
      "_________________________________________________________________\n",
      "flatten_4 (Flatten)          (None, 3456)              0         \n",
      "_________________________________________________________________\n",
      "dropout_19 (Dropout)         (None, 3456)              0         \n",
      "_________________________________________________________________\n",
      "dense_7 (Dense)              (None, 512)               1769984   \n",
      "_________________________________________________________________\n",
      "dropout_20 (Dropout)         (None, 512)               0         \n",
      "_________________________________________________________________\n",
      "dense_8 (Dense)              (None, 1)                 513       \n",
      "=================================================================\n",
      "Total params: 1,792,161\n",
      "Trainable params: 1,791,713\n",
      "Non-trainable params: 448\n",
      "_________________________________________________________________\n"
     ]
    }
   ],
   "source": [
    "model.summary()"
   ]
  },
  {
   "cell_type": "code",
   "execution_count": 42,
   "metadata": {},
   "outputs": [
    {
     "name": "stdout",
     "output_type": "stream",
     "text": [
      "Train on 199364 samples, validate on 85443 samples\n",
      "Epoch 1/6\n",
      "199364/199364 [==============================] - 785s 4ms/step - loss: 0.0109 - auc_4: 0.8764 - val_loss: 0.0068 - val_auc_4: 0.9226\n",
      "Epoch 2/6\n",
      "199364/199364 [==============================] - 782s 4ms/step - loss: 0.0064 - auc_4: 0.8974 - val_loss: 0.0054 - val_auc_4: 0.9554\n",
      "Epoch 3/6\n",
      "199364/199364 [==============================] - 782s 4ms/step - loss: 0.0057 - auc_4: 0.9102 - val_loss: 0.0028 - val_auc_4: 0.9660\n",
      "Epoch 4/6\n",
      "199364/199364 [==============================] - 813s 4ms/step - loss: 0.0045 - auc_4: 0.9201 - val_loss: 0.0067 - val_auc_4: 0.9677\n",
      "Epoch 5/6\n",
      "199364/199364 [==============================] - 817s 4ms/step - loss: 0.0042 - auc_4: 0.9314 - val_loss: 0.0042 - val_auc_4: 0.9618\n",
      "Epoch 6/6\n",
      "199364/199364 [==============================] - 818s 4ms/step - loss: 0.0040 - auc_4: 0.9370 - val_loss: 0.0024 - val_auc_4: 0.9660\n"
     ]
    }
   ],
   "source": [
    "# weights = {0:1, 1:5}\n",
    "model.compile(optimizer=Adam(0.0001), loss='binary_crossentropy', metrics=[keras.metrics.AUC()])\n",
    "r = model.fit(X_train, y_train, \n",
    "              validation_data=(X_test, y_test),\n",
    "              batch_size=50, \n",
    "              epochs=epochs, \n",
    "#               class_weight=weights\n",
    "             )"
   ]
  },
  {
   "cell_type": "code",
   "execution_count": 43,
   "metadata": {
    "scrolled": true
   },
   "outputs": [
    {
     "name": "stdout",
     "output_type": "stream",
     "text": [
      "199364/199364 [==============================] - 224s 1ms/step\n",
      "85443/85443 [==============================] - 97s 1ms/step\n",
      "TRAINING SCORE: [0.002216556592624332, 0.9795027375221252]\n",
      "TESTING SCORE: [0.002412950420231434, 0.9659817814826965]\n"
     ]
    }
   ],
   "source": [
    "training_score = model.evaluate(X_train, y_train)\n",
    "testing_score = model.evaluate(X_test, y_test)\n",
    "\n",
    "print(f\"TRAINING SCORE: {training_score}\")\n",
    "print(f\"TESTING SCORE: {testing_score}\")"
   ]
  },
  {
   "cell_type": "code",
   "execution_count": 45,
   "metadata": {},
   "outputs": [
    {
     "data": {
      "text/plain": [
       "<matplotlib.legend.Legend at 0x11bd4e96be0>"
      ]
     },
     "execution_count": 45,
     "metadata": {},
     "output_type": "execute_result"
    },
    {
     "data": {
      "image/png": "[encoded data removed]",
      "text/plain": [
       "<Figure size 864x576 with 2 Axes>"
      ]
     },
     "metadata": {},
     "output_type": "display_data"
    }
   ],
   "source": [
    "plt.figure(figsize=(12, 8))\n",
    "\n",
    "plt.subplot(2, 2, 1)\n",
    "plt.plot(r.history['loss'], label='Loss')\n",
    "plt.plot(r.history['val_loss'], label='val_Loss')\n",
    "plt.legend()\n",
    "\n",
    "plt.subplot(2, 2, 2)\n",
    "plt.plot(r.history['auc_4'], label='auc_4')\n",
    "plt.plot(r.history['val_auc_4'], label='val_auc_4')\n",
    "plt.legend()"
   ]
  },
  {
   "cell_type": "code",
   "execution_count": 46,
   "metadata": {},
   "outputs": [
    {
     "name": "stdout",
     "output_type": "stream",
     "text": [
      "Train Result:\n",
      "================================================\n",
      "Accuracy Score: 99.95%\n",
      "_______________________________________________\n",
      "Classification Report:\tPrecision Score: 92.31%\n",
      "\t\t\tRecall Score: 77.53%\n",
      "\t\t\tF1 score: 84.27%\n",
      "_______________________________________________\n",
      "Confusion Matrix: \n",
      " [[198985     23]\n",
      " [    80    276]]\n",
      "\n",
      "Test Result:\n",
      "================================================\n",
      "Accuracy Score: 99.95%\n",
      "_______________________________________________\n",
      "Classification Report:\tPrecision Score: 85.94%\n",
      "\t\t\tRecall Score: 80.88%\n",
      "\t\t\tF1 score: 83.33%\n",
      "_______________________________________________\n",
      "Confusion Matrix: \n",
      " [[85289    18]\n",
      " [   26   110]]\n",
      "\n"
     ]
    }
   ],
   "source": [
    "y_train_pred = model.predict(X_train)\n",
    "y_test_pred = model.predict(X_test)\n",
    "\n",
    "print_score(y_train, y_train_pred.round(), train=True)\n",
    "print_score(y_test, y_test_pred.round(), train=False)"
   ]
  },
  {
   "cell_type": "markdown",
   "metadata": {},
   "source": [
    "## Adding MaxPooling"
   ]
  },
  {
   "cell_type": "code",
   "execution_count": 49,
   "metadata": {},
   "outputs": [
    {
     "name": "stdout",
     "output_type": "stream",
     "text": [
      "Train on 199364 samples, validate on 85443 samples\n",
      "Epoch 1/50\n",
      "199364/199364 [==============================] - 369s 2ms/step - loss: 0.0134 - auc_5: 0.8049 - val_loss: 0.0185 - val_auc_5: 0.9686\n",
      "Epoch 2/50\n",
      "199364/199364 [==============================] - 370s 2ms/step - loss: 0.0075 - auc_5: 0.8806 - val_loss: 0.0139 - val_auc_5: 0.9731\n",
      "Epoch 3/50\n",
      "199364/199364 [==============================] - 373s 2ms/step - loss: 0.0060 - auc_5: 0.9035 - val_loss: 0.0093 - val_auc_5: 0.9713\n",
      "Epoch 4/50\n",
      "199364/199364 [==============================] - 373s 2ms/step - loss: 0.0056 - auc_5: 0.9134 - val_loss: 0.0118 - val_auc_5: 0.9708\n",
      "Epoch 5/50\n",
      "199364/199364 [==============================] - 375s 2ms/step - loss: 0.0053 - auc_5: 0.9165 - val_loss: 0.0128 - val_auc_5: 0.9732\n",
      "Epoch 6/50\n",
      "199364/199364 [==============================] - 375s 2ms/step - loss: 0.0053 - auc_5: 0.9190 - val_loss: 0.0103 - val_auc_5: 0.9741\n",
      "Epoch 7/50\n",
      "199364/199364 [==============================] - 384s 2ms/step - loss: 0.0050 - auc_5: 0.9192 - val_loss: 0.0080 - val_auc_5: 0.9715\n",
      "Epoch 8/50\n",
      "199364/199364 [==============================] - 382s 2ms/step - loss: 0.0052 - auc_5: 0.9076 - val_loss: 0.0076 - val_auc_5: 0.9721\n",
      "Epoch 9/50\n",
      "199364/199364 [==============================] - 394s 2ms/step - loss: 0.0051 - auc_5: 0.9179 - val_loss: 0.0068 - val_auc_5: 0.9719- l\n",
      "Epoch 10/50\n",
      "199364/199364 [==============================] - 393s 2ms/step - loss: 0.0050 - auc_5: 0.9220 - val_loss: 0.0067 - val_auc_5: 0.9720\n",
      "Epoch 11/50\n",
      "199364/199364 [==============================] - 391s 2ms/step - loss: 0.0048 - auc_5: 0.9163 - val_loss: 0.0062 - val_auc_5: 0.9723\n",
      "Epoch 12/50\n",
      "199364/199364 [==============================] - 400s 2ms/step - loss: 0.0045 - auc_5: 0.9238 - val_loss: 0.0050 - val_auc_5: 0.9699\n",
      "Epoch 13/50\n",
      "199364/199364 [==============================] - 403s 2ms/step - loss: 0.0048 - auc_5: 0.9152 - val_loss: 0.0048 - val_auc_5: 0.9602\n",
      "Epoch 14/50\n",
      "199364/199364 [==============================] - 393s 2ms/step - loss: 0.0048 - auc_5: 0.9140 - val_loss: 0.0115 - val_auc_5: 0.9731\n",
      "Epoch 15/50\n",
      "199364/199364 [==============================] - 387s 2ms/step - loss: 0.0048 - auc_5: 0.9196 - val_loss: 0.0050 - val_auc_5: 0.9698\n",
      "Epoch 16/50\n",
      "199364/199364 [==============================] - 389s 2ms/step - loss: 0.0047 - auc_5: 0.9181 - val_loss: 0.0052 - val_auc_5: 0.9728\n",
      "Epoch 17/50\n",
      "199364/199364 [==============================] - 398s 2ms/step - loss: 0.0047 - auc_5: 0.9182 - val_loss: 0.0072 - val_auc_5: 0.9721\n",
      "Epoch 18/50\n",
      "199364/199364 [==============================] - 404s 2ms/step - loss: 0.0045 - auc_5: 0.9211 - val_loss: 0.0061 - val_auc_5: 0.9730\n",
      "Epoch 19/50\n",
      "199364/199364 [==============================] - 405s 2ms/step - loss: 0.0045 - auc_5: 0.9209 - val_loss: 0.0078 - val_auc_5: 0.9748\n",
      "Epoch 20/50\n",
      "199364/199364 [==============================] - 350s 2ms/step - loss: 0.0044 - auc_5: 0.9138 - val_loss: 0.0056 - val_auc_5: 0.9730\n",
      "Epoch 21/50\n",
      "199364/199364 [==============================] - 343s 2ms/step - loss: 0.0043 - auc_5: 0.9268 - val_loss: 0.0069 - val_auc_5: 0.9722\n",
      "Epoch 22/50\n",
      "199364/199364 [==============================] - 349s 2ms/step - loss: 0.0043 - auc_5: 0.9308 - val_loss: 0.0065 - val_auc_5: 0.9722\n",
      "Epoch 23/50\n",
      "199364/199364 [==============================] - 373s 2ms/step - loss: 0.0044 - auc_5: 0.9182 - val_loss: 0.0071 - val_auc_5: 0.9715\n",
      "Epoch 24/50\n",
      "199364/199364 [==============================] - 368s 2ms/step - loss: 0.0043 - auc_5: 0.9295 - val_loss: 0.0083 - val_auc_5: 0.9712\n",
      "Epoch 25/50\n",
      "199364/199364 [==============================] - 369s 2ms/step - loss: 0.0044 - auc_5: 0.9252 - val_loss: 0.0060 - val_auc_5: 0.9725\n",
      "Epoch 26/50\n",
      "199364/199364 [==============================] - 410s 2ms/step - loss: 0.0042 - auc_5: 0.9281 - val_loss: 0.0075 - val_auc_5: 0.9715\n",
      "Epoch 27/50\n",
      "199364/199364 [==============================] - 410s 2ms/step - loss: 0.0044 - auc_5: 0.9295 - val_loss: 0.0078 - val_auc_5: 0.9739\n",
      "Epoch 28/50\n",
      "199364/199364 [==============================] - 411s 2ms/step - loss: 0.0043 - auc_5: 0.9252 - val_loss: 0.0064 - val_auc_5: 0.9715\n",
      "Epoch 29/50\n",
      "199364/199364 [==============================] - 403s 2ms/step - loss: 0.0041 - auc_5: 0.9225 - val_loss: 0.0056 - val_auc_5: 0.9656- loss: 0.0041 - auc_5: 0.922\n",
      "Epoch 30/50\n",
      "199364/199364 [==============================] - 404s 2ms/step - loss: 0.0041 - auc_5: 0.9283 - val_loss: 0.0068 - val_auc_5: 0.9648\n",
      "Epoch 31/50\n",
      "199364/199364 [==============================] - 409s 2ms/step - loss: 0.0043 - auc_5: 0.9210 - val_loss: 0.0075 - val_auc_5: 0.9739\n",
      "Epoch 32/50\n",
      "199364/199364 [==============================] - 410s 2ms/step - loss: 0.0042 - auc_5: 0.9337 - val_loss: 0.0061 - val_auc_5: 0.9682\n",
      "Epoch 33/50\n",
      "199364/199364 [==============================] - 409s 2ms/step - loss: 0.0040 - auc_5: 0.9255 - val_loss: 0.0056 - val_auc_5: 0.9647\n",
      "Epoch 34/50\n",
      "199364/199364 [==============================] - 410s 2ms/step - loss: 0.0045 - auc_5: 0.9152 - val_loss: 0.0075 - val_auc_5: 0.9738\n",
      "Epoch 35/50\n",
      "199364/199364 [==============================] - 402s 2ms/step - loss: 0.0041 - auc_5: 0.9254 - val_loss: 0.0054 - val_auc_5: 0.9656\n",
      "Epoch 36/50\n",
      "199364/199364 [==============================] - 391s 2ms/step - loss: 0.0042 - auc_5: 0.9212 - val_loss: 0.0079 - val_auc_5: 0.9665\n",
      "Epoch 37/50\n",
      "199364/199364 [==============================] - 396s 2ms/step - loss: 0.0042 - auc_5: 0.9268 - val_loss: 0.0057 - val_auc_5: 0.9688\n",
      "Epoch 38/50\n",
      "199364/199364 [==============================] - 395s 2ms/step - loss: 0.0042 - auc_5: 0.9226 - val_loss: 0.0074 - val_auc_5: 0.9710\n",
      "Epoch 39/50\n",
      "199364/199364 [==============================] - 394s 2ms/step - loss: 0.0040 - auc_5: 0.9241 - val_loss: 0.0088 - val_auc_5: 0.9723\n",
      "Epoch 40/50\n",
      "199364/199364 [==============================] - 404s 2ms/step - loss: 0.0040 - auc_5: 0.9310 - val_loss: 0.0071 - val_auc_5: 0.9733\n",
      "Epoch 41/50\n",
      "199364/199364 [==============================] - 402s 2ms/step - loss: 0.0041 - auc_5: 0.9254 - val_loss: 0.0092 - val_auc_5: 0.9713\n",
      "Epoch 42/50\n",
      "199364/199364 [==============================] - 402s 2ms/step - loss: 0.0041 - auc_5: 0.9253 - val_loss: 0.0064 - val_auc_5: 0.9732\n",
      "Epoch 43/50\n",
      "199364/199364 [==============================] - 406s 2ms/step - loss: 0.0039 - auc_5: 0.9311 - val_loss: 0.0082 - val_auc_5: 0.9718\n",
      "Epoch 44/50\n",
      "199364/199364 [==============================] - 406s 2ms/step - loss: 0.0038 - auc_5: 0.9256 - val_loss: 0.0061 - val_auc_5: 0.9680loss: 0.0038 - auc_5: 0. \n",
      "Epoch 45/50\n",
      "199364/199364 [==============================] - 407s 2ms/step - loss: 0.0042 - auc_5: 0.9254 - val_loss: 0.0109 - val_auc_5: 0.9733\n",
      "Epoch 46/50\n",
      "199364/199364 [==============================] - 407s 2ms/step - loss: 0.0039 - auc_5: 0.9312 - val_loss: 0.0072 - val_auc_5: 0.9648\n",
      "Epoch 47/50\n",
      "199364/199364 [==============================] - 402s 2ms/step - loss: 0.0041 - auc_5: 0.9380 - val_loss: 0.0058 - val_auc_5: 0.9576\n",
      "Epoch 48/50\n",
      "199364/199364 [==============================] - 402s 2ms/step - loss: 0.0041 - auc_5: 0.9282 - val_loss: 0.0082 - val_auc_5: 0.9713\n",
      "Epoch 49/50\n",
      "199364/199364 [==============================] - 401s 2ms/step - loss: 0.0039 - auc_5: 0.9299 - val_loss: 0.0084 - val_auc_5: 0.9722\n",
      "Epoch 50/50\n",
      "199364/199364 [==============================] - 403s 2ms/step - loss: 0.0040 - auc_5: 0.9296 - val_loss: 0.0097 - val_auc_5: 0.9718\n"
     ]
    }
   ],
   "source": [
    "epochs = 50\n",
    "model = Sequential()\n",
    "model.add(Conv1D(32, 2, activation='relu', input_shape=X_train[0].shape))\n",
    "model.add(BatchNormalization())\n",
    "model.add(MaxPooling1D(2))\n",
    "model.add(Dropout(0.2))\n",
    "\n",
    "model.add(Conv1D(64, 2, activation='relu'))\n",
    "model.add(BatchNormalization())\n",
    "model.add(MaxPooling1D(2))\n",
    "model.add(Dropout(0.2))\n",
    "\n",
    "model.add(Dropout(0.3))\n",
    "model.add(Dense(256, activation='relu'))\n",
    "model.add(Dropout(0.3))\n",
    "\n",
    "model.add(Flatten())\n",
    "model.add(Dropout(0.4))\n",
    "model.add(Dense(512, activation='relu'))\n",
    "model.add(Dropout(0.5))\n",
    "\n",
    "model.add(Dense(1, activation='sigmoid'))\n",
    "\n",
    "# weights = {0:1, 1:5}\n",
    "model.compile(optimizer=Adam(0.0001), loss='binary_crossentropy', metrics=[keras.metrics.AUC()])\n",
    "r = model.fit(X_train, y_train, \n",
    "              validation_data=(X_test, y_test),\n",
    "              batch_size=50, \n",
    "              epochs=epochs, \n",
    "#               class_weight=weights\n",
    "             )"
   ]
  },
  {
   "cell_type": "code",
   "execution_count": 50,
   "metadata": {},
   "outputs": [
    {
     "name": "stdout",
     "output_type": "stream",
     "text": [
      "Train Result:\n",
      "================================================\n",
      "Accuracy Score: 99.94%\n",
      "_______________________________________________\n",
      "Classification Report:\tPrecision Score: 81.59%\n",
      "\t\t\tRecall Score: 83.43%\n",
      "\t\t\tF1 score: 82.50%\n",
      "_______________________________________________\n",
      "Confusion Matrix: \n",
      " [[198941     67]\n",
      " [    59    297]]\n",
      "\n",
      "Test Result:\n",
      "================================================\n",
      "Accuracy Score: 99.94%\n",
      "_______________________________________________\n",
      "Classification Report:\tPrecision Score: 79.73%\n",
      "\t\t\tRecall Score: 86.76%\n",
      "\t\t\tF1 score: 83.10%\n",
      "_______________________________________________\n",
      "Confusion Matrix: \n",
      " [[85277    30]\n",
      " [   18   118]]\n",
      "\n"
     ]
    }
   ],
   "source": [
    "training_score = model.evaluate(X_train, y_train)\n",
    "testing_score = model.evaluate(X_test, y_test)\n",
    "\n",
    "print(f\"TRAINING SCORE: {training_score}\")\n",
    "print(f\"TESTING SCORE: {testing_score}\")"
   ]
  },
  {
   "cell_type": "code",
   "execution_count": 51,
   "metadata": {},
   "outputs": [
    {
     "data": {
      "text/plain": [
       "<matplotlib.legend.Legend at 0x11bbb0689e8>"
      ]
     },
     "execution_count": 51,
     "metadata": {},
     "output_type": "execute_result"
    },
    {
     "data": {
      "image/png": "[encoded data removed]",
      "text/plain": [
       "<Figure size 864x576 with 2 Axes>"
      ]
     },
     "metadata": {},
     "output_type": "display_data"
    }
   ],
   "source": [
    "plt.figure(figsize=(12, 8))\n",
    "\n",
    "plt.subplot(2, 2, 1)\n",
    "plt.plot(r.history['loss'], label='Loss')\n",
    "plt.plot(r.history['val_loss'], label='val_Loss')\n",
    "plt.legend()\n",
    "\n",
    "plt.subplot(2, 2, 2)\n",
    "plt.plot(r.history['auc_5'], label='auc_5')\n",
    "plt.plot(r.history['val_auc_5'], label='val_auc_5')\n",
    "plt.legend()"
   ]
  },
  {
   "cell_type": "code",
   "execution_count": 52,
   "metadata": {},
   "outputs": [
    {
     "name": "stdout",
     "output_type": "stream",
     "text": [
      "Train Result:\n",
      "================================================\n",
      "Accuracy Score: 99.94%\n",
      "_______________________________________________\n",
      "Classification Report:\tPrecision Score: 81.59%\n",
      "\t\t\tRecall Score: 83.43%\n",
      "\t\t\tF1 score: 82.50%\n",
      "_______________________________________________\n",
      "Confusion Matrix: \n",
      " [[198941     67]\n",
      " [    59    297]]\n",
      "\n",
      "Test Result:\n",
      "================================================\n",
      "Accuracy Score: 99.94%\n",
      "_______________________________________________\n",
      "Classification Report:\tPrecision Score: 79.73%\n",
      "\t\t\tRecall Score: 86.76%\n",
      "\t\t\tF1 score: 83.10%\n",
      "_______________________________________________\n",
      "Confusion Matrix: \n",
      " [[85277    30]\n",
      " [   18   118]]\n",
      "\n"
     ]
    }
   ],
   "source": [
    "y_train_pred = model.predict(X_train)\n",
    "y_test_pred = model.predict(X_test)\n",
    "\n",
    "print_score(y_train, y_train_pred.round(), train=True)\n",
    "print_score(y_test, y_test_pred.round(), train=False)"
   ]
  },
  {
   "cell_type": "markdown",
   "metadata": {},
   "source": [
    "# XGBoost Classifier"
   ]
  },
  {
   "cell_type": "code",
   "execution_count": 57,
   "metadata": {},
   "outputs": [
    {
     "name": "stdout",
     "output_type": "stream",
     "text": [
      "Train Result:\n",
      "================================================\n",
      "Accuracy Score: 100.00%\n",
      "_______________________________________________\n",
      "Classification Report:\tPrecision Score: 100.00%\n",
      "\t\t\tRecall Score: 100.00%\n",
      "\t\t\tF1 score: 100.00%\n",
      "_______________________________________________\n",
      "Confusion Matrix: \n",
      " [[159204      0]\n",
      " [     0    287]]\n",
      "\n",
      "Test Result:\n",
      "================================================\n",
      "Accuracy Score: 99.96%\n",
      "_______________________________________________\n",
      "Classification Report:\tPrecision Score: 93.97%\n",
      "\t\t\tRecall Score: 80.15%\n",
      "\t\t\tF1 score: 86.51%\n",
      "_______________________________________________\n",
      "Confusion Matrix: \n",
      " [[85300     7]\n",
      " [   27   109]]\n",
      "\n"
     ]
    }
   ],
   "source": [
    "from xgboost import XGBClassifier\n",
    "\n",
    "xgb_model = XGBClassifier(n_estimators=500, \n",
    "                          learning_rate=0.1, \n",
    "                          base_score=0.99)\n",
    "xgb_model.fit(X_train, y_train)\n",
    "\n",
    "y_train_pred = xgb_model.predict(X_train)\n",
    "y_test_pred = xgb_model.predict(X_test)\n",
    "\n",
    "print_score(y_train, y_train_pred.round(), train=True)\n",
    "print_score(y_test, y_test_pred.round(), train=False)"
   ]
  },
  {
   "cell_type": "markdown",
   "metadata": {},
   "source": [
    "# Model Building (Imbalanced Dataset)"
   ]
  },
  {
   "cell_type": "code",
   "execution_count": 58,
   "metadata": {},
   "outputs": [
    {
     "data": {
      "text/html": [
       "<div>\n",
       "<style scoped>\n",
       "    .dataframe tbody tr th:only-of-type {\n",
       "        vertical-align: middle;\n",
       "    }\n",
       "\n",
       "    .dataframe tbody tr th {\n",
       "        vertical-align: top;\n",
       "    }\n",
       "\n",
       "    .dataframe thead th {\n",
       "        text-align: right;\n",
       "    }\n",
       "</style>\n",
       "<table border=\"1\" class=\"dataframe\">\n",
       "  <thead>\n",
       "    <tr style=\"text-align: right;\">\n",
       "      <th></th>\n",
       "      <th>Time</th>\n",
       "      <th>V1</th>\n",
       "      <th>V2</th>\n",
       "      <th>V3</th>\n",
       "      <th>V4</th>\n",
       "      <th>V5</th>\n",
       "      <th>V6</th>\n",
       "      <th>V7</th>\n",
       "      <th>V8</th>\n",
       "      <th>V9</th>\n",
       "      <th>...</th>\n",
       "      <th>V21</th>\n",
       "      <th>V22</th>\n",
       "      <th>V23</th>\n",
       "      <th>V24</th>\n",
       "      <th>V25</th>\n",
       "      <th>V26</th>\n",
       "      <th>V27</th>\n",
       "      <th>V28</th>\n",
       "      <th>Amount</th>\n",
       "      <th>Class</th>\n",
       "    </tr>\n",
       "  </thead>\n",
       "  <tbody>\n",
       "    <tr>\n",
       "      <th>2557</th>\n",
       "      <td>2105.00</td>\n",
       "      <td>-2.29</td>\n",
       "      <td>-0.48</td>\n",
       "      <td>0.82</td>\n",
       "      <td>-1.71</td>\n",
       "      <td>0.82</td>\n",
       "      <td>-1.66</td>\n",
       "      <td>0.94</td>\n",
       "      <td>-0.54</td>\n",
       "      <td>1.32</td>\n",
       "      <td>...</td>\n",
       "      <td>-0.21</td>\n",
       "      <td>0.91</td>\n",
       "      <td>0.87</td>\n",
       "      <td>0.42</td>\n",
       "      <td>0.31</td>\n",
       "      <td>-0.78</td>\n",
       "      <td>0.39</td>\n",
       "      <td>-0.15</td>\n",
       "      <td>1.00</td>\n",
       "      <td>0</td>\n",
       "    </tr>\n",
       "    <tr>\n",
       "      <th>247823</th>\n",
       "      <td>153702.00</td>\n",
       "      <td>-0.31</td>\n",
       "      <td>-4.06</td>\n",
       "      <td>-3.40</td>\n",
       "      <td>0.70</td>\n",
       "      <td>0.10</td>\n",
       "      <td>1.53</td>\n",
       "      <td>1.55</td>\n",
       "      <td>-0.04</td>\n",
       "      <td>0.02</td>\n",
       "      <td>...</td>\n",
       "      <td>0.85</td>\n",
       "      <td>-0.09</td>\n",
       "      <td>-0.94</td>\n",
       "      <td>-0.83</td>\n",
       "      <td>-0.50</td>\n",
       "      <td>0.65</td>\n",
       "      <td>-0.29</td>\n",
       "      <td>0.11</td>\n",
       "      <td>1194.28</td>\n",
       "      <td>0</td>\n",
       "    </tr>\n",
       "    <tr>\n",
       "      <th>152342</th>\n",
       "      <td>97283.00</td>\n",
       "      <td>-1.81</td>\n",
       "      <td>-0.57</td>\n",
       "      <td>2.27</td>\n",
       "      <td>-0.96</td>\n",
       "      <td>-1.21</td>\n",
       "      <td>1.52</td>\n",
       "      <td>-1.42</td>\n",
       "      <td>0.90</td>\n",
       "      <td>1.96</td>\n",
       "      <td>...</td>\n",
       "      <td>-0.51</td>\n",
       "      <td>-0.42</td>\n",
       "      <td>-0.27</td>\n",
       "      <td>0.01</td>\n",
       "      <td>0.47</td>\n",
       "      <td>0.84</td>\n",
       "      <td>-0.06</td>\n",
       "      <td>0.09</td>\n",
       "      <td>75.00</td>\n",
       "      <td>0</td>\n",
       "    </tr>\n",
       "    <tr>\n",
       "      <th>103385</th>\n",
       "      <td>68628.00</td>\n",
       "      <td>1.19</td>\n",
       "      <td>0.18</td>\n",
       "      <td>0.14</td>\n",
       "      <td>0.46</td>\n",
       "      <td>-0.05</td>\n",
       "      <td>-0.11</td>\n",
       "      <td>-0.16</td>\n",
       "      <td>0.16</td>\n",
       "      <td>-0.07</td>\n",
       "      <td>...</td>\n",
       "      <td>-0.24</td>\n",
       "      <td>-0.74</td>\n",
       "      <td>0.12</td>\n",
       "      <td>-0.37</td>\n",
       "      <td>0.13</td>\n",
       "      <td>0.13</td>\n",
       "      <td>-0.02</td>\n",
       "      <td>0.01</td>\n",
       "      <td>1.98</td>\n",
       "      <td>0</td>\n",
       "    </tr>\n",
       "    <tr>\n",
       "      <th>8771</th>\n",
       "      <td>11951.00</td>\n",
       "      <td>-0.96</td>\n",
       "      <td>0.70</td>\n",
       "      <td>1.10</td>\n",
       "      <td>-1.55</td>\n",
       "      <td>0.67</td>\n",
       "      <td>0.51</td>\n",
       "      <td>0.33</td>\n",
       "      <td>0.27</td>\n",
       "      <td>1.38</td>\n",
       "      <td>...</td>\n",
       "      <td>-0.28</td>\n",
       "      <td>-0.47</td>\n",
       "      <td>-0.12</td>\n",
       "      <td>-1.39</td>\n",
       "      <td>-0.24</td>\n",
       "      <td>0.79</td>\n",
       "      <td>0.35</td>\n",
       "      <td>0.22</td>\n",
       "      <td>37.31</td>\n",
       "      <td>0</td>\n",
       "    </tr>\n",
       "  </tbody>\n",
       "</table>\n",
       "<p>5 rows × 31 columns</p>\n",
       "</div>"
      ],
      "text/plain": [
       "            Time    V1    V2    V3    V4    V5    V6    V7    V8    V9  ...  \\\n",
       "2557     2105.00 -2.29 -0.48  0.82 -1.71  0.82 -1.66  0.94 -0.54  1.32  ...   \n",
       "247823 153702.00 -0.31 -4.06 -3.40  0.70  0.10  1.53  1.55 -0.04  0.02  ...   \n",
       "152342  97283.00 -1.81 -0.57  2.27 -0.96 -1.21  1.52 -1.42  0.90  1.96  ...   \n",
       "103385  68628.00  1.19  0.18  0.14  0.46 -0.05 -0.11 -0.16  0.16 -0.07  ...   \n",
       "8771    11951.00 -0.96  0.70  1.10 -1.55  0.67  0.51  0.33  0.27  1.38  ...   \n",
       "\n",
       "         V21   V22   V23   V24   V25   V26   V27   V28  Amount  Class  \n",
       "2557   -0.21  0.91  0.87  0.42  0.31 -0.78  0.39 -0.15    1.00      0  \n",
       "247823  0.85 -0.09 -0.94 -0.83 -0.50  0.65 -0.29  0.11 1194.28      0  \n",
       "152342 -0.51 -0.42 -0.27  0.01  0.47  0.84 -0.06  0.09   75.00      0  \n",
       "103385 -0.24 -0.74  0.12 -0.37  0.13  0.13 -0.02  0.01    1.98      0  \n",
       "8771   -0.28 -0.47 -0.12 -1.39 -0.24  0.79  0.35  0.22   37.31      0  \n",
       "\n",
       "[5 rows x 31 columns]"
      ]
     },
     "execution_count": 58,
     "metadata": {},
     "output_type": "execute_result"
    }
   ],
   "source": [
    "X = data.drop('Class', axis=1)\n",
    "y = data.Class\n",
    "\n",
    "X_train, X_test, y_train, y_test = train_test_split(X, y, test_size=0.3, random_state=42)\n",
    "\n",
    "# Concatinating X_train and y_train\n",
    "df = pd.concat([pd.DataFrame(X_train), pd.DataFrame(y_train)], axis=1)\n",
    "df.head()"
   ]
  },
  {
   "cell_type": "code",
   "execution_count": 59,
   "metadata": {},
   "outputs": [
    {
     "data": {
      "text/plain": [
       "(199364, 31)"
      ]
     },
     "execution_count": 59,
     "metadata": {},
     "output_type": "execute_result"
    }
   ],
   "source": [
    "df.shape"
   ]
  },
  {
   "cell_type": "code",
   "execution_count": 60,
   "metadata": {},
   "outputs": [
    {
     "data": {
      "text/plain": [
       "1    356\n",
       "0    356\n",
       "Name: Class, dtype: int64"
      ]
     },
     "execution_count": 60,
     "metadata": {},
     "output_type": "execute_result"
    }
   ],
   "source": [
    "from sklearn.utils import resample\n",
    "\n",
    "minority_class = df[df.Class == 1]\n",
    "majority_class = df[df.Class == 0]\n",
    "\n",
    "majority_downsample = resample(majority_class, replace=False, \n",
    "                               n_samples=minority_class.shape[0], \n",
    "                               random_state=42)\n",
    "\n",
    "df_2 = pd.concat([majority_downsample, minority_class])\n",
    "df_2.Class.value_counts()"
   ]
  },
  {
   "cell_type": "code",
   "execution_count": 61,
   "metadata": {},
   "outputs": [
    {
     "data": {
      "text/plain": [
       "(712, 31)"
      ]
     },
     "execution_count": 61,
     "metadata": {},
     "output_type": "execute_result"
    }
   ],
   "source": [
    "df_2.shape"
   ]
  },
  {
   "cell_type": "code",
   "execution_count": 62,
   "metadata": {},
   "outputs": [
    {
     "name": "stdout",
     "output_type": "stream",
     "text": [
      "(498, 30, 1)\n",
      "(498,)\n",
      "(214, 30, 1)\n",
      "(214,)\n",
      "(85443, 30, 1)\n",
      "(85443,)\n"
     ]
    }
   ],
   "source": [
    "scaler = StandardScaler()\n",
    "\n",
    "X = df_2.drop('Class', axis=1)\n",
    "y = df_2.Class\n",
    "\n",
    "X_train, X_validate, y_train, y_validate = train_test_split(X, y, test_size=0.3, random_state=42)\n",
    "\n",
    "X_train = scaler.fit_transform(X_train)\n",
    "X_validate = scaler.transform(X_validate)\n",
    "X_test = scaler.transform(X_test)\n",
    "\n",
    "X_train = np.expand_dims(X_train, -1)\n",
    "X_test = np.expand_dims(X_test, -1)\n",
    "X_validate = np.expand_dims(X_validate, -1)\n",
    "\n",
    "print(X_train.shape)\n",
    "print(y_train.shape)\n",
    "print(X_validate.shape)\n",
    "print(y_validate.shape)\n",
    "print(X_test.shape)\n",
    "print(y_test.shape)"
   ]
  },
  {
   "cell_type": "code",
   "execution_count": 63,
   "metadata": {},
   "outputs": [
    {
     "name": "stdout",
     "output_type": "stream",
     "text": [
      "Train on 498 samples, validate on 214 samples\n",
      "Epoch 1/150\n",
      "498/498 [==============================] - 4s 8ms/step - loss: 0.8512 - accuracy: 0.6386 - val_loss: 0.6802 - val_accuracy: 0.5794\n",
      "Epoch 2/150\n",
      "498/498 [==============================] - 3s 6ms/step - loss: 0.8330 - accuracy: 0.6386 - val_loss: 0.6651 - val_accuracy: 0.7991\n",
      "Epoch 3/150\n",
      "498/498 [==============================] - 3s 6ms/step - loss: 0.7429 - accuracy: 0.6767 - val_loss: 0.6506 - val_accuracy: 0.7570\n",
      "Epoch 4/150\n",
      "498/498 [==============================] - 3s 6ms/step - loss: 0.6428 - accuracy: 0.7229 - val_loss: 0.6372 - val_accuracy: 0.7243\n",
      "Epoch 5/150\n",
      "498/498 [==============================] - 2s 4ms/step - loss: 0.5597 - accuracy: 0.7590 - val_loss: 0.6246 - val_accuracy: 0.7150\n",
      "Epoch 6/150\n",
      "498/498 [==============================] - 2s 4ms/step - loss: 0.5447 - accuracy: 0.7811 - val_loss: 0.6117 - val_accuracy: 0.7103\n",
      "Epoch 7/150\n",
      "498/498 [==============================] - 2s 4ms/step - loss: 0.5636 - accuracy: 0.7651 - val_loss: 0.5982 - val_accuracy: 0.7103\n",
      "Epoch 8/150\n",
      "498/498 [==============================] - 2s 4ms/step - loss: 0.4958 - accuracy: 0.7992 - val_loss: 0.5844 - val_accuracy: 0.7150\n",
      "Epoch 9/150\n",
      "498/498 [==============================] - 2s 5ms/step - loss: 0.5362 - accuracy: 0.7952 - val_loss: 0.5705 - val_accuracy: 0.7196\n",
      "Epoch 10/150\n",
      "498/498 [==============================] - 2s 4ms/step - loss: 0.5005 - accuracy: 0.7992 - val_loss: 0.5563 - val_accuracy: 0.7290\n",
      "Epoch 11/150\n",
      "498/498 [==============================] - 2s 4ms/step - loss: 0.4221 - accuracy: 0.8133 - val_loss: 0.5414 - val_accuracy: 0.7336\n",
      "Epoch 12/150\n",
      "498/498 [==============================] - 2s 4ms/step - loss: 0.4446 - accuracy: 0.8373 - val_loss: 0.5260 - val_accuracy: 0.7430\n",
      "Epoch 13/150\n",
      "498/498 [==============================] - 2s 5ms/step - loss: 0.4305 - accuracy: 0.8213 - val_loss: 0.5101 - val_accuracy: 0.7523\n",
      "Epoch 14/150\n",
      "498/498 [==============================] - 2s 4ms/step - loss: 0.3960 - accuracy: 0.8373 - val_loss: 0.4933 - val_accuracy: 0.7757\n",
      "Epoch 15/150\n",
      "498/498 [==============================] - 2s 4ms/step - loss: 0.4007 - accuracy: 0.8614 - val_loss: 0.4769 - val_accuracy: 0.7991\n",
      "Epoch 16/150\n",
      "498/498 [==============================] - 2s 4ms/step - loss: 0.3899 - accuracy: 0.8454 - val_loss: 0.4595 - val_accuracy: 0.8037\n",
      "Epoch 17/150\n",
      "498/498 [==============================] - 2s 4ms/step - loss: 0.4032 - accuracy: 0.8695 - val_loss: 0.4417 - val_accuracy: 0.8271\n",
      "Epoch 18/150\n",
      "498/498 [==============================] - 2s 4ms/step - loss: 0.3871 - accuracy: 0.8614 - val_loss: 0.4244 - val_accuracy: 0.8364\n",
      "Epoch 19/150\n",
      "498/498 [==============================] - 2s 4ms/step - loss: 0.3805 - accuracy: 0.8614 - val_loss: 0.4078 - val_accuracy: 0.8505\n",
      "Epoch 20/150\n",
      "498/498 [==============================] - 2s 4ms/step - loss: 0.3976 - accuracy: 0.8514 - val_loss: 0.3916 - val_accuracy: 0.8551\n",
      "Epoch 21/150\n",
      "498/498 [==============================] - 2s 4ms/step - loss: 0.3548 - accuracy: 0.8635 - val_loss: 0.3754 - val_accuracy: 0.8598\n",
      "Epoch 22/150\n",
      "498/498 [==============================] - 2s 4ms/step - loss: 0.3556 - accuracy: 0.8755 - val_loss: 0.3605 - val_accuracy: 0.8645\n",
      "Epoch 23/150\n",
      "498/498 [==============================] - 2s 5ms/step - loss: 0.3357 - accuracy: 0.8735 - val_loss: 0.3469 - val_accuracy: 0.8785\n",
      "Epoch 24/150\n",
      "498/498 [==============================] - 2s 5ms/step - loss: 0.4468 - accuracy: 0.8394 - val_loss: 0.3339 - val_accuracy: 0.8879\n",
      "Epoch 25/150\n",
      "498/498 [==============================] - 2s 4ms/step - loss: 0.3479 - accuracy: 0.8594 - val_loss: 0.3217 - val_accuracy: 0.8972\n",
      "Epoch 26/150\n",
      "498/498 [==============================] - 2s 4ms/step - loss: 0.3666 - accuracy: 0.8695 - val_loss: 0.3097 - val_accuracy: 0.8925\n",
      "Epoch 27/150\n",
      "498/498 [==============================] - 2s 5ms/step - loss: 0.3147 - accuracy: 0.8896 - val_loss: 0.2986 - val_accuracy: 0.9019\n",
      "Epoch 28/150\n",
      "498/498 [==============================] - 2s 4ms/step - loss: 0.2942 - accuracy: 0.8715 - val_loss: 0.2884 - val_accuracy: 0.9019\n",
      "Epoch 29/150\n",
      "498/498 [==============================] - 2s 4ms/step - loss: 0.3341 - accuracy: 0.8855 - val_loss: 0.2784 - val_accuracy: 0.9112\n",
      "Epoch 30/150\n",
      "498/498 [==============================] - 2s 5ms/step - loss: 0.3046 - accuracy: 0.8876 - val_loss: 0.2696 - val_accuracy: 0.9159\n",
      "Epoch 31/150\n",
      "498/498 [==============================] - 2s 4ms/step - loss: 0.3491 - accuracy: 0.8835 - val_loss: 0.2619 - val_accuracy: 0.9159\n",
      "Epoch 32/150\n",
      "498/498 [==============================] - 2s 4ms/step - loss: 0.2909 - accuracy: 0.8996 - val_loss: 0.2545 - val_accuracy: 0.9159\n",
      "Epoch 33/150\n",
      "498/498 [==============================] - 2s 4ms/step - loss: 0.3312 - accuracy: 0.8755 - val_loss: 0.2481 - val_accuracy: 0.9159\n",
      "Epoch 34/150\n",
      "498/498 [==============================] - 2s 4ms/step - loss: 0.3186 - accuracy: 0.8835 - val_loss: 0.2421 - val_accuracy: 0.9206\n",
      "Epoch 35/150\n",
      "498/498 [==============================] - 2s 4ms/step - loss: 0.3100 - accuracy: 0.8775 - val_loss: 0.2362 - val_accuracy: 0.9206\n",
      "Epoch 36/150\n",
      "498/498 [==============================] - 2s 4ms/step - loss: 0.2958 - accuracy: 0.8916 - val_loss: 0.2310 - val_accuracy: 0.9299\n",
      "Epoch 37/150\n",
      "498/498 [==============================] - 2s 4ms/step - loss: 0.3154 - accuracy: 0.8876 - val_loss: 0.2265 - val_accuracy: 0.9252\n",
      "Epoch 38/150\n",
      "498/498 [==============================] - 2s 4ms/step - loss: 0.2874 - accuracy: 0.8976 - val_loss: 0.2223 - val_accuracy: 0.9206\n",
      "Epoch 39/150\n",
      "498/498 [==============================] - 2s 4ms/step - loss: 0.2962 - accuracy: 0.8715 - val_loss: 0.2196 - val_accuracy: 0.9206\n",
      "Epoch 40/150\n",
      "498/498 [==============================] - 2s 4ms/step - loss: 0.2846 - accuracy: 0.8956 - val_loss: 0.2172 - val_accuracy: 0.9206\n",
      "Epoch 41/150\n",
      "498/498 [==============================] - 2s 4ms/step - loss: 0.3190 - accuracy: 0.8896 - val_loss: 0.2152 - val_accuracy: 0.9206 - loss: 0.3594 - accuracy: \n",
      "Epoch 42/150\n",
      "498/498 [==============================] - 2s 4ms/step - loss: 0.3100 - accuracy: 0.8896 - val_loss: 0.2134 - val_accuracy: 0.9206\n",
      "Epoch 43/150\n",
      "498/498 [==============================] - 2s 4ms/step - loss: 0.3017 - accuracy: 0.8876 - val_loss: 0.2127 - val_accuracy: 0.9252\n",
      "Epoch 44/150\n",
      "498/498 [==============================] - 2s 4ms/step - loss: 0.2713 - accuracy: 0.8956 - val_loss: 0.2113 - val_accuracy: 0.9252\n",
      "Epoch 45/150\n",
      "498/498 [==============================] - 2s 4ms/step - loss: 0.2863 - accuracy: 0.9056 - val_loss: 0.2101 - val_accuracy: 0.9252\n",
      "Epoch 46/150\n",
      "498/498 [==============================] - 2s 4ms/step - loss: 0.3072 - accuracy: 0.8896 - val_loss: 0.2098 - val_accuracy: 0.9252\n",
      "Epoch 47/150\n",
      "498/498 [==============================] - 2s 4ms/step - loss: 0.3177 - accuracy: 0.8795 - val_loss: 0.2100 - val_accuracy: 0.9252\n",
      "Epoch 48/150\n",
      "498/498 [==============================] - 2s 4ms/step - loss: 0.2678 - accuracy: 0.9016 - val_loss: 0.2114 - val_accuracy: 0.9252\n",
      "Epoch 49/150\n",
      "498/498 [==============================] - 2s 4ms/step - loss: 0.2808 - accuracy: 0.8855 - val_loss: 0.2117 - val_accuracy: 0.9252\n",
      "Epoch 50/150\n",
      "498/498 [==============================] - 2s 4ms/step - loss: 0.2851 - accuracy: 0.8956 - val_loss: 0.2117 - val_accuracy: 0.9252\n",
      "Epoch 51/150\n",
      "498/498 [==============================] - 2s 4ms/step - loss: 0.2462 - accuracy: 0.9157 - val_loss: 0.2114 - val_accuracy: 0.9252\n",
      "Epoch 52/150\n",
      "498/498 [==============================] - 2s 4ms/step - loss: 0.2848 - accuracy: 0.8916 - val_loss: 0.2118 - val_accuracy: 0.9252\n",
      "Epoch 53/150\n",
      "498/498 [==============================] - 2s 4ms/step - loss: 0.2795 - accuracy: 0.8956 - val_loss: 0.2118 - val_accuracy: 0.9252\n",
      "Epoch 54/150\n",
      "498/498 [==============================] - 2s 4ms/step - loss: 0.2745 - accuracy: 0.9076 - val_loss: 0.2121 - val_accuracy: 0.9299\n",
      "Epoch 55/150\n",
      "498/498 [==============================] - 2s 4ms/step - loss: 0.3021 - accuracy: 0.8896 - val_loss: 0.2123 - val_accuracy: 0.9299\n",
      "Epoch 56/150\n",
      "498/498 [==============================] - 2s 4ms/step - loss: 0.3039 - accuracy: 0.9036 - val_loss: 0.2126 - val_accuracy: 0.9299\n",
      "Epoch 57/150\n",
      "498/498 [==============================] - 2s 4ms/step - loss: 0.2528 - accuracy: 0.9157 - val_loss: 0.2139 - val_accuracy: 0.9299\n",
      "Epoch 58/150\n",
      "498/498 [==============================] - 2s 4ms/step - loss: 0.2420 - accuracy: 0.9076 - val_loss: 0.2150 - val_accuracy: 0.9299\n",
      "Epoch 59/150\n",
      "498/498 [==============================] - 2s 4ms/step - loss: 0.2541 - accuracy: 0.9096 - val_loss: 0.2156 - val_accuracy: 0.9299\n",
      "Epoch 60/150\n",
      "498/498 [==============================] - 2s 4ms/step - loss: 0.2436 - accuracy: 0.9096 - val_loss: 0.2154 - val_accuracy: 0.9299\n",
      "Epoch 61/150\n",
      "498/498 [==============================] - 2s 4ms/step - loss: 0.2644 - accuracy: 0.9016 - val_loss: 0.2149 - val_accuracy: 0.9299\n",
      "Epoch 62/150\n",
      "498/498 [==============================] - 2s 4ms/step - loss: 0.2624 - accuracy: 0.9116 - val_loss: 0.2157 - val_accuracy: 0.9299\n",
      "Epoch 63/150\n",
      "498/498 [==============================] - 2s 4ms/step - loss: 0.2592 - accuracy: 0.9056 - val_loss: 0.2167 - val_accuracy: 0.9299\n",
      "Epoch 64/150\n",
      "498/498 [==============================] - 2s 4ms/step - loss: 0.2710 - accuracy: 0.9056 - val_loss: 0.2177 - val_accuracy: 0.9299\n",
      "Epoch 65/150\n",
      "498/498 [==============================] - 2s 4ms/step - loss: 0.2852 - accuracy: 0.9016 - val_loss: 0.2188 - val_accuracy: 0.9299\n",
      "Epoch 66/150\n",
      "498/498 [==============================] - 2s 4ms/step - loss: 0.2711 - accuracy: 0.8956 - val_loss: 0.2216 - val_accuracy: 0.9299\n",
      "Epoch 67/150\n",
      "498/498 [==============================] - 2s 4ms/step - loss: 0.2335 - accuracy: 0.9116 - val_loss: 0.2224 - val_accuracy: 0.9299\n",
      "Epoch 68/150\n",
      "498/498 [==============================] - 2s 4ms/step - loss: 0.2715 - accuracy: 0.9157 - val_loss: 0.2226 - val_accuracy: 0.9299\n",
      "Epoch 69/150\n",
      "498/498 [==============================] - 2s 4ms/step - loss: 0.2351 - accuracy: 0.9157 - val_loss: 0.2221 - val_accuracy: 0.9299\n",
      "Epoch 70/150\n",
      "498/498 [==============================] - 2s 4ms/step - loss: 0.2440 - accuracy: 0.9016 - val_loss: 0.2219 - val_accuracy: 0.9299\n",
      "Epoch 71/150\n",
      "498/498 [==============================] - 2s 4ms/step - loss: 0.3050 - accuracy: 0.8996 - val_loss: 0.2232 - val_accuracy: 0.9299\n",
      "Epoch 72/150\n",
      "498/498 [==============================] - 2s 4ms/step - loss: 0.2114 - accuracy: 0.9157 - val_loss: 0.2239 - val_accuracy: 0.9299\n",
      "Epoch 73/150\n",
      "498/498 [==============================] - 2s 4ms/step - loss: 0.2408 - accuracy: 0.9096 - val_loss: 0.2235 - val_accuracy: 0.9299\n",
      "Epoch 74/150\n",
      "498/498 [==============================] - 2s 4ms/step - loss: 0.2350 - accuracy: 0.9096 - val_loss: 0.2231 - val_accuracy: 0.9299\n",
      "Epoch 75/150\n",
      "498/498 [==============================] - 2s 4ms/step - loss: 0.2266 - accuracy: 0.9036 - val_loss: 0.2239 - val_accuracy: 0.9299\n",
      "Epoch 76/150\n",
      "498/498 [==============================] - 2s 4ms/step - loss: 0.2941 - accuracy: 0.8956 - val_loss: 0.2252 - val_accuracy: 0.9299\n",
      "Epoch 77/150\n",
      "498/498 [==============================] - 2s 4ms/step - loss: 0.2538 - accuracy: 0.9177 - val_loss: 0.2257 - val_accuracy: 0.9299\n",
      "Epoch 78/150\n",
      "498/498 [==============================] - 2s 4ms/step - loss: 0.2372 - accuracy: 0.9237 - val_loss: 0.2254 - val_accuracy: 0.9299\n",
      "Epoch 79/150\n",
      "498/498 [==============================] - 2s 4ms/step - loss: 0.2393 - accuracy: 0.9157 - val_loss: 0.2246 - val_accuracy: 0.9299\n",
      "Epoch 80/150\n",
      "498/498 [==============================] - 2s 4ms/step - loss: 0.2235 - accuracy: 0.9157 - val_loss: 0.2240 - val_accuracy: 0.9299\n",
      "Epoch 81/150\n",
      "498/498 [==============================] - 2s 4ms/step - loss: 0.2654 - accuracy: 0.8996 - val_loss: 0.2248 - val_accuracy: 0.9299\n",
      "Epoch 82/150\n",
      "498/498 [==============================] - 2s 4ms/step - loss: 0.3169 - accuracy: 0.8815 - val_loss: 0.2261 - val_accuracy: 0.9299\n",
      "Epoch 83/150\n",
      "498/498 [==============================] - 2s 4ms/step - loss: 0.2488 - accuracy: 0.9036 - val_loss: 0.2279 - val_accuracy: 0.9299\n",
      "Epoch 84/150\n",
      "498/498 [==============================] - 2s 4ms/step - loss: 0.2739 - accuracy: 0.8996 - val_loss: 0.2293 - val_accuracy: 0.9299\n",
      "Epoch 85/150\n",
      "498/498 [==============================] - 2s 4ms/step - loss: 0.2123 - accuracy: 0.9297 - val_loss: 0.2293 - val_accuracy: 0.9299\n",
      "Epoch 86/150\n",
      "498/498 [==============================] - 2s 4ms/step - loss: 0.2260 - accuracy: 0.9096 - val_loss: 0.2294 - val_accuracy: 0.9299\n",
      "Epoch 87/150\n",
      "498/498 [==============================] - 2s 4ms/step - loss: 0.2247 - accuracy: 0.9137 - val_loss: 0.2298 - val_accuracy: 0.9299\n",
      "Epoch 88/150\n",
      "498/498 [==============================] - 2s 4ms/step - loss: 0.2725 - accuracy: 0.9036 - val_loss: 0.2297 - val_accuracy: 0.9346\n",
      "Epoch 89/150\n",
      "498/498 [==============================] - 2s 4ms/step - loss: 0.2085 - accuracy: 0.9157 - val_loss: 0.2286 - val_accuracy: 0.9346\n",
      "Epoch 90/150\n",
      "498/498 [==============================] - 2s 4ms/step - loss: 0.2200 - accuracy: 0.9197 - val_loss: 0.2282 - val_accuracy: 0.9346\n",
      "Epoch 91/150\n",
      "498/498 [==============================] - 2s 4ms/step - loss: 0.2522 - accuracy: 0.9157 - val_loss: 0.2289 - val_accuracy: 0.9346\n",
      "Epoch 92/150\n",
      "498/498 [==============================] - 2s 4ms/step - loss: 0.2219 - accuracy: 0.9157 - val_loss: 0.2292 - val_accuracy: 0.9346\n",
      "Epoch 93/150\n",
      "498/498 [==============================] - 2s 4ms/step - loss: 0.2669 - accuracy: 0.9137 - val_loss: 0.2287 - val_accuracy: 0.9346\n",
      "Epoch 94/150\n",
      "498/498 [==============================] - 2s 4ms/step - loss: 0.2700 - accuracy: 0.9056 - val_loss: 0.2292 - val_accuracy: 0.9346\n",
      "Epoch 95/150\n",
      "498/498 [==============================] - 2s 4ms/step - loss: 0.2013 - accuracy: 0.9277 - val_loss: 0.2294 - val_accuracy: 0.9346\n",
      "Epoch 96/150\n",
      "498/498 [==============================] - 2s 4ms/step - loss: 0.2132 - accuracy: 0.9116 - val_loss: 0.2299 - val_accuracy: 0.9346\n",
      "Epoch 97/150\n",
      "498/498 [==============================] - 2s 4ms/step - loss: 0.2150 - accuracy: 0.9157 - val_loss: 0.2298 - val_accuracy: 0.9346\n",
      "Epoch 98/150\n",
      "498/498 [==============================] - 2s 4ms/step - loss: 0.2344 - accuracy: 0.9237 - val_loss: 0.2295 - val_accuracy: 0.9346\n",
      "Epoch 99/150\n",
      "498/498 [==============================] - 2s 4ms/step - loss: 0.2172 - accuracy: 0.9237 - val_loss: 0.2291 - val_accuracy: 0.9346\n",
      "Epoch 100/150\n",
      "498/498 [==============================] - 2s 4ms/step - loss: 0.2392 - accuracy: 0.9137 - val_loss: 0.2286 - val_accuracy: 0.9346\n",
      "Epoch 101/150\n",
      "498/498 [==============================] - 2s 4ms/step - loss: 0.2149 - accuracy: 0.9197 - val_loss: 0.2292 - val_accuracy: 0.9346\n",
      "Epoch 102/150\n",
      "498/498 [==============================] - 2s 4ms/step - loss: 0.2463 - accuracy: 0.9036 - val_loss: 0.2299 - val_accuracy: 0.9346\n",
      "Epoch 103/150\n",
      "498/498 [==============================] - 2s 4ms/step - loss: 0.2444 - accuracy: 0.9217 - val_loss: 0.2296 - val_accuracy: 0.9346\n",
      "Epoch 104/150\n",
      "498/498 [==============================] - 2s 4ms/step - loss: 0.2300 - accuracy: 0.9157 - val_loss: 0.2301 - val_accuracy: 0.9346\n",
      "Epoch 105/150\n",
      "498/498 [==============================] - 2s 4ms/step - loss: 0.2286 - accuracy: 0.9157 - val_loss: 0.2316 - val_accuracy: 0.9346\n",
      "Epoch 106/150\n",
      "498/498 [==============================] - 2s 4ms/step - loss: 0.2463 - accuracy: 0.9257 - val_loss: 0.2324 - val_accuracy: 0.9346\n",
      "Epoch 107/150\n",
      "498/498 [==============================] - 2s 4ms/step - loss: 0.2276 - accuracy: 0.9197 - val_loss: 0.2328 - val_accuracy: 0.9346\n",
      "Epoch 108/150\n",
      "498/498 [==============================] - 2s 4ms/step - loss: 0.1746 - accuracy: 0.9277 - val_loss: 0.2320 - val_accuracy: 0.9346\n",
      "Epoch 109/150\n",
      "498/498 [==============================] - 2s 4ms/step - loss: 0.1781 - accuracy: 0.9297 - val_loss: 0.2325 - val_accuracy: 0.9346\n",
      "Epoch 110/150\n",
      "498/498 [==============================] - 2s 4ms/step - loss: 0.2433 - accuracy: 0.8996 - val_loss: 0.2323 - val_accuracy: 0.9346\n",
      "Epoch 111/150\n",
      "498/498 [==============================] - 2s 4ms/step - loss: 0.1809 - accuracy: 0.9257 - val_loss: 0.2326 - val_accuracy: 0.9346\n",
      "Epoch 112/150\n",
      "498/498 [==============================] - 2s 4ms/step - loss: 0.2061 - accuracy: 0.9157 - val_loss: 0.2320 - val_accuracy: 0.9346\n",
      "Epoch 113/150\n",
      "498/498 [==============================] - 2s 4ms/step - loss: 0.1801 - accuracy: 0.9257 - val_loss: 0.2324 - val_accuracy: 0.9346\n",
      "Epoch 114/150\n",
      "498/498 [==============================] - 2s 4ms/step - loss: 0.2147 - accuracy: 0.9217 - val_loss: 0.2317 - val_accuracy: 0.9346\n",
      "Epoch 115/150\n",
      "498/498 [==============================] - 2s 4ms/step - loss: 0.2130 - accuracy: 0.9217 - val_loss: 0.2316 - val_accuracy: 0.9346\n",
      "Epoch 116/150\n",
      "498/498 [==============================] - 2s 4ms/step - loss: 0.2212 - accuracy: 0.9217 - val_loss: 0.2312 - val_accuracy: 0.9346\n",
      "Epoch 117/150\n",
      "498/498 [==============================] - 2s 4ms/step - loss: 0.2382 - accuracy: 0.9137 - val_loss: 0.2310 - val_accuracy: 0.9346\n",
      "Epoch 118/150\n",
      "498/498 [==============================] - 2s 4ms/step - loss: 0.2474 - accuracy: 0.9277 - val_loss: 0.2308 - val_accuracy: 0.9346\n",
      "Epoch 119/150\n",
      "498/498 [==============================] - 2s 4ms/step - loss: 0.1847 - accuracy: 0.9398 - val_loss: 0.2311 - val_accuracy: 0.9346\n",
      "Epoch 120/150\n",
      "498/498 [==============================] - 2s 4ms/step - loss: 0.1785 - accuracy: 0.9217 - val_loss: 0.2317 - val_accuracy: 0.9346\n",
      "Epoch 121/150\n",
      "498/498 [==============================] - 2s 4ms/step - loss: 0.2142 - accuracy: 0.9257 - val_loss: 0.2323 - val_accuracy: 0.9346\n",
      "Epoch 122/150\n",
      "498/498 [==============================] - 2s 4ms/step - loss: 0.2587 - accuracy: 0.9036 - val_loss: 0.2331 - val_accuracy: 0.9346\n",
      "Epoch 123/150\n",
      "498/498 [==============================] - 2s 4ms/step - loss: 0.2485 - accuracy: 0.9116 - val_loss: 0.2330 - val_accuracy: 0.9346\n",
      "Epoch 124/150\n",
      "498/498 [==============================] - 2s 4ms/step - loss: 0.2000 - accuracy: 0.9137 - val_loss: 0.2327 - val_accuracy: 0.9346\n",
      "Epoch 125/150\n",
      "498/498 [==============================] - 2s 4ms/step - loss: 0.2204 - accuracy: 0.9116 - val_loss: 0.2328 - val_accuracy: 0.9346\n",
      "Epoch 126/150\n",
      "498/498 [==============================] - 2s 4ms/step - loss: 0.2002 - accuracy: 0.9257 - val_loss: 0.2326 - val_accuracy: 0.9346\n",
      "Epoch 127/150\n",
      "498/498 [==============================] - 2s 4ms/step - loss: 0.2289 - accuracy: 0.9197 - val_loss: 0.2326 - val_accuracy: 0.9346\n",
      "Epoch 128/150\n",
      "498/498 [==============================] - 2s 4ms/step - loss: 0.2084 - accuracy: 0.9217 - val_loss: 0.2315 - val_accuracy: 0.9346\n",
      "Epoch 129/150\n",
      "498/498 [==============================] - 2s 4ms/step - loss: 0.2414 - accuracy: 0.9157 - val_loss: 0.2309 - val_accuracy: 0.9346\n",
      "Epoch 130/150\n",
      "498/498 [==============================] - 2s 4ms/step - loss: 0.2497 - accuracy: 0.8976 - val_loss: 0.2311 - val_accuracy: 0.9346\n",
      "Epoch 131/150\n",
      "498/498 [==============================] - 2s 4ms/step - loss: 0.1998 - accuracy: 0.9137 - val_loss: 0.2318 - val_accuracy: 0.9346\n",
      "Epoch 132/150\n",
      "498/498 [==============================] - 2s 4ms/step - loss: 0.2480 - accuracy: 0.9096 - val_loss: 0.2320 - val_accuracy: 0.9346\n",
      "Epoch 133/150\n",
      "498/498 [==============================] - 2s 4ms/step - loss: 0.1707 - accuracy: 0.9317 - val_loss: 0.2317 - val_accuracy: 0.9393\n",
      "Epoch 134/150\n",
      "498/498 [==============================] - 2s 4ms/step - loss: 0.2001 - accuracy: 0.9257 - val_loss: 0.2316 - val_accuracy: 0.9393\n",
      "Epoch 135/150\n",
      "498/498 [==============================] - 2s 4ms/step - loss: 0.2017 - accuracy: 0.9157 - val_loss: 0.2320 - val_accuracy: 0.9393\n",
      "Epoch 136/150\n",
      "498/498 [==============================] - 2s 4ms/step - loss: 0.2065 - accuracy: 0.9217 - val_loss: 0.2329 - val_accuracy: 0.9346\n",
      "Epoch 137/150\n",
      "498/498 [==============================] - 2s 4ms/step - loss: 0.2333 - accuracy: 0.9177 - val_loss: 0.2326 - val_accuracy: 0.9346\n",
      "Epoch 138/150\n",
      "498/498 [==============================] - 2s 4ms/step - loss: 0.2039 - accuracy: 0.9297 - val_loss: 0.2317 - val_accuracy: 0.9346\n",
      "Epoch 139/150\n",
      "498/498 [==============================] - 2s 4ms/step - loss: 0.1689 - accuracy: 0.9317 - val_loss: 0.2314 - val_accuracy: 0.9346\n",
      "Epoch 140/150\n",
      "498/498 [==============================] - 2s 4ms/step - loss: 0.2112 - accuracy: 0.9177 - val_loss: 0.2309 - val_accuracy: 0.9346\n",
      "Epoch 141/150\n",
      "498/498 [==============================] - 2s 4ms/step - loss: 0.1661 - accuracy: 0.9418 - val_loss: 0.2312 - val_accuracy: 0.9346\n",
      "Epoch 142/150\n",
      "498/498 [==============================] - 2s 4ms/step - loss: 0.1919 - accuracy: 0.9237 - val_loss: 0.2313 - val_accuracy: 0.9346\n",
      "Epoch 143/150\n",
      "498/498 [==============================] - 2s 4ms/step - loss: 0.1831 - accuracy: 0.9357 - val_loss: 0.2303 - val_accuracy: 0.9346\n",
      "Epoch 144/150\n",
      "498/498 [==============================] - 2s 4ms/step - loss: 0.1986 - accuracy: 0.9317 - val_loss: 0.2300 - val_accuracy: 0.9346\n",
      "Epoch 145/150\n",
      "498/498 [==============================] - 2s 4ms/step - loss: 0.1899 - accuracy: 0.9317 - val_loss: 0.2298 - val_accuracy: 0.9346\n",
      "Epoch 146/150\n",
      "498/498 [==============================] - 2s 4ms/step - loss: 0.1667 - accuracy: 0.9317 - val_loss: 0.2296 - val_accuracy: 0.9346\n",
      "Epoch 147/150\n",
      "498/498 [==============================] - 2s 4ms/step - loss: 0.1967 - accuracy: 0.9257 - val_loss: 0.2304 - val_accuracy: 0.9346\n",
      "Epoch 148/150\n",
      "498/498 [==============================] - 2s 4ms/step - loss: 0.1619 - accuracy: 0.9297 - val_loss: 0.2305 - val_accuracy: 0.9346\n",
      "Epoch 149/150\n",
      "498/498 [==============================] - 2s 5ms/step - loss: 0.1951 - accuracy: 0.9257 - val_loss: 0.2307 - val_accuracy: 0.9346\n",
      "Epoch 150/150\n",
      "498/498 [==============================] - 2s 4ms/step - loss: 0.2051 - accuracy: 0.9277 - val_loss: 0.2309 - val_accuracy: 0.9346\n"
     ]
    }
   ],
   "source": [
    "epochs = 150\n",
    "model = Sequential()\n",
    "model.add(Conv1D(32, 2, activation='relu', input_shape=X_train[0].shape))\n",
    "model.add(BatchNormalization())\n",
    "model.add(Dropout(0.1))\n",
    "\n",
    "model.add(Conv1D(64, 2, activation='relu'))\n",
    "model.add(BatchNormalization())\n",
    "model.add(Dropout(0.2))\n",
    "\n",
    "model.add(Conv1D(128, 2, activation='relu'))\n",
    "model.add(BatchNormalization())\n",
    "model.add(Dropout(0.3))\n",
    "\n",
    "model.add(Flatten())\n",
    "model.add(Dropout(0.4))\n",
    "model.add(Dense(512, activation='relu'))\n",
    "model.add(Dropout(0.5))\n",
    "\n",
    "model.add(Dense(1, activation='sigmoid'))\n",
    "\n",
    "# weights = {0:1, 1:5}\n",
    "model.compile(optimizer=Adam(0.00001), loss='binary_crossentropy', metrics=[\"accuracy\"])\n",
    "r = model.fit(X_train, y_train, \n",
    "              validation_data=(X_validate, y_validate),\n",
    "              batch_size=50, \n",
    "              epochs=epochs, \n",
    "#               class_weight=weights\n",
    "             )"
   ]
  },
  {
   "cell_type": "code",
   "execution_count": 64,
   "metadata": {},
   "outputs": [
    {
     "name": "stdout",
     "output_type": "stream",
     "text": [
      "85443/85443 [==============================] - 97s 1ms/step\n",
      "[0.08371787144375702, 0.9781959652900696]\n"
     ]
    }
   ],
   "source": [
    "score = model.evaluate(X_test, y_test)\n",
    "print(score)"
   ]
  },
  {
   "cell_type": "code",
   "execution_count": 65,
   "metadata": {},
   "outputs": [
    {
     "data": {
      "text/plain": [
       "<matplotlib.legend.Legend at 0x2105178c080>"
      ]
     },
     "execution_count": 65,
     "metadata": {},
     "output_type": "execute_result"
    },
    {
     "data": {
      "image/png": "[encoded data removed]",
      "text/plain": [
       "<Figure size 864x576 with 2 Axes>"
      ]
     },
     "metadata": {},
     "output_type": "display_data"
    }
   ],
   "source": [
    "plt.figure(figsize=(12, 8))\n",
    "\n",
    "plt.subplot(2, 2, 1)\n",
    "plt.plot(r.history['loss'], label='Loss')\n",
    "plt.plot(r.history['val_loss'], label='val_Loss')\n",
    "plt.legend()\n",
    "\n",
    "plt.subplot(2, 2, 2)\n",
    "plt.plot(r.history['accuracy'], label='accuracy')\n",
    "plt.plot(r.history['val_accuracy'], label='val_accuracy')\n",
    "plt.legend()"
   ]
  },
  {
   "cell_type": "code",
   "execution_count": 66,
   "metadata": {},
   "outputs": [
    {
     "name": "stdout",
     "output_type": "stream",
     "text": [
      "Train Result:\n",
      "================================================\n",
      "Accuracy Score: 95.58%\n",
      "_______________________________________________\n",
      "Classification Report:\tPrecision Score: 99.18%\n",
      "\t\t\tRecall Score: 92.34%\n",
      "\t\t\tF1 score: 95.63%\n",
      "_______________________________________________\n",
      "Confusion Matrix: \n",
      " [[235   2]\n",
      " [ 20 241]]\n",
      "\n",
      "Test Result:\n",
      "================================================\n",
      "Accuracy Score: 97.82%\n",
      "_______________________________________________\n",
      "Classification Report:\tPrecision Score: 6.28%\n",
      "\t\t\tRecall Score: 91.18%\n",
      "\t\t\tF1 score: 11.75%\n",
      "_______________________________________________\n",
      "Confusion Matrix: \n",
      " [[83456  1851]\n",
      " [   12   124]]\n",
      "\n"
     ]
    }
   ],
   "source": [
    "y_train_pred = model.predict(X_train)\n",
    "y_test_pred = model.predict(X_test)\n",
    "\n",
    "print_score(y_train, y_train_pred.round(), train=True)\n",
    "print_score(y_test, y_test_pred.round(), train=False)"
   ]
  },
  {
   "cell_type": "code",
   "execution_count": null,
   "metadata": {},
   "outputs": [],
   "source": [
    "from xgboost import XGBClassifier\n",
    "\n",
    "xgb_model = XGBClassifier(n_estimators=500, \n",
    "                          learning_rate=0.1, \n",
    "                          base_score=0.99)\n",
    "xgb_model.fit(X_train, y_train)\n",
    "\n",
    "y_train_pred = xgb_model.predict(X_train)\n",
    "y_test_pred = xgb_model.predict(X_test)\n",
    "\n",
    "print_score(y_train, y_train_pred.round(), train=True)\n",
    "print_score(y_test, y_test_pred.round(), train=False)"
   ]
  }
 ],
 "metadata": {
  "kernelspec": {
   "display_name": "Python 3",
   "language": "python",
   "name": "python3"
  },
  "language_info": {
   "codemirror_mode": {
    "name": "ipython",
    "version": 3
   },
   "file_extension": ".py",
   "mimetype": "text/x-python",
   "name": "python",
   "nbconvert_exporter": "python",
   "pygments_lexer": "ipython3",
   "version": "3.7.3"
  }
 },
 "nbformat": 4,
 "nbformat_minor": 4
}
